{
 "cells": [
  {
   "cell_type": "code",
   "execution_count": 92,
   "metadata": {},
   "outputs": [
    {
     "name": "stderr",
     "output_type": "stream",
     "text": [
      "/var/folders/f2/gq8xgm9x491cqwtct_tgpy0h0000gn/T/ipykernel_3991/2052077244.py:11: DeprecationWarning: `set_matplotlib_formats` is deprecated since IPython 7.23, directly use `matplotlib_inline.backend_inline.set_matplotlib_formats()`\n",
      "  set_matplotlib_formats('svg', 'pdf') # For export\n"
     ]
    }
   ],
   "source": [
    "## Standard libraries\n",
    "import os\n",
    "import math\n",
    "import numpy as np\n",
    "import time\n",
    "\n",
    "## Imports for plotting\n",
    "import matplotlib.pyplot as plt\n",
    "%matplotlib inline\n",
    "from IPython.display import set_matplotlib_formats\n",
    "set_matplotlib_formats('svg', 'pdf') # For export\n",
    "from matplotlib.colors import to_rgba\n",
    "import seaborn as sns\n",
    "sns.set()\n",
    "\n",
    "## Progress bar\n",
    "from tqdm.auto import tqdm"
   ]
  },
  {
   "cell_type": "code",
   "execution_count": 93,
   "metadata": {},
   "outputs": [
    {
     "name": "stdout",
     "output_type": "stream",
     "text": [
      "Using jax 0.4.26\n"
     ]
    }
   ],
   "source": [
    "import jax\n",
    "import jax.numpy as jnp\n",
    "print(\"Using jax\", jax.__version__)"
   ]
  },
  {
   "cell_type": "code",
   "execution_count": 94,
   "metadata": {},
   "outputs": [
    {
     "name": "stdout",
     "output_type": "stream",
     "text": [
      "[[0. 0. 0. 0. 0.]\n",
      " [0. 0. 0. 0. 0.]]\n"
     ]
    }
   ],
   "source": [
    "a = jnp.zeros((2,5), dtype=jnp.float32)\n",
    "print(a)"
   ]
  },
  {
   "cell_type": "code",
   "execution_count": 95,
   "metadata": {},
   "outputs": [
    {
     "name": "stdout",
     "output_type": "stream",
     "text": [
      "[0 1 2 3 4 5]\n"
     ]
    }
   ],
   "source": [
    "b = jnp.arange(6)\n",
    "print(b)"
   ]
  },
  {
   "cell_type": "code",
   "execution_count": 96,
   "metadata": {},
   "outputs": [
    {
     "data": {
      "text/plain": [
       "jaxlib.xla_extension.ArrayImpl"
      ]
     },
     "execution_count": 96,
     "metadata": {},
     "output_type": "execute_result"
    }
   ],
   "source": [
    "b.__class__"
   ]
  },
  {
   "cell_type": "code",
   "execution_count": 97,
   "metadata": {},
   "outputs": [
    {
     "data": {
      "text/plain": [
       "<bound method ArrayImpl.device of Array([0, 1, 2, 3, 4, 5], dtype=int32)>"
      ]
     },
     "execution_count": 97,
     "metadata": {},
     "output_type": "execute_result"
    }
   ],
   "source": [
    "b.device"
   ]
  },
  {
   "cell_type": "code",
   "execution_count": 98,
   "metadata": {},
   "outputs": [
    {
     "name": "stdout",
     "output_type": "stream",
     "text": [
      "<class 'numpy.ndarray'>\n"
     ]
    }
   ],
   "source": [
    "b_cpu = jax.device_get(b)\n",
    "print(b_cpu.__class__)"
   ]
  },
  {
   "cell_type": "code",
   "execution_count": 99,
   "metadata": {},
   "outputs": [
    {
     "name": "stdout",
     "output_type": "stream",
     "text": [
      "Device put: <class 'jaxlib.xla_extension.ArrayImpl'> on {METAL(id=0)}\n"
     ]
    }
   ],
   "source": [
    "b_gpu = jax.device_put(b_cpu)\n",
    "print(f'Device put: {b_gpu.__class__} on {b_gpu.devices()}')"
   ]
  },
  {
   "cell_type": "code",
   "execution_count": 100,
   "metadata": {},
   "outputs": [
    {
     "data": {
      "text/plain": [
       "Array([ 0,  2,  4,  6,  8, 10], dtype=int32)"
      ]
     },
     "execution_count": 100,
     "metadata": {},
     "output_type": "execute_result"
    }
   ],
   "source": [
    "b_cpu + b_gpu"
   ]
  },
  {
   "cell_type": "code",
   "execution_count": 101,
   "metadata": {},
   "outputs": [
    {
     "name": "stdout",
     "output_type": "stream",
     "text": [
      "Original array: [0 1 2 3 4 5]\n",
      "Changed array: [1 1 2 3 4 5]\n"
     ]
    }
   ],
   "source": [
    "b_new = b.at[0].set(1)\n",
    "print('Original array:', b)\n",
    "print('Changed array:', b_new)"
   ]
  },
  {
   "cell_type": "code",
   "execution_count": 102,
   "metadata": {},
   "outputs": [],
   "source": [
    "rng = jax.random.PRNGKey(42)"
   ]
  },
  {
   "cell_type": "code",
   "execution_count": 103,
   "metadata": {},
   "outputs": [
    {
     "name": "stdout",
     "output_type": "stream",
     "text": [
      "JAX - Random number 1: -0.9350606\n",
      "JAX - Random number 2: -0.9350606\n"
     ]
    }
   ],
   "source": [
    "jax_random_number_1 = jax.random.normal(rng)\n",
    "jax_random_number_2 = jax.random.normal(rng)\n",
    "print('JAX - Random number 1:', jax_random_number_1)\n",
    "print('JAX - Random number 2:', jax_random_number_2)"
   ]
  },
  {
   "cell_type": "code",
   "execution_count": 104,
   "metadata": {},
   "outputs": [
    {
     "name": "stdout",
     "output_type": "stream",
     "text": [
      "NumPy - Random number 1: 0.4967141530112327\n",
      "NumPy - Random number 2: -0.13826430117118466\n"
     ]
    }
   ],
   "source": [
    "np.random.seed(42)\n",
    "np_random_number_1 = np.random.normal()\n",
    "np_random_number_2 = np.random.normal()\n",
    "print('NumPy - Random number 1:', np_random_number_1)\n",
    "print('NumPy - Random number 2:', np_random_number_2)"
   ]
  },
  {
   "cell_type": "code",
   "execution_count": 105,
   "metadata": {},
   "outputs": [],
   "source": [
    "rng, subkey1, subkey2 = jax.random.split(rng,num=3) "
   ]
  },
  {
   "cell_type": "code",
   "execution_count": 106,
   "metadata": {},
   "outputs": [
    {
     "name": "stdout",
     "output_type": "stream",
     "text": [
      "JAX new - Random number 0: -0.5484217\n",
      "JAX new - Random number 1: -0.18267898\n",
      "JAX new - Random number 2: 0.7080024\n"
     ]
    }
   ],
   "source": [
    "#no splitting. I get the same numbers always\n",
    "jax_random_number_0 = jax.random.normal(rng)\n",
    "jax_random_number_1 = jax.random.normal(subkey1)\n",
    "jax_random_number_2 = jax.random.normal(subkey2)\n",
    "print('JAX new - Random number 0:', jax_random_number_0)\n",
    "print('JAX new - Random number 1:', jax_random_number_1)\n",
    "print('JAX new - Random number 2:', jax_random_number_2)"
   ]
  },
  {
   "cell_type": "code",
   "execution_count": 107,
   "metadata": {},
   "outputs": [
    {
     "name": "stdout",
     "output_type": "stream",
     "text": [
      "JAX new - Random number 0: -0.26986617\n",
      "JAX new - Random number 1: -0.4367844\n",
      "JAX new - Random number 2: -0.082964614\n"
     ]
    }
   ],
   "source": [
    "#every time i run this cell i well get different values\n",
    "rng, subkey1, subkey2 = jax.random.split(rng,num=3) \n",
    "jax_random_number_0 = jax.random.normal(rng)\n",
    "jax_random_number_1 = jax.random.normal(subkey1)\n",
    "jax_random_number_2 = jax.random.normal(subkey2)\n",
    "print('JAX new - Random number 0:', jax_random_number_0)\n",
    "print('JAX new - Random number 1:', jax_random_number_1)\n",
    "print('JAX new - Random number 2:', jax_random_number_2)"
   ]
  },
  {
   "cell_type": "markdown",
   "metadata": {},
   "source": [
    "## Tutorial 101"
   ]
  },
  {
   "cell_type": "code",
   "execution_count": 108,
   "metadata": {},
   "outputs": [
    {
     "data": {
      "text/plain": [
       "Array([0, 1, 2, 3, 4, 5, 6, 7, 8, 9], dtype=int32)"
      ]
     },
     "execution_count": 108,
     "metadata": {},
     "output_type": "execute_result"
    }
   ],
   "source": [
    "x = jnp.arange(10)\n",
    "x"
   ]
  },
  {
   "cell_type": "code",
   "execution_count": 109,
   "metadata": {},
   "outputs": [
    {
     "data": {
      "text/plain": [
       "jaxlib.xla_extension.ArrayImpl"
      ]
     },
     "execution_count": 109,
     "metadata": {},
     "output_type": "execute_result"
    }
   ],
   "source": [
    "long_vector = jnp.arange(int(1e8))\n",
    "long_vector.__class__"
   ]
  },
  {
   "cell_type": "code",
   "execution_count": 110,
   "metadata": {},
   "outputs": [
    {
     "name": "stdout",
     "output_type": "stream",
     "text": [
      "4.46 ms ± 488 µs per loop (mean ± std. dev. of 7 runs, 100 loops each)\n"
     ]
    }
   ],
   "source": [
    "%timeit jnp.dot(long_vector, long_vector).block_until_ready()"
   ]
  },
  {
   "cell_type": "code",
   "execution_count": 111,
   "metadata": {},
   "outputs": [
    {
     "data": {
      "text/plain": [
       "numpy.ndarray"
      ]
     },
     "execution_count": 111,
     "metadata": {},
     "output_type": "execute_result"
    }
   ],
   "source": [
    "cpu_long_vector = jax.device_get(long_vector)\n",
    "cpu_long_vector.__class__"
   ]
  },
  {
   "cell_type": "code",
   "execution_count": 112,
   "metadata": {},
   "outputs": [
    {
     "name": "stdout",
     "output_type": "stream",
     "text": [
      "3.27 ms ± 616 µs per loop (mean ± std. dev. of 7 runs, 100 loops each)\n"
     ]
    }
   ],
   "source": [
    "%timeit jnp.dot(long_vector, long_vector).block_until_ready()"
   ]
  },
  {
   "cell_type": "code",
   "execution_count": 113,
   "metadata": {},
   "outputs": [],
   "source": [
    "def sum_of_squares(x):\n",
    "    return jnp.sum(x**2)"
   ]
  },
  {
   "cell_type": "code",
   "execution_count": 114,
   "metadata": {},
   "outputs": [
    {
     "name": "stdout",
     "output_type": "stream",
     "text": [
      "<class 'jaxlib.xla_extension.ArrayImpl'>\n",
      "30.0\n",
      "[2. 4. 6. 8.]\n"
     ]
    }
   ],
   "source": [
    "sum_of_squares_dx = jax.grad(sum_of_squares)\n",
    "x = jnp.asarray([1.0,2.0,3.0,4.0])\n",
    "print(x.__class__)\n",
    "print(sum_of_squares(x))\n",
    "print(sum_of_squares_dx(x))"
   ]
  },
  {
   "cell_type": "code",
   "execution_count": 115,
   "metadata": {},
   "outputs": [
    {
     "name": "stdout",
     "output_type": "stream",
     "text": [
      "0.039999947\n",
      "[-0.20000005 -0.19999981 -0.19999981 -0.19999981]\n"
     ]
    }
   ],
   "source": [
    "def sum_squared_error(x,y):\n",
    "    return jnp.sum((x-y)**2)\n",
    "sum_squared_error_dx = jax.grad(sum_squared_error)\n",
    "y = jnp.asarray([1.1,2.1,3.1,4.1])\n",
    "print(sum_squared_error(x,y))\n",
    "print(sum_squared_error_dx(x,y))"
   ]
  },
  {
   "cell_type": "code",
   "execution_count": 116,
   "metadata": {},
   "outputs": [
    {
     "data": {
      "text/plain": [
       "(Array([-0.20000005, -0.19999981, -0.19999981, -0.19999981], dtype=float32),\n",
       " Array([0.20000005, 0.19999981, 0.19999981, 0.19999981], dtype=float32))"
      ]
     },
     "execution_count": 116,
     "metadata": {},
     "output_type": "execute_result"
    }
   ],
   "source": [
    "jax.grad(sum_squared_error, argnums=(0, 1))(x, y)  # Find gradient wrt both x & y"
   ]
  },
  {
   "cell_type": "code",
   "execution_count": 117,
   "metadata": {},
   "outputs": [],
   "source": [
    "def simple_graph(x):\n",
    "    x = x + 2\n",
    "    x = x ** 2\n",
    "    x = x + 3\n",
    "    y = x.mean()\n",
    "    return y"
   ]
  },
  {
   "cell_type": "code",
   "execution_count": 118,
   "metadata": {},
   "outputs": [
    {
     "data": {
      "text/plain": [
       "jaxlib.xla_extension.ArrayImpl"
      ]
     },
     "execution_count": 118,
     "metadata": {},
     "output_type": "execute_result"
    }
   ],
   "source": [
    "inp = jnp.arange(3, dtype=jnp.float32)\n",
    "inp.__class__"
   ]
  },
  {
   "cell_type": "code",
   "execution_count": 119,
   "metadata": {},
   "outputs": [
    {
     "name": "stdout",
     "output_type": "stream",
     "text": [
      "Input [0. 1. 2.]\n",
      "Output 12.666667\n"
     ]
    }
   ],
   "source": [
    "print('Input', inp)\n",
    "print('Output', simple_graph(inp))"
   ]
  },
  {
   "cell_type": "code",
   "execution_count": 120,
   "metadata": {},
   "outputs": [
    {
     "data": {
      "text/plain": [
       "{ \u001b[34m\u001b[22m\u001b[1mlambda \u001b[39m\u001b[22m\u001b[22m; a\u001b[35m:f32[3]\u001b[39m. \u001b[34m\u001b[22m\u001b[1mlet\n",
       "    \u001b[39m\u001b[22m\u001b[22mb\u001b[35m:f32[3]\u001b[39m = add a 2.0\n",
       "    c\u001b[35m:f32[3]\u001b[39m = integer_pow[y=2] b\n",
       "    d\u001b[35m:f32[3]\u001b[39m = add c 3.0\n",
       "    e\u001b[35m:f32[]\u001b[39m = reduce_sum[axes=(0,)] d\n",
       "    f\u001b[35m:f32[]\u001b[39m = div e 3.0\n",
       "  \u001b[34m\u001b[22m\u001b[1min \u001b[39m\u001b[22m\u001b[22m(f,) }"
      ]
     },
     "execution_count": 120,
     "metadata": {},
     "output_type": "execute_result"
    }
   ],
   "source": [
    "jax.make_jaxpr(simple_graph)(inp)"
   ]
  },
  {
   "cell_type": "code",
   "execution_count": 121,
   "metadata": {},
   "outputs": [
    {
     "data": {
      "text/plain": [
       "{ \u001b[34m\u001b[22m\u001b[1mlambda \u001b[39m\u001b[22m\u001b[22m; a\u001b[35m:f32[3]\u001b[39m. \u001b[34m\u001b[22m\u001b[1mlet\n",
       "    \u001b[39m\u001b[22m\u001b[22mb\u001b[35m:f32[3]\u001b[39m = integer_pow[y=2] a\n",
       "    c\u001b[35m:f32[]\u001b[39m = reduce_sum[axes=(0,)] b\n",
       "    d\u001b[35m:f32[]\u001b[39m = sqrt c\n",
       "  \u001b[34m\u001b[22m\u001b[1min \u001b[39m\u001b[22m\u001b[22m(d,) }"
      ]
     },
     "execution_count": 121,
     "metadata": {},
     "output_type": "execute_result"
    }
   ],
   "source": [
    "global_list = []\n",
    "\n",
    "# Invalid function with side-effect\n",
    "def norm(x):\n",
    "    global_list.append(x) #does not contain any operation for this one\n",
    "    x = x ** 2\n",
    "    n = x.sum()\n",
    "    n = jnp.sqrt(n)\n",
    "    return n\n",
    "\n",
    "jax.make_jaxpr(norm)(inp)"
   ]
  },
  {
   "cell_type": "code",
   "execution_count": 122,
   "metadata": {},
   "outputs": [
    {
     "name": "stdout",
     "output_type": "stream",
     "text": [
      "Gradient [1.3333334 2.        2.6666667]\n"
     ]
    }
   ],
   "source": [
    "grad_function = jax.grad(simple_graph)\n",
    "gradients = grad_function(inp)\n",
    "print('Gradient', gradients)"
   ]
  },
  {
   "cell_type": "code",
   "execution_count": 123,
   "metadata": {},
   "outputs": [
    {
     "data": {
      "text/plain": [
       "{ \u001b[34m\u001b[22m\u001b[1mlambda \u001b[39m\u001b[22m\u001b[22m; a\u001b[35m:f32[3]\u001b[39m. \u001b[34m\u001b[22m\u001b[1mlet\n",
       "    \u001b[39m\u001b[22m\u001b[22mb\u001b[35m:f32[3]\u001b[39m = add a 2.0\n",
       "    c\u001b[35m:f32[3]\u001b[39m = integer_pow[y=2] b\n",
       "    d\u001b[35m:f32[3]\u001b[39m = integer_pow[y=1] b\n",
       "    e\u001b[35m:f32[3]\u001b[39m = mul 2.0 d\n",
       "    f\u001b[35m:f32[3]\u001b[39m = add c 3.0\n",
       "    g\u001b[35m:f32[]\u001b[39m = reduce_sum[axes=(0,)] f\n",
       "    _\u001b[35m:f32[]\u001b[39m = div g 3.0\n",
       "    h\u001b[35m:f32[]\u001b[39m = div 1.0 3.0\n",
       "    i\u001b[35m:f32[3]\u001b[39m = broadcast_in_dim[broadcast_dimensions=() shape=(3,)] h\n",
       "    j\u001b[35m:f32[3]\u001b[39m = mul i e\n",
       "  \u001b[34m\u001b[22m\u001b[1min \u001b[39m\u001b[22m\u001b[22m(j,) }"
      ]
     },
     "execution_count": 123,
     "metadata": {},
     "output_type": "execute_result"
    }
   ],
   "source": [
    "jax.make_jaxpr(grad_function)(inp)"
   ]
  },
  {
   "cell_type": "code",
   "execution_count": 124,
   "metadata": {},
   "outputs": [
    {
     "data": {
      "text/plain": [
       "(Array(12.666667, dtype=float32),\n",
       " Array([1.3333334, 2.       , 2.6666667], dtype=float32))"
      ]
     },
     "execution_count": 124,
     "metadata": {},
     "output_type": "execute_result"
    }
   ],
   "source": [
    "# when we just want to get the value\n",
    "val_grad_function = jax.value_and_grad(simple_graph)\n",
    "val_grad_function(inp)"
   ]
  },
  {
   "cell_type": "code",
   "execution_count": 125,
   "metadata": {},
   "outputs": [],
   "source": [
    "jitted_function = jax.jit(simple_graph)"
   ]
  },
  {
   "cell_type": "code",
   "execution_count": 126,
   "metadata": {},
   "outputs": [],
   "source": [
    "rng, normal_rng = jax.random.split(rng)\n"
   ]
  },
  {
   "cell_type": "code",
   "execution_count": 127,
   "metadata": {},
   "outputs": [],
   "source": [
    "large_input = jax.random.normal(normal_rng, (1000,))\n",
    "_ = jitted_function(large_input)"
   ]
  },
  {
   "cell_type": "code",
   "execution_count": 128,
   "metadata": {},
   "outputs": [
    {
     "name": "stdout",
     "output_type": "stream",
     "text": [
      "787 µs ± 15.3 µs per loop (mean ± std. dev. of 7 runs, 1,000 loops each)\n"
     ]
    }
   ],
   "source": [
    "%%timeit\n",
    "simple_graph(large_input).block_until_ready()"
   ]
  },
  {
   "cell_type": "code",
   "execution_count": 129,
   "metadata": {},
   "outputs": [
    {
     "name": "stdout",
     "output_type": "stream",
     "text": [
      "279 µs ± 11.1 µs per loop (mean ± std. dev. of 7 runs, 1,000 loops each)\n"
     ]
    }
   ],
   "source": [
    "%%timeit\n",
    "jitted_function(large_input).block_until_ready()"
   ]
  },
  {
   "cell_type": "code",
   "execution_count": 130,
   "metadata": {},
   "outputs": [],
   "source": [
    "jitted_grad_function = jax.jit(grad_function)\n",
    "_ = jitted_grad_function(large_input) "
   ]
  },
  {
   "cell_type": "code",
   "execution_count": 131,
   "metadata": {},
   "outputs": [
    {
     "name": "stdout",
     "output_type": "stream",
     "text": [
      "3.35 ms ± 65.1 µs per loop (mean ± std. dev. of 7 runs, 100 loops each)\n"
     ]
    }
   ],
   "source": [
    "%%timeit\n",
    "grad_function(large_input).block_until_ready()"
   ]
  },
  {
   "cell_type": "code",
   "execution_count": 132,
   "metadata": {},
   "outputs": [
    {
     "name": "stdout",
     "output_type": "stream",
     "text": [
      "238 µs ± 5.9 µs per loop (mean ± std. dev. of 7 runs, 1,000 loops each)\n"
     ]
    }
   ],
   "source": [
    "%%timeit\n",
    "jitted_grad_function(large_input).block_until_ready()"
   ]
  },
  {
   "cell_type": "code",
   "execution_count": 133,
   "metadata": {},
   "outputs": [],
   "source": [
    "from flax import linen as nn\n"
   ]
  },
  {
   "cell_type": "code",
   "execution_count": 134,
   "metadata": {},
   "outputs": [],
   "source": [
    "class SimpleClassifier(nn.Module):\n",
    "    num_hidden : int   # Number of hidden neurons\n",
    "    num_outputs : int  # Number of output neurons\n",
    "\n",
    "    def setup(self):\n",
    "        # Create the modules we need to build the network\n",
    "        # nn.Dense is a linear layer\n",
    "        self.linear1 = nn.Dense(features=self.num_hidden)\n",
    "        self.linear2 = nn.Dense(features=self.num_outputs)\n",
    "\n",
    "    def __call__(self, x):\n",
    "        # Perform the calculation of the model to determine the prediction\n",
    "        x = self.linear1(x)\n",
    "        x = nn.tanh(x)\n",
    "        x = self.linear2(x)\n",
    "        return x"
   ]
  },
  {
   "cell_type": "code",
   "execution_count": 136,
   "metadata": {},
   "outputs": [],
   "source": [
    "#simpler way of creating a simple classifier\n",
    "class SimpleClassifierCompact(nn.Module):\n",
    "    num_hidden : int  \n",
    "    num_outputs : int\n",
    "\n",
    "    @nn.compact  # Tells Flax to look for defined submodules\n",
    "    def __call__(self, x):\n",
    "        # Perform the calculation of the model to determine the prediction\n",
    "        # while defining necessary layers\n",
    "        x = nn.Dense(features=self.num_hidden)(x)\n",
    "        x = nn.tanh(x)\n",
    "        x = nn.Dense(features=self.num_outputs)(x)\n",
    "        return x"
   ]
  },
  {
   "cell_type": "code",
   "execution_count": 137,
   "metadata": {},
   "outputs": [
    {
     "name": "stdout",
     "output_type": "stream",
     "text": [
      "SimpleClassifier(\n",
      "    # attributes\n",
      "    num_hidden = 8\n",
      "    num_outputs = 1\n",
      ")\n"
     ]
    }
   ],
   "source": [
    "#creating instance of the model\n",
    "model = SimpleClassifier(num_hidden=8,num_outputs=1)\n",
    "print(model)"
   ]
  },
  {
   "cell_type": "code",
   "execution_count": 141,
   "metadata": {},
   "outputs": [],
   "source": [
    "rng, inp_rng, init_rng = jax.random.split(rng,3)"
   ]
  },
  {
   "cell_type": "code",
   "execution_count": 145,
   "metadata": {},
   "outputs": [
    {
     "data": {
      "text/plain": [
       "Array([[-1.3439181 ,  0.6429476 ],\n",
       "       [-1.5676413 , -0.44147977],\n",
       "       [ 0.49920234, -0.36310518],\n",
       "       [ 0.8277361 , -0.02077403],\n",
       "       [ 0.4741161 , -0.35662487],\n",
       "       [-2.3667781 ,  0.9393318 ],\n",
       "       [ 0.16964886,  0.37653938],\n",
       "       [-0.5358841 ,  0.19641948]], dtype=float32)"
      ]
     },
     "execution_count": 145,
     "metadata": {},
     "output_type": "execute_result"
    }
   ],
   "source": [
    "\n",
    "inp = jax.random.normal(inp_rng,(8,2))\n",
    "inp"
   ]
  },
  {
   "cell_type": "code",
   "execution_count": 149,
   "metadata": {},
   "outputs": [
    {
     "name": "stdout",
     "output_type": "stream",
     "text": [
      "{'params': {'linear1': {'kernel': Array([[ 1.024376  , -1.052183  , -0.1483135 ,  1.2987319 ,  0.3865956 ,\n",
      "        -1.0295712 , -0.2703718 , -0.12079524],\n",
      "       [-0.52960914,  0.7966237 ,  0.89103186, -1.1658981 ,  0.95768267,\n",
      "         0.7459659 ,  0.5387747 , -1.2564553 ]], dtype=float32), 'bias': Array([0., 0., 0., 0., 0., 0., 0., 0.], dtype=float32)}, 'linear2': {'kernel': Array([[ 0.43645597],\n",
      "       [-0.39781412],\n",
      "       [ 0.06989034],\n",
      "       [-0.08034126],\n",
      "       [ 0.6816833 ],\n",
      "       [ 0.48783168],\n",
      "       [ 0.67914635],\n",
      "       [ 0.18095477]], dtype=float32), 'bias': Array([0.], dtype=float32)}}}\n"
     ]
    }
   ],
   "source": [
    "params = model.init(init_rng,inp)\n",
    "print(params)"
   ]
  },
  {
   "cell_type": "code",
   "execution_count": 155,
   "metadata": {},
   "outputs": [
    {
     "data": {
      "text/plain": [
       "Array([[ 0.17609759],\n",
       "       [-0.53406435],\n",
       "       [-0.1307149 ],\n",
       "       [ 0.19904903],\n",
       "       [-0.13222754],\n",
       "       [ 0.20863602],\n",
       "       [ 0.32784808],\n",
       "       [-0.00445377]], dtype=float32)"
      ]
     },
     "execution_count": 155,
     "metadata": {},
     "output_type": "execute_result"
    }
   ],
   "source": [
    "#apply the model on an input\n",
    "#one output neuron in the model for all 8 batch elements\n",
    "model.apply(params,inp)"
   ]
  },
  {
   "cell_type": "code",
   "execution_count": 157,
   "metadata": {},
   "outputs": [],
   "source": [
    "import torch.utils.data as data\n",
    "#The dataset class provides an uniform interface to access the training/test data, while the data loader makes sure to efficiently \n",
    "#load and stack the data points from the dataset into batches during training.\n",
    "\n"
   ]
  },
  {
   "cell_type": "code",
   "execution_count": 158,
   "metadata": {},
   "outputs": [],
   "source": [
    "class XORDataset(data.Dataset):\n",
    "\n",
    "    def __init__(self, size, seed, std=0.1):\n",
    "        \"\"\"\n",
    "        Inputs:\n",
    "            size - Number of data points we want to generate\n",
    "            seed - The seed to use to create the PRNG state with which we want to generate the data points\n",
    "            std - Standard deviation of the noise (see generate_continuous_xor function)\n",
    "        \"\"\"\n",
    "        super().__init__()\n",
    "        self.size = size\n",
    "        self.np_rng = np.random.RandomState(seed=seed)\n",
    "        self.std = std\n",
    "        self.generate_continuous_xor()\n",
    "\n",
    "    def generate_continuous_xor(self):\n",
    "        # Each data point in the XOR dataset has two variables, x and y, that can be either 0 or 1\n",
    "        # The label is their XOR combination, i.e. 1 if only x or only y is 1 while the other is 0.\n",
    "        # If x=y, the label is 0.\n",
    "        data = self.np_rng.randint(low=0, high=2, size=(self.size, 2)).astype(np.float32)\n",
    "        label = (data.sum(axis=1) == 1).astype(np.int32)\n",
    "        # To make it slightly more challenging, we add a bit of gaussian noise to the data points.\n",
    "        data += self.np_rng.normal(loc=0.0, scale=self.std, size=data.shape)\n",
    "\n",
    "        self.data = data\n",
    "        self.label = label\n",
    "\n",
    "    def __len__(self):\n",
    "        # Number of data point we have. Alternatively self.data.shape[0], or self.label.shape[0]\n",
    "        return self.size\n",
    "\n",
    "    def __getitem__(self, idx):\n",
    "        # Return the idx-th data point of the dataset\n",
    "        # If we have multiple things to return (data point and label), we can return them as tuple\n",
    "        data_point = self.data[idx]\n",
    "        data_label = self.label[idx]\n",
    "        return data_point, data_label"
   ]
  },
  {
   "cell_type": "code",
   "execution_count": 159,
   "metadata": {},
   "outputs": [
    {
     "name": "stdout",
     "output_type": "stream",
     "text": [
      "Size of dataset: 200\n",
      "Data point 0: (array([-0.06800247,  1.0232254 ], dtype=float32), 1)\n"
     ]
    }
   ],
   "source": [
    "dataset = XORDataset(size=200,seed=42)\n",
    "print(\"Size of dataset:\", len(dataset))\n",
    "print(\"Data point 0:\", dataset[0])"
   ]
  },
  {
   "cell_type": "code",
   "execution_count": 160,
   "metadata": {},
   "outputs": [],
   "source": [
    "def visualize_samples(data, label):\n",
    "    data_0 = data[label == 0]\n",
    "    data_1 = data[label == 1]\n",
    "\n",
    "    plt.figure(figsize=(4,4))\n",
    "    plt.scatter(data_0[:,0], data_0[:,1], edgecolor=\"#333\", label=\"Class 0\")\n",
    "    plt.scatter(data_1[:,0], data_1[:,1], edgecolor=\"#333\", label=\"Class 1\")\n",
    "    plt.title(\"Dataset samples\")\n",
    "    plt.ylabel(r\"$x_2$\")\n",
    "    plt.xlabel(r\"$x_1$\")\n",
    "    plt.legend()"
   ]
  },
  {
   "cell_type": "code",
   "execution_count": 161,
   "metadata": {},
   "outputs": [
    {
     "data": {
      "application/pdf": "[encoded data removed]",
      "image/svg+xml": [
       "<?xml version=\"1.0\" encoding=\"utf-8\" standalone=\"no\"?>\n",
       "<!DOCTYPE svg PUBLIC \"-//W3C//DTD SVG 1.1//EN\"\n",
       "  \"http://www.w3.org/Graphics/SVG/1.1/DTD/svg11.dtd\">\n",
       "<svg xmlns:xlink=\"http://www.w3.org/1999/xlink\" width=\"283.789062pt\" height=\"285.283594pt\" viewBox=\"0 0 283.789062 285.283594\" xmlns=\"http://www.w3.org/2000/svg\" version=\"1.1\">\n",
       " <metadata>\n",
       "  <rdf:RDF xmlns:dc=\"http://purl.org/dc/elements/1.1/\" xmlns:cc=\"http://creativecommons.org/ns#\" xmlns:rdf=\"http://www.w3.org/1999/02/22-rdf-syntax-ns#\">\n",
       "   <cc:Work>\n",
       "    <dc:type rdf:resource=\"http://purl.org/dc/dcmitype/StillImage\"/>\n",
       "    <dc:date>2024-04-17T11:29:58.200355</dc:date>\n",
       "    <dc:format>image/svg+xml</dc:format>\n",
       "    <dc:creator>\n",
       "     <cc:Agent>\n",
       "      <dc:title>Matplotlib v3.8.4, https://matplotlib.org/</dc:title>\n",
       "     </cc:Agent>\n",
       "    </dc:creator>\n",
       "   </cc:Work>\n",
       "  </rdf:RDF>\n",
       " </metadata>\n",
       " <defs>\n",
       "  <style type=\"text/css\">*{stroke-linejoin: round; stroke-linecap: butt}</style>\n",
       " </defs>\n",
       " <g id=\"figure_1\">\n",
       "  <g id=\"patch_1\">\n",
       "   <path d=\"M 0 285.283594 \n",
       "L 283.789062 285.283594 \n",
       "L 283.789062 0 \n",
       "L 0 0 \n",
       "z\n",
       "\" style=\"fill: #ffffff\"/>\n",
       "  </g>\n",
       "  <g id=\"axes_1\">\n",
       "   <g id=\"patch_2\">\n",
       "    <path d=\"M 53.389062 243.549375 \n",
       "L 276.589063 243.549375 \n",
       "L 276.589063 21.789375 \n",
       "L 53.389062 21.789375 \n",
       "z\n",
       "\" style=\"fill: #eaeaf2\"/>\n",
       "   </g>\n",
       "   <g id=\"matplotlib.axis_1\">\n",
       "    <g id=\"xtick_1\">\n",
       "     <g id=\"line2d_1\">\n",
       "      <path d=\"M 92.702913 243.549375 \n",
       "L 92.702913 21.789375 \n",
       "\" clip-path=\"url(#p2d612d7fff)\" style=\"fill: none; stroke: #ffffff; stroke-linecap: round\"/>\n",
       "     </g>\n",
       "     <g id=\"text_1\">\n",
       "      <!-- 0.0 -->\n",
       "      <g style=\"fill: #262626\" transform=\"translate(85.057913 260.922969) scale(0.11 -0.11)\">\n",
       "       <defs>\n",
       "        <path id=\"ArialMT-30\" d=\"M 266 2259 \n",
       "Q 266 3072 433 3567 \n",
       "Q 600 4063 929 4331 \n",
       "Q 1259 4600 1759 4600 \n",
       "Q 2128 4600 2406 4451 \n",
       "Q 2684 4303 2865 4023 \n",
       "Q 3047 3744 3150 3342 \n",
       "Q 3253 2941 3253 2259 \n",
       "Q 3253 1453 3087 958 \n",
       "Q 2922 463 2592 192 \n",
       "Q 2263 -78 1759 -78 \n",
       "Q 1097 -78 719 397 \n",
       "Q 266 969 266 2259 \n",
       "z\n",
       "M 844 2259 \n",
       "Q 844 1131 1108 757 \n",
       "Q 1372 384 1759 384 \n",
       "Q 2147 384 2411 759 \n",
       "Q 2675 1134 2675 2259 \n",
       "Q 2675 3391 2411 3762 \n",
       "Q 2147 4134 1753 4134 \n",
       "Q 1366 4134 1134 3806 \n",
       "Q 844 3388 844 2259 \n",
       "z\n",
       "\" transform=\"scale(0.015625)\"/>\n",
       "        <path id=\"ArialMT-2e\" d=\"M 581 0 \n",
       "L 581 641 \n",
       "L 1222 641 \n",
       "L 1222 0 \n",
       "L 581 0 \n",
       "z\n",
       "\" transform=\"scale(0.015625)\"/>\n",
       "       </defs>\n",
       "       <use xlink:href=\"#ArialMT-30\"/>\n",
       "       <use xlink:href=\"#ArialMT-2e\" x=\"55.615234\"/>\n",
       "       <use xlink:href=\"#ArialMT-30\" x=\"83.398438\"/>\n",
       "      </g>\n",
       "     </g>\n",
       "    </g>\n",
       "    <g id=\"xtick_2\">\n",
       "     <g id=\"line2d_2\">\n",
       "      <path d=\"M 163.245145 243.549375 \n",
       "L 163.245145 21.789375 \n",
       "\" clip-path=\"url(#p2d612d7fff)\" style=\"fill: none; stroke: #ffffff; stroke-linecap: round\"/>\n",
       "     </g>\n",
       "     <g id=\"text_2\">\n",
       "      <!-- 0.5 -->\n",
       "      <g style=\"fill: #262626\" transform=\"translate(155.600145 260.922969) scale(0.11 -0.11)\">\n",
       "       <defs>\n",
       "        <path id=\"ArialMT-35\" d=\"M 266 1200 \n",
       "L 856 1250 \n",
       "Q 922 819 1161 601 \n",
       "Q 1400 384 1738 384 \n",
       "Q 2144 384 2425 690 \n",
       "Q 2706 997 2706 1503 \n",
       "Q 2706 1984 2436 2262 \n",
       "Q 2166 2541 1728 2541 \n",
       "Q 1456 2541 1237 2417 \n",
       "Q 1019 2294 894 2097 \n",
       "L 366 2166 \n",
       "L 809 4519 \n",
       "L 3088 4519 \n",
       "L 3088 3981 \n",
       "L 1259 3981 \n",
       "L 1013 2750 \n",
       "Q 1425 3038 1878 3038 \n",
       "Q 2478 3038 2890 2622 \n",
       "Q 3303 2206 3303 1553 \n",
       "Q 3303 931 2941 478 \n",
       "Q 2500 -78 1738 -78 \n",
       "Q 1113 -78 717 272 \n",
       "Q 322 622 266 1200 \n",
       "z\n",
       "\" transform=\"scale(0.015625)\"/>\n",
       "       </defs>\n",
       "       <use xlink:href=\"#ArialMT-30\"/>\n",
       "       <use xlink:href=\"#ArialMT-2e\" x=\"55.615234\"/>\n",
       "       <use xlink:href=\"#ArialMT-35\" x=\"83.398438\"/>\n",
       "      </g>\n",
       "     </g>\n",
       "    </g>\n",
       "    <g id=\"xtick_3\">\n",
       "     <g id=\"line2d_3\">\n",
       "      <path d=\"M 233.787377 243.549375 \n",
       "L 233.787377 21.789375 \n",
       "\" clip-path=\"url(#p2d612d7fff)\" style=\"fill: none; stroke: #ffffff; stroke-linecap: round\"/>\n",
       "     </g>\n",
       "     <g id=\"text_3\">\n",
       "      <!-- 1.0 -->\n",
       "      <g style=\"fill: #262626\" transform=\"translate(226.142377 260.922969) scale(0.11 -0.11)\">\n",
       "       <defs>\n",
       "        <path id=\"ArialMT-31\" d=\"M 2384 0 \n",
       "L 1822 0 \n",
       "L 1822 3584 \n",
       "Q 1619 3391 1289 3197 \n",
       "Q 959 3003 697 2906 \n",
       "L 697 3450 \n",
       "Q 1169 3672 1522 3987 \n",
       "Q 1875 4303 2022 4600 \n",
       "L 2384 4600 \n",
       "L 2384 0 \n",
       "z\n",
       "\" transform=\"scale(0.015625)\"/>\n",
       "       </defs>\n",
       "       <use xlink:href=\"#ArialMT-31\"/>\n",
       "       <use xlink:href=\"#ArialMT-2e\" x=\"55.615234\"/>\n",
       "       <use xlink:href=\"#ArialMT-30\" x=\"83.398438\"/>\n",
       "      </g>\n",
       "     </g>\n",
       "    </g>\n",
       "    <g id=\"text_4\">\n",
       "     <!-- $x_1$ -->\n",
       "     <g style=\"fill: #262626\" transform=\"translate(158.569063 275.698594) scale(0.12 -0.12)\">\n",
       "      <defs>\n",
       "       <path id=\"DejaVuSans-Oblique-78\" d=\"M 3841 3500 \n",
       "L 2234 1784 \n",
       "L 3219 0 \n",
       "L 2559 0 \n",
       "L 1819 1388 \n",
       "L 531 0 \n",
       "L -166 0 \n",
       "L 1556 1844 \n",
       "L 641 3500 \n",
       "L 1300 3500 \n",
       "L 1972 2234 \n",
       "L 3144 3500 \n",
       "L 3841 3500 \n",
       "z\n",
       "\" transform=\"scale(0.015625)\"/>\n",
       "       <path id=\"DejaVuSans-31\" d=\"M 794 531 \n",
       "L 1825 531 \n",
       "L 1825 4091 \n",
       "L 703 3866 \n",
       "L 703 4441 \n",
       "L 1819 4666 \n",
       "L 2450 4666 \n",
       "L 2450 531 \n",
       "L 3481 531 \n",
       "L 3481 0 \n",
       "L 794 0 \n",
       "L 794 531 \n",
       "z\n",
       "\" transform=\"scale(0.015625)\"/>\n",
       "      </defs>\n",
       "      <use xlink:href=\"#DejaVuSans-Oblique-78\" transform=\"translate(0 0.3125)\"/>\n",
       "      <use xlink:href=\"#DejaVuSans-31\" transform=\"translate(59.179688 -16.09375) scale(0.7)\"/>\n",
       "     </g>\n",
       "    </g>\n",
       "   </g>\n",
       "   <g id=\"matplotlib.axis_2\">\n",
       "    <g id=\"ytick_1\">\n",
       "     <g id=\"line2d_4\">\n",
       "      <path d=\"M 53.389062 234.1277 \n",
       "L 276.589063 234.1277 \n",
       "\" clip-path=\"url(#p2d612d7fff)\" style=\"fill: none; stroke: #ffffff; stroke-linecap: round\"/>\n",
       "     </g>\n",
       "     <g id=\"text_5\">\n",
       "      <!-- −0.2 -->\n",
       "      <g style=\"fill: #262626\" transform=\"translate(22.174375 238.064497) scale(0.11 -0.11)\">\n",
       "       <defs>\n",
       "        <path id=\"ArialMT-2212\" d=\"M 3381 1997 \n",
       "L 356 1997 \n",
       "L 356 2522 \n",
       "L 3381 2522 \n",
       "L 3381 1997 \n",
       "z\n",
       "\" transform=\"scale(0.015625)\"/>\n",
       "        <path id=\"ArialMT-32\" d=\"M 3222 541 \n",
       "L 3222 0 \n",
       "L 194 0 \n",
       "Q 188 203 259 391 \n",
       "Q 375 700 629 1000 \n",
       "Q 884 1300 1366 1694 \n",
       "Q 2113 2306 2375 2664 \n",
       "Q 2638 3022 2638 3341 \n",
       "Q 2638 3675 2398 3904 \n",
       "Q 2159 4134 1775 4134 \n",
       "Q 1369 4134 1125 3890 \n",
       "Q 881 3647 878 3216 \n",
       "L 300 3275 \n",
       "Q 359 3922 746 4261 \n",
       "Q 1134 4600 1788 4600 \n",
       "Q 2447 4600 2831 4234 \n",
       "Q 3216 3869 3216 3328 \n",
       "Q 3216 3053 3103 2787 \n",
       "Q 2991 2522 2730 2228 \n",
       "Q 2469 1934 1863 1422 \n",
       "Q 1356 997 1212 845 \n",
       "Q 1069 694 975 541 \n",
       "L 3222 541 \n",
       "z\n",
       "\" transform=\"scale(0.015625)\"/>\n",
       "       </defs>\n",
       "       <use xlink:href=\"#ArialMT-2212\"/>\n",
       "       <use xlink:href=\"#ArialMT-30\" x=\"58.398438\"/>\n",
       "       <use xlink:href=\"#ArialMT-2e\" x=\"114.013672\"/>\n",
       "       <use xlink:href=\"#ArialMT-32\" x=\"141.796875\"/>\n",
       "      </g>\n",
       "     </g>\n",
       "    </g>\n",
       "    <g id=\"ytick_2\">\n",
       "     <g id=\"line2d_5\">\n",
       "      <path d=\"M 53.389062 206.647265 \n",
       "L 276.589063 206.647265 \n",
       "\" clip-path=\"url(#p2d612d7fff)\" style=\"fill: none; stroke: #ffffff; stroke-linecap: round\"/>\n",
       "     </g>\n",
       "     <g id=\"text_6\">\n",
       "      <!-- 0.0 -->\n",
       "      <g style=\"fill: #262626\" transform=\"translate(28.599062 210.584061) scale(0.11 -0.11)\">\n",
       "       <use xlink:href=\"#ArialMT-30\"/>\n",
       "       <use xlink:href=\"#ArialMT-2e\" x=\"55.615234\"/>\n",
       "       <use xlink:href=\"#ArialMT-30\" x=\"83.398438\"/>\n",
       "      </g>\n",
       "     </g>\n",
       "    </g>\n",
       "    <g id=\"ytick_3\">\n",
       "     <g id=\"line2d_6\">\n",
       "      <path d=\"M 53.389062 179.166829 \n",
       "L 276.589063 179.166829 \n",
       "\" clip-path=\"url(#p2d612d7fff)\" style=\"fill: none; stroke: #ffffff; stroke-linecap: round\"/>\n",
       "     </g>\n",
       "     <g id=\"text_7\">\n",
       "      <!-- 0.2 -->\n",
       "      <g style=\"fill: #262626\" transform=\"translate(28.599062 183.103626) scale(0.11 -0.11)\">\n",
       "       <use xlink:href=\"#ArialMT-30\"/>\n",
       "       <use xlink:href=\"#ArialMT-2e\" x=\"55.615234\"/>\n",
       "       <use xlink:href=\"#ArialMT-32\" x=\"83.398438\"/>\n",
       "      </g>\n",
       "     </g>\n",
       "    </g>\n",
       "    <g id=\"ytick_4\">\n",
       "     <g id=\"line2d_7\">\n",
       "      <path d=\"M 53.389062 151.686394 \n",
       "L 276.589063 151.686394 \n",
       "\" clip-path=\"url(#p2d612d7fff)\" style=\"fill: none; stroke: #ffffff; stroke-linecap: round\"/>\n",
       "     </g>\n",
       "     <g id=\"text_8\">\n",
       "      <!-- 0.4 -->\n",
       "      <g style=\"fill: #262626\" transform=\"translate(28.599062 155.62319) scale(0.11 -0.11)\">\n",
       "       <defs>\n",
       "        <path id=\"ArialMT-34\" d=\"M 2069 0 \n",
       "L 2069 1097 \n",
       "L 81 1097 \n",
       "L 81 1613 \n",
       "L 2172 4581 \n",
       "L 2631 4581 \n",
       "L 2631 1613 \n",
       "L 3250 1613 \n",
       "L 3250 1097 \n",
       "L 2631 1097 \n",
       "L 2631 0 \n",
       "L 2069 0 \n",
       "z\n",
       "M 2069 1613 \n",
       "L 2069 3678 \n",
       "L 634 1613 \n",
       "L 2069 1613 \n",
       "z\n",
       "\" transform=\"scale(0.015625)\"/>\n",
       "       </defs>\n",
       "       <use xlink:href=\"#ArialMT-30\"/>\n",
       "       <use xlink:href=\"#ArialMT-2e\" x=\"55.615234\"/>\n",
       "       <use xlink:href=\"#ArialMT-34\" x=\"83.398438\"/>\n",
       "      </g>\n",
       "     </g>\n",
       "    </g>\n",
       "    <g id=\"ytick_5\">\n",
       "     <g id=\"line2d_8\">\n",
       "      <path d=\"M 53.389062 124.205958 \n",
       "L 276.589063 124.205958 \n",
       "\" clip-path=\"url(#p2d612d7fff)\" style=\"fill: none; stroke: #ffffff; stroke-linecap: round\"/>\n",
       "     </g>\n",
       "     <g id=\"text_9\">\n",
       "      <!-- 0.6 -->\n",
       "      <g style=\"fill: #262626\" transform=\"translate(28.599062 128.142755) scale(0.11 -0.11)\">\n",
       "       <defs>\n",
       "        <path id=\"ArialMT-36\" d=\"M 3184 3459 \n",
       "L 2625 3416 \n",
       "Q 2550 3747 2413 3897 \n",
       "Q 2184 4138 1850 4138 \n",
       "Q 1581 4138 1378 3988 \n",
       "Q 1113 3794 959 3422 \n",
       "Q 806 3050 800 2363 \n",
       "Q 1003 2672 1297 2822 \n",
       "Q 1591 2972 1913 2972 \n",
       "Q 2475 2972 2870 2558 \n",
       "Q 3266 2144 3266 1488 \n",
       "Q 3266 1056 3080 686 \n",
       "Q 2894 316 2569 119 \n",
       "Q 2244 -78 1831 -78 \n",
       "Q 1128 -78 684 439 \n",
       "Q 241 956 241 2144 \n",
       "Q 241 3472 731 4075 \n",
       "Q 1159 4600 1884 4600 \n",
       "Q 2425 4600 2770 4297 \n",
       "Q 3116 3994 3184 3459 \n",
       "z\n",
       "M 888 1484 \n",
       "Q 888 1194 1011 928 \n",
       "Q 1134 663 1356 523 \n",
       "Q 1578 384 1822 384 \n",
       "Q 2178 384 2434 671 \n",
       "Q 2691 959 2691 1453 \n",
       "Q 2691 1928 2437 2201 \n",
       "Q 2184 2475 1800 2475 \n",
       "Q 1419 2475 1153 2201 \n",
       "Q 888 1928 888 1484 \n",
       "z\n",
       "\" transform=\"scale(0.015625)\"/>\n",
       "       </defs>\n",
       "       <use xlink:href=\"#ArialMT-30\"/>\n",
       "       <use xlink:href=\"#ArialMT-2e\" x=\"55.615234\"/>\n",
       "       <use xlink:href=\"#ArialMT-36\" x=\"83.398438\"/>\n",
       "      </g>\n",
       "     </g>\n",
       "    </g>\n",
       "    <g id=\"ytick_6\">\n",
       "     <g id=\"line2d_9\">\n",
       "      <path d=\"M 53.389062 96.725523 \n",
       "L 276.589063 96.725523 \n",
       "\" clip-path=\"url(#p2d612d7fff)\" style=\"fill: none; stroke: #ffffff; stroke-linecap: round\"/>\n",
       "     </g>\n",
       "     <g id=\"text_10\">\n",
       "      <!-- 0.8 -->\n",
       "      <g style=\"fill: #262626\" transform=\"translate(28.599062 100.662319) scale(0.11 -0.11)\">\n",
       "       <defs>\n",
       "        <path id=\"ArialMT-38\" d=\"M 1131 2484 \n",
       "Q 781 2613 612 2850 \n",
       "Q 444 3088 444 3419 \n",
       "Q 444 3919 803 4259 \n",
       "Q 1163 4600 1759 4600 \n",
       "Q 2359 4600 2725 4251 \n",
       "Q 3091 3903 3091 3403 \n",
       "Q 3091 3084 2923 2848 \n",
       "Q 2756 2613 2416 2484 \n",
       "Q 2838 2347 3058 2040 \n",
       "Q 3278 1734 3278 1309 \n",
       "Q 3278 722 2862 322 \n",
       "Q 2447 -78 1769 -78 \n",
       "Q 1091 -78 675 323 \n",
       "Q 259 725 259 1325 \n",
       "Q 259 1772 486 2073 \n",
       "Q 713 2375 1131 2484 \n",
       "z\n",
       "M 1019 3438 \n",
       "Q 1019 3113 1228 2906 \n",
       "Q 1438 2700 1772 2700 \n",
       "Q 2097 2700 2305 2904 \n",
       "Q 2513 3109 2513 3406 \n",
       "Q 2513 3716 2298 3927 \n",
       "Q 2084 4138 1766 4138 \n",
       "Q 1444 4138 1231 3931 \n",
       "Q 1019 3725 1019 3438 \n",
       "z\n",
       "M 838 1322 \n",
       "Q 838 1081 952 856 \n",
       "Q 1066 631 1291 507 \n",
       "Q 1516 384 1775 384 \n",
       "Q 2178 384 2440 643 \n",
       "Q 2703 903 2703 1303 \n",
       "Q 2703 1709 2433 1975 \n",
       "Q 2163 2241 1756 2241 \n",
       "Q 1359 2241 1098 1978 \n",
       "Q 838 1716 838 1322 \n",
       "z\n",
       "\" transform=\"scale(0.015625)\"/>\n",
       "       </defs>\n",
       "       <use xlink:href=\"#ArialMT-30\"/>\n",
       "       <use xlink:href=\"#ArialMT-2e\" x=\"55.615234\"/>\n",
       "       <use xlink:href=\"#ArialMT-38\" x=\"83.398438\"/>\n",
       "      </g>\n",
       "     </g>\n",
       "    </g>\n",
       "    <g id=\"ytick_7\">\n",
       "     <g id=\"line2d_10\">\n",
       "      <path d=\"M 53.389062 69.245087 \n",
       "L 276.589063 69.245087 \n",
       "\" clip-path=\"url(#p2d612d7fff)\" style=\"fill: none; stroke: #ffffff; stroke-linecap: round\"/>\n",
       "     </g>\n",
       "     <g id=\"text_11\">\n",
       "      <!-- 1.0 -->\n",
       "      <g style=\"fill: #262626\" transform=\"translate(28.599062 73.181884) scale(0.11 -0.11)\">\n",
       "       <use xlink:href=\"#ArialMT-31\"/>\n",
       "       <use xlink:href=\"#ArialMT-2e\" x=\"55.615234\"/>\n",
       "       <use xlink:href=\"#ArialMT-30\" x=\"83.398438\"/>\n",
       "      </g>\n",
       "     </g>\n",
       "    </g>\n",
       "    <g id=\"ytick_8\">\n",
       "     <g id=\"line2d_11\">\n",
       "      <path d=\"M 53.389062 41.764652 \n",
       "L 276.589063 41.764652 \n",
       "\" clip-path=\"url(#p2d612d7fff)\" style=\"fill: none; stroke: #ffffff; stroke-linecap: round\"/>\n",
       "     </g>\n",
       "     <g id=\"text_12\">\n",
       "      <!-- 1.2 -->\n",
       "      <g style=\"fill: #262626\" transform=\"translate(28.599062 45.701448) scale(0.11 -0.11)\">\n",
       "       <use xlink:href=\"#ArialMT-31\"/>\n",
       "       <use xlink:href=\"#ArialMT-2e\" x=\"55.615234\"/>\n",
       "       <use xlink:href=\"#ArialMT-32\" x=\"83.398438\"/>\n",
       "      </g>\n",
       "     </g>\n",
       "    </g>\n",
       "    <g id=\"text_13\">\n",
       "     <!-- $x_2$ -->\n",
       "     <g style=\"fill: #262626\" transform=\"translate(15.789375 139.089375) rotate(-90) scale(0.12 -0.12)\">\n",
       "      <defs>\n",
       "       <path id=\"DejaVuSans-32\" d=\"M 1228 531 \n",
       "L 3431 531 \n",
       "L 3431 0 \n",
       "L 469 0 \n",
       "L 469 531 \n",
       "Q 828 903 1448 1529 \n",
       "Q 2069 2156 2228 2338 \n",
       "Q 2531 2678 2651 2914 \n",
       "Q 2772 3150 2772 3378 \n",
       "Q 2772 3750 2511 3984 \n",
       "Q 2250 4219 1831 4219 \n",
       "Q 1534 4219 1204 4116 \n",
       "Q 875 4013 500 3803 \n",
       "L 500 4441 \n",
       "Q 881 4594 1212 4672 \n",
       "Q 1544 4750 1819 4750 \n",
       "Q 2544 4750 2975 4387 \n",
       "Q 3406 4025 3406 3419 \n",
       "Q 3406 3131 3298 2873 \n",
       "Q 3191 2616 2906 2266 \n",
       "Q 2828 2175 2409 1742 \n",
       "Q 1991 1309 1228 531 \n",
       "z\n",
       "\" transform=\"scale(0.015625)\"/>\n",
       "      </defs>\n",
       "      <use xlink:href=\"#DejaVuSans-Oblique-78\" transform=\"translate(0 0.3125)\"/>\n",
       "      <use xlink:href=\"#DejaVuSans-32\" transform=\"translate(59.179688 -16.09375) scale(0.7)\"/>\n",
       "     </g>\n",
       "    </g>\n",
       "   </g>\n",
       "   <g id=\"PathCollection_1\">\n",
       "    <defs>\n",
       "     <path id=\"m82d2f22cc4\" d=\"M 0 3 \n",
       "C 0.795609 3 1.55874 2.683901 2.12132 2.12132 \n",
       "C 2.683901 1.55874 3 0.795609 3 0 \n",
       "C 3 -0.795609 2.683901 -1.55874 2.12132 -2.12132 \n",
       "C 1.55874 -2.683901 0.795609 -3 0 -3 \n",
       "C -0.795609 -3 -1.55874 -2.683901 -2.12132 -2.12132 \n",
       "C -2.683901 -1.55874 -3 -0.795609 -3 0 \n",
       "C -3 0.795609 -2.683901 1.55874 -2.12132 2.12132 \n",
       "C -1.55874 2.683901 -0.795609 3 0 3 \n",
       "z\n",
       "\" style=\"stroke: #333333\"/>\n",
       "    </defs>\n",
       "    <g clip-path=\"url(#p2d612d7fff)\">\n",
       "     <use xlink:href=\"#m82d2f22cc4\" x=\"96.83771\" y=\"216.462608\" style=\"fill: #4c72b0; stroke: #333333\"/>\n",
       "     <use xlink:href=\"#m82d2f22cc4\" x=\"75.895471\" y=\"197.626075\" style=\"fill: #4c72b0; stroke: #333333\"/>\n",
       "     <use xlink:href=\"#m82d2f22cc4\" x=\"109.048897\" y=\"217.923619\" style=\"fill: #4c72b0; stroke: #333333\"/>\n",
       "     <use xlink:href=\"#m82d2f22cc4\" x=\"106.294654\" y=\"200.975565\" style=\"fill: #4c72b0; stroke: #333333\"/>\n",
       "     <use xlink:href=\"#m82d2f22cc4\" x=\"230.325332\" y=\"79.601582\" style=\"fill: #4c72b0; stroke: #333333\"/>\n",
       "     <use xlink:href=\"#m82d2f22cc4\" x=\"237.691053\" y=\"57.879403\" style=\"fill: #4c72b0; stroke: #333333\"/>\n",
       "     <use xlink:href=\"#m82d2f22cc4\" x=\"233.970817\" y=\"49.273208\" style=\"fill: #4c72b0; stroke: #333333\"/>\n",
       "     <use xlink:href=\"#m82d2f22cc4\" x=\"230.053485\" y=\"31.869375\" style=\"fill: #4c72b0; stroke: #333333\"/>\n",
       "     <use xlink:href=\"#m82d2f22cc4\" x=\"242.614575\" y=\"81.022621\" style=\"fill: #4c72b0; stroke: #333333\"/>\n",
       "     <use xlink:href=\"#m82d2f22cc4\" x=\"77.594283\" y=\"200.017989\" style=\"fill: #4c72b0; stroke: #333333\"/>\n",
       "     <use xlink:href=\"#m82d2f22cc4\" x=\"230.634667\" y=\"59.434565\" style=\"fill: #4c72b0; stroke: #333333\"/>\n",
       "     <use xlink:href=\"#m82d2f22cc4\" x=\"86.403281\" y=\"194.880159\" style=\"fill: #4c72b0; stroke: #333333\"/>\n",
       "     <use xlink:href=\"#m82d2f22cc4\" x=\"95.723443\" y=\"223.763987\" style=\"fill: #4c72b0; stroke: #333333\"/>\n",
       "     <use xlink:href=\"#m82d2f22cc4\" x=\"236.230696\" y=\"63.950737\" style=\"fill: #4c72b0; stroke: #333333\"/>\n",
       "     <use xlink:href=\"#m82d2f22cc4\" x=\"221.31752\" y=\"67.13287\" style=\"fill: #4c72b0; stroke: #333333\"/>\n",
       "     <use xlink:href=\"#m82d2f22cc4\" x=\"238.835205\" y=\"61.539788\" style=\"fill: #4c72b0; stroke: #333333\"/>\n",
       "     <use xlink:href=\"#m82d2f22cc4\" x=\"100.757291\" y=\"191.044345\" style=\"fill: #4c72b0; stroke: #333333\"/>\n",
       "     <use xlink:href=\"#m82d2f22cc4\" x=\"106.162396\" y=\"197.697007\" style=\"fill: #4c72b0; stroke: #333333\"/>\n",
       "     <use xlink:href=\"#m82d2f22cc4\" x=\"88.254954\" y=\"196.218863\" style=\"fill: #4c72b0; stroke: #333333\"/>\n",
       "     <use xlink:href=\"#m82d2f22cc4\" x=\"266.443608\" y=\"94.901716\" style=\"fill: #4c72b0; stroke: #333333\"/>\n",
       "     <use xlink:href=\"#m82d2f22cc4\" x=\"243.469446\" y=\"91.404152\" style=\"fill: #4c72b0; stroke: #333333\"/>\n",
       "     <use xlink:href=\"#m82d2f22cc4\" x=\"223.695557\" y=\"59.907265\" style=\"fill: #4c72b0; stroke: #333333\"/>\n",
       "     <use xlink:href=\"#m82d2f22cc4\" x=\"64.131297\" y=\"204.085342\" style=\"fill: #4c72b0; stroke: #333333\"/>\n",
       "     <use xlink:href=\"#m82d2f22cc4\" x=\"222.606142\" y=\"70.821592\" style=\"fill: #4c72b0; stroke: #333333\"/>\n",
       "     <use xlink:href=\"#m82d2f22cc4\" x=\"240.911963\" y=\"57.349424\" style=\"fill: #4c72b0; stroke: #333333\"/>\n",
       "     <use xlink:href=\"#m82d2f22cc4\" x=\"216.853061\" y=\"73.841207\" style=\"fill: #4c72b0; stroke: #333333\"/>\n",
       "     <use xlink:href=\"#m82d2f22cc4\" x=\"227.086637\" y=\"78.221977\" style=\"fill: #4c72b0; stroke: #333333\"/>\n",
       "     <use xlink:href=\"#m82d2f22cc4\" x=\"258.695188\" y=\"63.680555\" style=\"fill: #4c72b0; stroke: #333333\"/>\n",
       "     <use xlink:href=\"#m82d2f22cc4\" x=\"212.351426\" y=\"75.898569\" style=\"fill: #4c72b0; stroke: #333333\"/>\n",
       "     <use xlink:href=\"#m82d2f22cc4\" x=\"251.661524\" y=\"78.968617\" style=\"fill: #4c72b0; stroke: #333333\"/>\n",
       "     <use xlink:href=\"#m82d2f22cc4\" x=\"240.048985\" y=\"58.601449\" style=\"fill: #4c72b0; stroke: #333333\"/>\n",
       "     <use xlink:href=\"#m82d2f22cc4\" x=\"230.224033\" y=\"86.389901\" style=\"fill: #4c72b0; stroke: #333333\"/>\n",
       "     <use xlink:href=\"#m82d2f22cc4\" x=\"235.388926\" y=\"60.147275\" style=\"fill: #4c72b0; stroke: #333333\"/>\n",
       "     <use xlink:href=\"#m82d2f22cc4\" x=\"122.796701\" y=\"233.469375\" style=\"fill: #4c72b0; stroke: #333333\"/>\n",
       "     <use xlink:href=\"#m82d2f22cc4\" x=\"90.561461\" y=\"198.563658\" style=\"fill: #4c72b0; stroke: #333333\"/>\n",
       "     <use xlink:href=\"#m82d2f22cc4\" x=\"96.667272\" y=\"215.203292\" style=\"fill: #4c72b0; stroke: #333333\"/>\n",
       "     <use xlink:href=\"#m82d2f22cc4\" x=\"89.766631\" y=\"213.421205\" style=\"fill: #4c72b0; stroke: #333333\"/>\n",
       "     <use xlink:href=\"#m82d2f22cc4\" x=\"238.824306\" y=\"78.765813\" style=\"fill: #4c72b0; stroke: #333333\"/>\n",
       "     <use xlink:href=\"#m82d2f22cc4\" x=\"104.171135\" y=\"197.996027\" style=\"fill: #4c72b0; stroke: #333333\"/>\n",
       "     <use xlink:href=\"#m82d2f22cc4\" x=\"103.246065\" y=\"198.260644\" style=\"fill: #4c72b0; stroke: #333333\"/>\n",
       "     <use xlink:href=\"#m82d2f22cc4\" x=\"92.408024\" y=\"205.035161\" style=\"fill: #4c72b0; stroke: #333333\"/>\n",
       "     <use xlink:href=\"#m82d2f22cc4\" x=\"104.348256\" y=\"195.469464\" style=\"fill: #4c72b0; stroke: #333333\"/>\n",
       "     <use xlink:href=\"#m82d2f22cc4\" x=\"252.205655\" y=\"68.956495\" style=\"fill: #4c72b0; stroke: #333333\"/>\n",
       "     <use xlink:href=\"#m82d2f22cc4\" x=\"250.126526\" y=\"58.367466\" style=\"fill: #4c72b0; stroke: #333333\"/>\n",
       "     <use xlink:href=\"#m82d2f22cc4\" x=\"101.508274\" y=\"198.01366\" style=\"fill: #4c72b0; stroke: #333333\"/>\n",
       "     <use xlink:href=\"#m82d2f22cc4\" x=\"92.53013\" y=\"218.975735\" style=\"fill: #4c72b0; stroke: #333333\"/>\n",
       "     <use xlink:href=\"#m82d2f22cc4\" x=\"93.772398\" y=\"215.951614\" style=\"fill: #4c72b0; stroke: #333333\"/>\n",
       "     <use xlink:href=\"#m82d2f22cc4\" x=\"81.05643\" y=\"211.063176\" style=\"fill: #4c72b0; stroke: #333333\"/>\n",
       "     <use xlink:href=\"#m82d2f22cc4\" x=\"96.159011\" y=\"213.612774\" style=\"fill: #4c72b0; stroke: #333333\"/>\n",
       "     <use xlink:href=\"#m82d2f22cc4\" x=\"86.057294\" y=\"203.458848\" style=\"fill: #4c72b0; stroke: #333333\"/>\n",
       "     <use xlink:href=\"#m82d2f22cc4\" x=\"223.651249\" y=\"72.177898\" style=\"fill: #4c72b0; stroke: #333333\"/>\n",
       "     <use xlink:href=\"#m82d2f22cc4\" x=\"97.089336\" y=\"186.375549\" style=\"fill: #4c72b0; stroke: #333333\"/>\n",
       "     <use xlink:href=\"#m82d2f22cc4\" x=\"92.434624\" y=\"220.422236\" style=\"fill: #4c72b0; stroke: #333333\"/>\n",
       "     <use xlink:href=\"#m82d2f22cc4\" x=\"238.340436\" y=\"80.611418\" style=\"fill: #4c72b0; stroke: #333333\"/>\n",
       "     <use xlink:href=\"#m82d2f22cc4\" x=\"91.168476\" y=\"201.127658\" style=\"fill: #4c72b0; stroke: #333333\"/>\n",
       "     <use xlink:href=\"#m82d2f22cc4\" x=\"102.439773\" y=\"212.160121\" style=\"fill: #4c72b0; stroke: #333333\"/>\n",
       "     <use xlink:href=\"#m82d2f22cc4\" x=\"95.86451\" y=\"206.474242\" style=\"fill: #4c72b0; stroke: #333333\"/>\n",
       "     <use xlink:href=\"#m82d2f22cc4\" x=\"113.176295\" y=\"193.466675\" style=\"fill: #4c72b0; stroke: #333333\"/>\n",
       "     <use xlink:href=\"#m82d2f22cc4\" x=\"264.165431\" y=\"79.788613\" style=\"fill: #4c72b0; stroke: #333333\"/>\n",
       "     <use xlink:href=\"#m82d2f22cc4\" x=\"246.094473\" y=\"66.725935\" style=\"fill: #4c72b0; stroke: #333333\"/>\n",
       "     <use xlink:href=\"#m82d2f22cc4\" x=\"80.855742\" y=\"214.88305\" style=\"fill: #4c72b0; stroke: #333333\"/>\n",
       "     <use xlink:href=\"#m82d2f22cc4\" x=\"203.822506\" y=\"76.469079\" style=\"fill: #4c72b0; stroke: #333333\"/>\n",
       "     <use xlink:href=\"#m82d2f22cc4\" x=\"223.077197\" y=\"67.178651\" style=\"fill: #4c72b0; stroke: #333333\"/>\n",
       "     <use xlink:href=\"#m82d2f22cc4\" x=\"238.609028\" y=\"43.466094\" style=\"fill: #4c72b0; stroke: #333333\"/>\n",
       "     <use xlink:href=\"#m82d2f22cc4\" x=\"247.196376\" y=\"77.171871\" style=\"fill: #4c72b0; stroke: #333333\"/>\n",
       "     <use xlink:href=\"#m82d2f22cc4\" x=\"91.086934\" y=\"189.639399\" style=\"fill: #4c72b0; stroke: #333333\"/>\n",
       "     <use xlink:href=\"#m82d2f22cc4\" x=\"70.208016\" y=\"214.882808\" style=\"fill: #4c72b0; stroke: #333333\"/>\n",
       "     <use xlink:href=\"#m82d2f22cc4\" x=\"77.640447\" y=\"208.60359\" style=\"fill: #4c72b0; stroke: #333333\"/>\n",
       "     <use xlink:href=\"#m82d2f22cc4\" x=\"97.391347\" y=\"216.931632\" style=\"fill: #4c72b0; stroke: #333333\"/>\n",
       "     <use xlink:href=\"#m82d2f22cc4\" x=\"250.425425\" y=\"68.317362\" style=\"fill: #4c72b0; stroke: #333333\"/>\n",
       "     <use xlink:href=\"#m82d2f22cc4\" x=\"121.776864\" y=\"182.528499\" style=\"fill: #4c72b0; stroke: #333333\"/>\n",
       "     <use xlink:href=\"#m82d2f22cc4\" x=\"230.274876\" y=\"55.895487\" style=\"fill: #4c72b0; stroke: #333333\"/>\n",
       "     <use xlink:href=\"#m82d2f22cc4\" x=\"242.892636\" y=\"50.439797\" style=\"fill: #4c72b0; stroke: #333333\"/>\n",
       "     <use xlink:href=\"#m82d2f22cc4\" x=\"229.986463\" y=\"59.385901\" style=\"fill: #4c72b0; stroke: #333333\"/>\n",
       "     <use xlink:href=\"#m82d2f22cc4\" x=\"68.670833\" y=\"207.410502\" style=\"fill: #4c72b0; stroke: #333333\"/>\n",
       "     <use xlink:href=\"#m82d2f22cc4\" x=\"63.534517\" y=\"207.871793\" style=\"fill: #4c72b0; stroke: #333333\"/>\n",
       "     <use xlink:href=\"#m82d2f22cc4\" x=\"238.959511\" y=\"82.159243\" style=\"fill: #4c72b0; stroke: #333333\"/>\n",
       "     <use xlink:href=\"#m82d2f22cc4\" x=\"78.79585\" y=\"199.721555\" style=\"fill: #4c72b0; stroke: #333333\"/>\n",
       "     <use xlink:href=\"#m82d2f22cc4\" x=\"225.976249\" y=\"85.704193\" style=\"fill: #4c72b0; stroke: #333333\"/>\n",
       "     <use xlink:href=\"#m82d2f22cc4\" x=\"261.506598\" y=\"68.760562\" style=\"fill: #4c72b0; stroke: #333333\"/>\n",
       "     <use xlink:href=\"#m82d2f22cc4\" x=\"85.218366\" y=\"214.559132\" style=\"fill: #4c72b0; stroke: #333333\"/>\n",
       "     <use xlink:href=\"#m82d2f22cc4\" x=\"256.995317\" y=\"72.666895\" style=\"fill: #4c72b0; stroke: #333333\"/>\n",
       "     <use xlink:href=\"#m82d2f22cc4\" x=\"241.9217\" y=\"64.968435\" style=\"fill: #4c72b0; stroke: #333333\"/>\n",
       "     <use xlink:href=\"#m82d2f22cc4\" x=\"136.141139\" y=\"191.264062\" style=\"fill: #4c72b0; stroke: #333333\"/>\n",
       "     <use xlink:href=\"#m82d2f22cc4\" x=\"231.98266\" y=\"82.374422\" style=\"fill: #4c72b0; stroke: #333333\"/>\n",
       "     <use xlink:href=\"#m82d2f22cc4\" x=\"70.038451\" y=\"203.85163\" style=\"fill: #4c72b0; stroke: #333333\"/>\n",
       "     <use xlink:href=\"#m82d2f22cc4\" x=\"224.665241\" y=\"84.105788\" style=\"fill: #4c72b0; stroke: #333333\"/>\n",
       "     <use xlink:href=\"#m82d2f22cc4\" x=\"116.505861\" y=\"194.533342\" style=\"fill: #4c72b0; stroke: #333333\"/>\n",
       "     <use xlink:href=\"#m82d2f22cc4\" x=\"233.674895\" y=\"48.910334\" style=\"fill: #4c72b0; stroke: #333333\"/>\n",
       "     <use xlink:href=\"#m82d2f22cc4\" x=\"78.068981\" y=\"209.262559\" style=\"fill: #4c72b0; stroke: #333333\"/>\n",
       "     <use xlink:href=\"#m82d2f22cc4\" x=\"234.471944\" y=\"80.662523\" style=\"fill: #4c72b0; stroke: #333333\"/>\n",
       "     <use xlink:href=\"#m82d2f22cc4\" x=\"96.518639\" y=\"207.337547\" style=\"fill: #4c72b0; stroke: #333333\"/>\n",
       "     <use xlink:href=\"#m82d2f22cc4\" x=\"99.770076\" y=\"220.079086\" style=\"fill: #4c72b0; stroke: #333333\"/>\n",
       "     <use xlink:href=\"#m82d2f22cc4\" x=\"235.188802\" y=\"58.920868\" style=\"fill: #4c72b0; stroke: #333333\"/>\n",
       "     <use xlink:href=\"#m82d2f22cc4\" x=\"69.150198\" y=\"199.181377\" style=\"fill: #4c72b0; stroke: #333333\"/>\n",
       "     <use xlink:href=\"#m82d2f22cc4\" x=\"224.438787\" y=\"61.404935\" style=\"fill: #4c72b0; stroke: #333333\"/>\n",
       "     <use xlink:href=\"#m82d2f22cc4\" x=\"223.018979\" y=\"94.044563\" style=\"fill: #4c72b0; stroke: #333333\"/>\n",
       "     <use xlink:href=\"#m82d2f22cc4\" x=\"232.85509\" y=\"85.884713\" style=\"fill: #4c72b0; stroke: #333333\"/>\n",
       "     <use xlink:href=\"#m82d2f22cc4\" x=\"106.900141\" y=\"214.573884\" style=\"fill: #4c72b0; stroke: #333333\"/>\n",
       "     <use xlink:href=\"#m82d2f22cc4\" x=\"104.493231\" y=\"222.169683\" style=\"fill: #4c72b0; stroke: #333333\"/>\n",
       "     <use xlink:href=\"#m82d2f22cc4\" x=\"100.177627\" y=\"186.839798\" style=\"fill: #4c72b0; stroke: #333333\"/>\n",
       "     <use xlink:href=\"#m82d2f22cc4\" x=\"198.916316\" y=\"80.194598\" style=\"fill: #4c72b0; stroke: #333333\"/>\n",
       "     <use xlink:href=\"#m82d2f22cc4\" x=\"239.023674\" y=\"77.543975\" style=\"fill: #4c72b0; stroke: #333333\"/>\n",
       "    </g>\n",
       "   </g>\n",
       "   <g id=\"PathCollection_2\">\n",
       "    <defs>\n",
       "     <path id=\"mabfa857457\" d=\"M 0 3 \n",
       "C 0.795609 3 1.55874 2.683901 2.12132 2.12132 \n",
       "C 2.683901 1.55874 3 0.795609 3 0 \n",
       "C 3 -0.795609 2.683901 -1.55874 2.12132 -2.12132 \n",
       "C 1.55874 -2.683901 0.795609 -3 0 -3 \n",
       "C -0.795609 -3 -1.55874 -2.683901 -2.12132 -2.12132 \n",
       "C -2.683901 -1.55874 -3 -0.795609 -3 0 \n",
       "C -3 0.795609 -2.683901 1.55874 -2.12132 2.12132 \n",
       "C -1.55874 2.683901 -0.795609 3 0 3 \n",
       "z\n",
       "\" style=\"stroke: #333333\"/>\n",
       "    </defs>\n",
       "    <g clip-path=\"url(#p2d612d7fff)\">\n",
       "     <use xlink:href=\"#mabfa857457\" x=\"83.108821\" y=\"66.053863\" style=\"fill: #dd8452; stroke: #333333\"/>\n",
       "     <use xlink:href=\"#mabfa857457\" x=\"119.026093\" y=\"62.734517\" style=\"fill: #dd8452; stroke: #333333\"/>\n",
       "     <use xlink:href=\"#mabfa857457\" x=\"78.951669\" y=\"58.43038\" style=\"fill: #dd8452; stroke: #333333\"/>\n",
       "     <use xlink:href=\"#mabfa857457\" x=\"245.385368\" y=\"180.584916\" style=\"fill: #dd8452; stroke: #333333\"/>\n",
       "     <use xlink:href=\"#mabfa857457\" x=\"221.237707\" y=\"217.856675\" style=\"fill: #dd8452; stroke: #333333\"/>\n",
       "     <use xlink:href=\"#mabfa857457\" x=\"232.699594\" y=\"201.959762\" style=\"fill: #dd8452; stroke: #333333\"/>\n",
       "     <use xlink:href=\"#mabfa857457\" x=\"240.464017\" y=\"207.64795\" style=\"fill: #dd8452; stroke: #333333\"/>\n",
       "     <use xlink:href=\"#mabfa857457\" x=\"221.840434\" y=\"227.461596\" style=\"fill: #dd8452; stroke: #333333\"/>\n",
       "     <use xlink:href=\"#mabfa857457\" x=\"234.608612\" y=\"222.351926\" style=\"fill: #dd8452; stroke: #333333\"/>\n",
       "     <use xlink:href=\"#mabfa857457\" x=\"107.983084\" y=\"54.765621\" style=\"fill: #dd8452; stroke: #333333\"/>\n",
       "     <use xlink:href=\"#mabfa857457\" x=\"73.266138\" y=\"82.131005\" style=\"fill: #dd8452; stroke: #333333\"/>\n",
       "     <use xlink:href=\"#mabfa857457\" x=\"99.969261\" y=\"62.185554\" style=\"fill: #dd8452; stroke: #333333\"/>\n",
       "     <use xlink:href=\"#mabfa857457\" x=\"241.053895\" y=\"153.709894\" style=\"fill: #dd8452; stroke: #333333\"/>\n",
       "     <use xlink:href=\"#mabfa857457\" x=\"81.79955\" y=\"72.499029\" style=\"fill: #dd8452; stroke: #333333\"/>\n",
       "     <use xlink:href=\"#mabfa857457\" x=\"226.939651\" y=\"205.522296\" style=\"fill: #dd8452; stroke: #333333\"/>\n",
       "     <use xlink:href=\"#mabfa857457\" x=\"86.044687\" y=\"54.282668\" style=\"fill: #dd8452; stroke: #333333\"/>\n",
       "     <use xlink:href=\"#mabfa857457\" x=\"93.609804\" y=\"84.053537\" style=\"fill: #dd8452; stroke: #333333\"/>\n",
       "     <use xlink:href=\"#mabfa857457\" x=\"82.398574\" y=\"66.270893\" style=\"fill: #dd8452; stroke: #333333\"/>\n",
       "     <use xlink:href=\"#mabfa857457\" x=\"93.345861\" y=\"78.198218\" style=\"fill: #dd8452; stroke: #333333\"/>\n",
       "     <use xlink:href=\"#mabfa857457\" x=\"122.950633\" y=\"60.534899\" style=\"fill: #dd8452; stroke: #333333\"/>\n",
       "     <use xlink:href=\"#mabfa857457\" x=\"224.450602\" y=\"194.934644\" style=\"fill: #dd8452; stroke: #333333\"/>\n",
       "     <use xlink:href=\"#mabfa857457\" x=\"215.998266\" y=\"194.035641\" style=\"fill: #dd8452; stroke: #333333\"/>\n",
       "     <use xlink:href=\"#mabfa857457\" x=\"122.64324\" y=\"55.058784\" style=\"fill: #dd8452; stroke: #333333\"/>\n",
       "     <use xlink:href=\"#mabfa857457\" x=\"220.709831\" y=\"207.465156\" style=\"fill: #dd8452; stroke: #333333\"/>\n",
       "     <use xlink:href=\"#mabfa857457\" x=\"188.058133\" y=\"220.722574\" style=\"fill: #dd8452; stroke: #333333\"/>\n",
       "     <use xlink:href=\"#mabfa857457\" x=\"115.733701\" y=\"88.89554\" style=\"fill: #dd8452; stroke: #333333\"/>\n",
       "     <use xlink:href=\"#mabfa857457\" x=\"86.494569\" y=\"67.448685\" style=\"fill: #dd8452; stroke: #333333\"/>\n",
       "     <use xlink:href=\"#mabfa857457\" x=\"254.12151\" y=\"226.376324\" style=\"fill: #dd8452; stroke: #333333\"/>\n",
       "     <use xlink:href=\"#mabfa857457\" x=\"250.197803\" y=\"206.50666\" style=\"fill: #dd8452; stroke: #333333\"/>\n",
       "     <use xlink:href=\"#mabfa857457\" x=\"219.939817\" y=\"200.297862\" style=\"fill: #dd8452; stroke: #333333\"/>\n",
       "     <use xlink:href=\"#mabfa857457\" x=\"95.511336\" y=\"77.492199\" style=\"fill: #dd8452; stroke: #333333\"/>\n",
       "     <use xlink:href=\"#mabfa857457\" x=\"234.772172\" y=\"211.941557\" style=\"fill: #dd8452; stroke: #333333\"/>\n",
       "     <use xlink:href=\"#mabfa857457\" x=\"256.163605\" y=\"223.655119\" style=\"fill: #dd8452; stroke: #333333\"/>\n",
       "     <use xlink:href=\"#mabfa857457\" x=\"225.472356\" y=\"194.973547\" style=\"fill: #dd8452; stroke: #333333\"/>\n",
       "     <use xlink:href=\"#mabfa857457\" x=\"246.479333\" y=\"202.424902\" style=\"fill: #dd8452; stroke: #333333\"/>\n",
       "     <use xlink:href=\"#mabfa857457\" x=\"81.007081\" y=\"76.942098\" style=\"fill: #dd8452; stroke: #333333\"/>\n",
       "     <use xlink:href=\"#mabfa857457\" x=\"110.72878\" y=\"77.373406\" style=\"fill: #dd8452; stroke: #333333\"/>\n",
       "     <use xlink:href=\"#mabfa857457\" x=\"100.421607\" y=\"72.023258\" style=\"fill: #dd8452; stroke: #333333\"/>\n",
       "     <use xlink:href=\"#mabfa857457\" x=\"89.631769\" y=\"54.147651\" style=\"fill: #dd8452; stroke: #333333\"/>\n",
       "     <use xlink:href=\"#mabfa857457\" x=\"243.408681\" y=\"210.910397\" style=\"fill: #dd8452; stroke: #333333\"/>\n",
       "     <use xlink:href=\"#mabfa857457\" x=\"238.360853\" y=\"208.435458\" style=\"fill: #dd8452; stroke: #333333\"/>\n",
       "     <use xlink:href=\"#mabfa857457\" x=\"94.071375\" y=\"61.067498\" style=\"fill: #dd8452; stroke: #333333\"/>\n",
       "     <use xlink:href=\"#mabfa857457\" x=\"222.24355\" y=\"177.897408\" style=\"fill: #dd8452; stroke: #333333\"/>\n",
       "     <use xlink:href=\"#mabfa857457\" x=\"78.50957\" y=\"85.928299\" style=\"fill: #dd8452; stroke: #333333\"/>\n",
       "     <use xlink:href=\"#mabfa857457\" x=\"247.544806\" y=\"208.667865\" style=\"fill: #dd8452; stroke: #333333\"/>\n",
       "     <use xlink:href=\"#mabfa857457\" x=\"239.613198\" y=\"214.392963\" style=\"fill: #dd8452; stroke: #333333\"/>\n",
       "     <use xlink:href=\"#mabfa857457\" x=\"81.102661\" y=\"65.896766\" style=\"fill: #dd8452; stroke: #333333\"/>\n",
       "     <use xlink:href=\"#mabfa857457\" x=\"72.272692\" y=\"88.583943\" style=\"fill: #dd8452; stroke: #333333\"/>\n",
       "     <use xlink:href=\"#mabfa857457\" x=\"104.803158\" y=\"71.442675\" style=\"fill: #dd8452; stroke: #333333\"/>\n",
       "     <use xlink:href=\"#mabfa857457\" x=\"233.526185\" y=\"210.613497\" style=\"fill: #dd8452; stroke: #333333\"/>\n",
       "     <use xlink:href=\"#mabfa857457\" x=\"241.114542\" y=\"185.587098\" style=\"fill: #dd8452; stroke: #333333\"/>\n",
       "     <use xlink:href=\"#mabfa857457\" x=\"235.165441\" y=\"217.268588\" style=\"fill: #dd8452; stroke: #333333\"/>\n",
       "     <use xlink:href=\"#mabfa857457\" x=\"234.133184\" y=\"199.804659\" style=\"fill: #dd8452; stroke: #333333\"/>\n",
       "     <use xlink:href=\"#mabfa857457\" x=\"123.597631\" y=\"80.351277\" style=\"fill: #dd8452; stroke: #333333\"/>\n",
       "     <use xlink:href=\"#mabfa857457\" x=\"80.027677\" y=\"62.486006\" style=\"fill: #dd8452; stroke: #333333\"/>\n",
       "     <use xlink:href=\"#mabfa857457\" x=\"215.160936\" y=\"181.482622\" style=\"fill: #dd8452; stroke: #333333\"/>\n",
       "     <use xlink:href=\"#mabfa857457\" x=\"250.427444\" y=\"213.09384\" style=\"fill: #dd8452; stroke: #333333\"/>\n",
       "     <use xlink:href=\"#mabfa857457\" x=\"68.533247\" y=\"50.642593\" style=\"fill: #dd8452; stroke: #333333\"/>\n",
       "     <use xlink:href=\"#mabfa857457\" x=\"233.861362\" y=\"206.001741\" style=\"fill: #dd8452; stroke: #333333\"/>\n",
       "     <use xlink:href=\"#mabfa857457\" x=\"227.437649\" y=\"198.089171\" style=\"fill: #dd8452; stroke: #333333\"/>\n",
       "     <use xlink:href=\"#mabfa857457\" x=\"94.400097\" y=\"62.176578\" style=\"fill: #dd8452; stroke: #333333\"/>\n",
       "     <use xlink:href=\"#mabfa857457\" x=\"243.827161\" y=\"222.100092\" style=\"fill: #dd8452; stroke: #333333\"/>\n",
       "     <use xlink:href=\"#mabfa857457\" x=\"71.058945\" y=\"51.689529\" style=\"fill: #dd8452; stroke: #333333\"/>\n",
       "     <use xlink:href=\"#mabfa857457\" x=\"114.587258\" y=\"67.655691\" style=\"fill: #dd8452; stroke: #333333\"/>\n",
       "     <use xlink:href=\"#mabfa857457\" x=\"79.089343\" y=\"59.818585\" style=\"fill: #dd8452; stroke: #333333\"/>\n",
       "     <use xlink:href=\"#mabfa857457\" x=\"107.635638\" y=\"93.410549\" style=\"fill: #dd8452; stroke: #333333\"/>\n",
       "     <use xlink:href=\"#mabfa857457\" x=\"76.008974\" y=\"97.264582\" style=\"fill: #dd8452; stroke: #333333\"/>\n",
       "     <use xlink:href=\"#mabfa857457\" x=\"254.983294\" y=\"205.629186\" style=\"fill: #dd8452; stroke: #333333\"/>\n",
       "     <use xlink:href=\"#mabfa857457\" x=\"256.764617\" y=\"225.610159\" style=\"fill: #dd8452; stroke: #333333\"/>\n",
       "     <use xlink:href=\"#mabfa857457\" x=\"98.12148\" y=\"69.694323\" style=\"fill: #dd8452; stroke: #333333\"/>\n",
       "     <use xlink:href=\"#mabfa857457\" x=\"74.298874\" y=\"60.043641\" style=\"fill: #dd8452; stroke: #333333\"/>\n",
       "     <use xlink:href=\"#mabfa857457\" x=\"226.53751\" y=\"221.201089\" style=\"fill: #dd8452; stroke: #333333\"/>\n",
       "     <use xlink:href=\"#mabfa857457\" x=\"91.818608\" y=\"56.121231\" style=\"fill: #dd8452; stroke: #333333\"/>\n",
       "     <use xlink:href=\"#mabfa857457\" x=\"85.221802\" y=\"80.139333\" style=\"fill: #dd8452; stroke: #333333\"/>\n",
       "     <use xlink:href=\"#mabfa857457\" x=\"232.277346\" y=\"220.871719\" style=\"fill: #dd8452; stroke: #333333\"/>\n",
       "     <use xlink:href=\"#mabfa857457\" x=\"223.915334\" y=\"203.707134\" style=\"fill: #dd8452; stroke: #333333\"/>\n",
       "     <use xlink:href=\"#mabfa857457\" x=\"232.202605\" y=\"209.683435\" style=\"fill: #dd8452; stroke: #333333\"/>\n",
       "     <use xlink:href=\"#mabfa857457\" x=\"101.367851\" y=\"58.836758\" style=\"fill: #dd8452; stroke: #333333\"/>\n",
       "     <use xlink:href=\"#mabfa857457\" x=\"88.822361\" y=\"100.873986\" style=\"fill: #dd8452; stroke: #333333\"/>\n",
       "     <use xlink:href=\"#mabfa857457\" x=\"212.410383\" y=\"187.866114\" style=\"fill: #dd8452; stroke: #333333\"/>\n",
       "     <use xlink:href=\"#mabfa857457\" x=\"223.116443\" y=\"226.18934\" style=\"fill: #dd8452; stroke: #333333\"/>\n",
       "     <use xlink:href=\"#mabfa857457\" x=\"93.79446\" y=\"81.079319\" style=\"fill: #dd8452; stroke: #333333\"/>\n",
       "     <use xlink:href=\"#mabfa857457\" x=\"114.191828\" y=\"61.840338\" style=\"fill: #dd8452; stroke: #333333\"/>\n",
       "     <use xlink:href=\"#mabfa857457\" x=\"80.3493\" y=\"88.245057\" style=\"fill: #dd8452; stroke: #333333\"/>\n",
       "     <use xlink:href=\"#mabfa857457\" x=\"246.854303\" y=\"180.411464\" style=\"fill: #dd8452; stroke: #333333\"/>\n",
       "     <use xlink:href=\"#mabfa857457\" x=\"214.055762\" y=\"198.911945\" style=\"fill: #dd8452; stroke: #333333\"/>\n",
       "     <use xlink:href=\"#mabfa857457\" x=\"83.523357\" y=\"75.938298\" style=\"fill: #dd8452; stroke: #333333\"/>\n",
       "     <use xlink:href=\"#mabfa857457\" x=\"225.42962\" y=\"218.518686\" style=\"fill: #dd8452; stroke: #333333\"/>\n",
       "     <use xlink:href=\"#mabfa857457\" x=\"230.416194\" y=\"219.117387\" style=\"fill: #dd8452; stroke: #333333\"/>\n",
       "     <use xlink:href=\"#mabfa857457\" x=\"84.565565\" y=\"58.865849\" style=\"fill: #dd8452; stroke: #333333\"/>\n",
       "     <use xlink:href=\"#mabfa857457\" x=\"69.740819\" y=\"68.584382\" style=\"fill: #dd8452; stroke: #333333\"/>\n",
       "     <use xlink:href=\"#mabfa857457\" x=\"237.451658\" y=\"219.072772\" style=\"fill: #dd8452; stroke: #333333\"/>\n",
       "     <use xlink:href=\"#mabfa857457\" x=\"242.796922\" y=\"229.476911\" style=\"fill: #dd8452; stroke: #333333\"/>\n",
       "     <use xlink:href=\"#mabfa857457\" x=\"224.590978\" y=\"205.995996\" style=\"fill: #dd8452; stroke: #333333\"/>\n",
       "     <use xlink:href=\"#mabfa857457\" x=\"80.563817\" y=\"74.528963\" style=\"fill: #dd8452; stroke: #333333\"/>\n",
       "     <use xlink:href=\"#mabfa857457\" x=\"100.844504\" y=\"72.034978\" style=\"fill: #dd8452; stroke: #333333\"/>\n",
       "     <use xlink:href=\"#mabfa857457\" x=\"235.009028\" y=\"208.786304\" style=\"fill: #dd8452; stroke: #333333\"/>\n",
       "    </g>\n",
       "   </g>\n",
       "   <g id=\"patch_3\">\n",
       "    <path d=\"M 53.389062 243.549375 \n",
       "L 53.389062 21.789375 \n",
       "\" style=\"fill: none; stroke: #ffffff; stroke-width: 1.25; stroke-linejoin: miter; stroke-linecap: square\"/>\n",
       "   </g>\n",
       "   <g id=\"patch_4\">\n",
       "    <path d=\"M 276.589063 243.549375 \n",
       "L 276.589063 21.789375 \n",
       "\" style=\"fill: none; stroke: #ffffff; stroke-width: 1.25; stroke-linejoin: miter; stroke-linecap: square\"/>\n",
       "   </g>\n",
       "   <g id=\"patch_5\">\n",
       "    <path d=\"M 53.389062 243.549375 \n",
       "L 276.589063 243.549375 \n",
       "\" style=\"fill: none; stroke: #ffffff; stroke-width: 1.25; stroke-linejoin: miter; stroke-linecap: square\"/>\n",
       "   </g>\n",
       "   <g id=\"patch_6\">\n",
       "    <path d=\"M 53.389062 21.789375 \n",
       "L 276.589063 21.789375 \n",
       "\" style=\"fill: none; stroke: #ffffff; stroke-width: 1.25; stroke-linejoin: miter; stroke-linecap: square\"/>\n",
       "   </g>\n",
       "   <g id=\"text_14\">\n",
       "    <!-- Dataset samples -->\n",
       "    <g style=\"fill: #262626\" transform=\"translate(120.305 15.789375) scale(0.12 -0.12)\">\n",
       "     <defs>\n",
       "      <path id=\"ArialMT-44\" d=\"M 494 0 \n",
       "L 494 4581 \n",
       "L 2072 4581 \n",
       "Q 2606 4581 2888 4516 \n",
       "Q 3281 4425 3559 4188 \n",
       "Q 3922 3881 4101 3404 \n",
       "Q 4281 2928 4281 2316 \n",
       "Q 4281 1794 4159 1391 \n",
       "Q 4038 988 3847 723 \n",
       "Q 3656 459 3429 307 \n",
       "Q 3203 156 2883 78 \n",
       "Q 2563 0 2147 0 \n",
       "L 494 0 \n",
       "z\n",
       "M 1100 541 \n",
       "L 2078 541 \n",
       "Q 2531 541 2789 625 \n",
       "Q 3047 709 3200 863 \n",
       "Q 3416 1078 3536 1442 \n",
       "Q 3656 1806 3656 2325 \n",
       "Q 3656 3044 3420 3430 \n",
       "Q 3184 3816 2847 3947 \n",
       "Q 2603 4041 2063 4041 \n",
       "L 1100 4041 \n",
       "L 1100 541 \n",
       "z\n",
       "\" transform=\"scale(0.015625)\"/>\n",
       "      <path id=\"ArialMT-61\" d=\"M 2588 409 \n",
       "Q 2275 144 1986 34 \n",
       "Q 1697 -75 1366 -75 \n",
       "Q 819 -75 525 192 \n",
       "Q 231 459 231 875 \n",
       "Q 231 1119 342 1320 \n",
       "Q 453 1522 633 1644 \n",
       "Q 813 1766 1038 1828 \n",
       "Q 1203 1872 1538 1913 \n",
       "Q 2219 1994 2541 2106 \n",
       "Q 2544 2222 2544 2253 \n",
       "Q 2544 2597 2384 2738 \n",
       "Q 2169 2928 1744 2928 \n",
       "Q 1347 2928 1158 2789 \n",
       "Q 969 2650 878 2297 \n",
       "L 328 2372 \n",
       "Q 403 2725 575 2942 \n",
       "Q 747 3159 1072 3276 \n",
       "Q 1397 3394 1825 3394 \n",
       "Q 2250 3394 2515 3294 \n",
       "Q 2781 3194 2906 3042 \n",
       "Q 3031 2891 3081 2659 \n",
       "Q 3109 2516 3109 2141 \n",
       "L 3109 1391 \n",
       "Q 3109 606 3145 398 \n",
       "Q 3181 191 3288 0 \n",
       "L 2700 0 \n",
       "Q 2613 175 2588 409 \n",
       "z\n",
       "M 2541 1666 \n",
       "Q 2234 1541 1622 1453 \n",
       "Q 1275 1403 1131 1340 \n",
       "Q 988 1278 909 1158 \n",
       "Q 831 1038 831 891 \n",
       "Q 831 666 1001 516 \n",
       "Q 1172 366 1500 366 \n",
       "Q 1825 366 2078 508 \n",
       "Q 2331 650 2450 897 \n",
       "Q 2541 1088 2541 1459 \n",
       "L 2541 1666 \n",
       "z\n",
       "\" transform=\"scale(0.015625)\"/>\n",
       "      <path id=\"ArialMT-74\" d=\"M 1650 503 \n",
       "L 1731 6 \n",
       "Q 1494 -44 1306 -44 \n",
       "Q 1000 -44 831 53 \n",
       "Q 663 150 594 308 \n",
       "Q 525 466 525 972 \n",
       "L 525 2881 \n",
       "L 113 2881 \n",
       "L 113 3319 \n",
       "L 525 3319 \n",
       "L 525 4141 \n",
       "L 1084 4478 \n",
       "L 1084 3319 \n",
       "L 1650 3319 \n",
       "L 1650 2881 \n",
       "L 1084 2881 \n",
       "L 1084 941 \n",
       "Q 1084 700 1114 631 \n",
       "Q 1144 563 1211 522 \n",
       "Q 1278 481 1403 481 \n",
       "Q 1497 481 1650 503 \n",
       "z\n",
       "\" transform=\"scale(0.015625)\"/>\n",
       "      <path id=\"ArialMT-73\" d=\"M 197 991 \n",
       "L 753 1078 \n",
       "Q 800 744 1014 566 \n",
       "Q 1228 388 1613 388 \n",
       "Q 2000 388 2187 545 \n",
       "Q 2375 703 2375 916 \n",
       "Q 2375 1106 2209 1216 \n",
       "Q 2094 1291 1634 1406 \n",
       "Q 1016 1563 777 1677 \n",
       "Q 538 1791 414 1992 \n",
       "Q 291 2194 291 2438 \n",
       "Q 291 2659 392 2848 \n",
       "Q 494 3038 669 3163 \n",
       "Q 800 3259 1026 3326 \n",
       "Q 1253 3394 1513 3394 \n",
       "Q 1903 3394 2198 3281 \n",
       "Q 2494 3169 2634 2976 \n",
       "Q 2775 2784 2828 2463 \n",
       "L 2278 2388 \n",
       "Q 2241 2644 2061 2787 \n",
       "Q 1881 2931 1553 2931 \n",
       "Q 1166 2931 1000 2803 \n",
       "Q 834 2675 834 2503 \n",
       "Q 834 2394 903 2306 \n",
       "Q 972 2216 1119 2156 \n",
       "Q 1203 2125 1616 2013 \n",
       "Q 2213 1853 2448 1751 \n",
       "Q 2684 1650 2818 1456 \n",
       "Q 2953 1263 2953 975 \n",
       "Q 2953 694 2789 445 \n",
       "Q 2625 197 2315 61 \n",
       "Q 2006 -75 1616 -75 \n",
       "Q 969 -75 630 194 \n",
       "Q 291 463 197 991 \n",
       "z\n",
       "\" transform=\"scale(0.015625)\"/>\n",
       "      <path id=\"ArialMT-65\" d=\"M 2694 1069 \n",
       "L 3275 997 \n",
       "Q 3138 488 2766 206 \n",
       "Q 2394 -75 1816 -75 \n",
       "Q 1088 -75 661 373 \n",
       "Q 234 822 234 1631 \n",
       "Q 234 2469 665 2931 \n",
       "Q 1097 3394 1784 3394 \n",
       "Q 2450 3394 2872 2941 \n",
       "Q 3294 2488 3294 1666 \n",
       "Q 3294 1616 3291 1516 \n",
       "L 816 1516 \n",
       "Q 847 969 1125 678 \n",
       "Q 1403 388 1819 388 \n",
       "Q 2128 388 2347 550 \n",
       "Q 2566 713 2694 1069 \n",
       "z\n",
       "M 847 1978 \n",
       "L 2700 1978 \n",
       "Q 2663 2397 2488 2606 \n",
       "Q 2219 2931 1791 2931 \n",
       "Q 1403 2931 1139 2672 \n",
       "Q 875 2413 847 1978 \n",
       "z\n",
       "\" transform=\"scale(0.015625)\"/>\n",
       "      <path id=\"ArialMT-20\" transform=\"scale(0.015625)\"/>\n",
       "      <path id=\"ArialMT-6d\" d=\"M 422 0 \n",
       "L 422 3319 \n",
       "L 925 3319 \n",
       "L 925 2853 \n",
       "Q 1081 3097 1340 3245 \n",
       "Q 1600 3394 1931 3394 \n",
       "Q 2300 3394 2536 3241 \n",
       "Q 2772 3088 2869 2813 \n",
       "Q 3263 3394 3894 3394 \n",
       "Q 4388 3394 4653 3120 \n",
       "Q 4919 2847 4919 2278 \n",
       "L 4919 0 \n",
       "L 4359 0 \n",
       "L 4359 2091 \n",
       "Q 4359 2428 4304 2576 \n",
       "Q 4250 2725 4106 2815 \n",
       "Q 3963 2906 3769 2906 \n",
       "Q 3419 2906 3187 2673 \n",
       "Q 2956 2441 2956 1928 \n",
       "L 2956 0 \n",
       "L 2394 0 \n",
       "L 2394 2156 \n",
       "Q 2394 2531 2256 2718 \n",
       "Q 2119 2906 1806 2906 \n",
       "Q 1569 2906 1367 2781 \n",
       "Q 1166 2656 1075 2415 \n",
       "Q 984 2175 984 1722 \n",
       "L 984 0 \n",
       "L 422 0 \n",
       "z\n",
       "\" transform=\"scale(0.015625)\"/>\n",
       "      <path id=\"ArialMT-70\" d=\"M 422 -1272 \n",
       "L 422 3319 \n",
       "L 934 3319 \n",
       "L 934 2888 \n",
       "Q 1116 3141 1344 3267 \n",
       "Q 1572 3394 1897 3394 \n",
       "Q 2322 3394 2647 3175 \n",
       "Q 2972 2956 3137 2557 \n",
       "Q 3303 2159 3303 1684 \n",
       "Q 3303 1175 3120 767 \n",
       "Q 2938 359 2589 142 \n",
       "Q 2241 -75 1856 -75 \n",
       "Q 1575 -75 1351 44 \n",
       "Q 1128 163 984 344 \n",
       "L 984 -1272 \n",
       "L 422 -1272 \n",
       "z\n",
       "M 931 1641 \n",
       "Q 931 1000 1190 694 \n",
       "Q 1450 388 1819 388 \n",
       "Q 2194 388 2461 705 \n",
       "Q 2728 1022 2728 1688 \n",
       "Q 2728 2322 2467 2637 \n",
       "Q 2206 2953 1844 2953 \n",
       "Q 1484 2953 1207 2617 \n",
       "Q 931 2281 931 1641 \n",
       "z\n",
       "\" transform=\"scale(0.015625)\"/>\n",
       "      <path id=\"ArialMT-6c\" d=\"M 409 0 \n",
       "L 409 4581 \n",
       "L 972 4581 \n",
       "L 972 0 \n",
       "L 409 0 \n",
       "z\n",
       "\" transform=\"scale(0.015625)\"/>\n",
       "     </defs>\n",
       "     <use xlink:href=\"#ArialMT-44\"/>\n",
       "     <use xlink:href=\"#ArialMT-61\" x=\"72.216797\"/>\n",
       "     <use xlink:href=\"#ArialMT-74\" x=\"127.832031\"/>\n",
       "     <use xlink:href=\"#ArialMT-61\" x=\"155.615234\"/>\n",
       "     <use xlink:href=\"#ArialMT-73\" x=\"211.230469\"/>\n",
       "     <use xlink:href=\"#ArialMT-65\" x=\"261.230469\"/>\n",
       "     <use xlink:href=\"#ArialMT-74\" x=\"316.845703\"/>\n",
       "     <use xlink:href=\"#ArialMT-20\" x=\"344.628906\"/>\n",
       "     <use xlink:href=\"#ArialMT-73\" x=\"372.412109\"/>\n",
       "     <use xlink:href=\"#ArialMT-61\" x=\"422.412109\"/>\n",
       "     <use xlink:href=\"#ArialMT-6d\" x=\"478.027344\"/>\n",
       "     <use xlink:href=\"#ArialMT-70\" x=\"561.328125\"/>\n",
       "     <use xlink:href=\"#ArialMT-6c\" x=\"616.943359\"/>\n",
       "     <use xlink:href=\"#ArialMT-65\" x=\"639.160156\"/>\n",
       "     <use xlink:href=\"#ArialMT-73\" x=\"694.775391\"/>\n",
       "    </g>\n",
       "   </g>\n",
       "   <g id=\"legend_1\">\n",
       "    <g id=\"patch_7\">\n",
       "     <path d=\"M 197.010937 149.879219 \n",
       "L 268.889063 149.879219 \n",
       "Q 271.089063 149.879219 271.089063 147.679219 \n",
       "L 271.089063 117.659531 \n",
       "Q 271.089063 115.459531 268.889063 115.459531 \n",
       "L 197.010937 115.459531 \n",
       "Q 194.810937 115.459531 194.810937 117.659531 \n",
       "L 194.810937 147.679219 \n",
       "Q 194.810937 149.879219 197.010937 149.879219 \n",
       "z\n",
       "\" style=\"fill: #eaeaf2; opacity: 0.8; stroke: #cccccc; stroke-linejoin: miter\"/>\n",
       "    </g>\n",
       "    <g id=\"PathCollection_3\">\n",
       "     <g>\n",
       "      <use xlink:href=\"#m82d2f22cc4\" x=\"210.210938\" y=\"124.845625\" style=\"fill: #4c72b0; stroke: #333333\"/>\n",
       "     </g>\n",
       "    </g>\n",
       "    <g id=\"text_15\">\n",
       "     <!-- Class 0 -->\n",
       "     <g style=\"fill: #262626\" transform=\"translate(230.010938 127.733125) scale(0.11 -0.11)\">\n",
       "      <defs>\n",
       "       <path id=\"ArialMT-43\" d=\"M 3763 1606 \n",
       "L 4369 1453 \n",
       "Q 4178 706 3683 314 \n",
       "Q 3188 -78 2472 -78 \n",
       "Q 1731 -78 1267 223 \n",
       "Q 803 525 561 1097 \n",
       "Q 319 1669 319 2325 \n",
       "Q 319 3041 592 3573 \n",
       "Q 866 4106 1370 4382 \n",
       "Q 1875 4659 2481 4659 \n",
       "Q 3169 4659 3637 4309 \n",
       "Q 4106 3959 4291 3325 \n",
       "L 3694 3184 \n",
       "Q 3534 3684 3231 3912 \n",
       "Q 2928 4141 2469 4141 \n",
       "Q 1941 4141 1586 3887 \n",
       "Q 1231 3634 1087 3207 \n",
       "Q 944 2781 944 2328 \n",
       "Q 944 1744 1114 1308 \n",
       "Q 1284 872 1643 656 \n",
       "Q 2003 441 2422 441 \n",
       "Q 2931 441 3284 734 \n",
       "Q 3638 1028 3763 1606 \n",
       "z\n",
       "\" transform=\"scale(0.015625)\"/>\n",
       "      </defs>\n",
       "      <use xlink:href=\"#ArialMT-43\"/>\n",
       "      <use xlink:href=\"#ArialMT-6c\" x=\"72.216797\"/>\n",
       "      <use xlink:href=\"#ArialMT-61\" x=\"94.433594\"/>\n",
       "      <use xlink:href=\"#ArialMT-73\" x=\"150.048828\"/>\n",
       "      <use xlink:href=\"#ArialMT-73\" x=\"200.048828\"/>\n",
       "      <use xlink:href=\"#ArialMT-20\" x=\"250.048828\"/>\n",
       "      <use xlink:href=\"#ArialMT-30\" x=\"277.832031\"/>\n",
       "     </g>\n",
       "    </g>\n",
       "    <g id=\"PathCollection_4\">\n",
       "     <g>\n",
       "      <use xlink:href=\"#mabfa857457\" x=\"210.210938\" y=\"140.405469\" style=\"fill: #dd8452; stroke: #333333\"/>\n",
       "     </g>\n",
       "    </g>\n",
       "    <g id=\"text_16\">\n",
       "     <!-- Class 1 -->\n",
       "     <g style=\"fill: #262626\" transform=\"translate(230.010938 143.292969) scale(0.11 -0.11)\">\n",
       "      <use xlink:href=\"#ArialMT-43\"/>\n",
       "      <use xlink:href=\"#ArialMT-6c\" x=\"72.216797\"/>\n",
       "      <use xlink:href=\"#ArialMT-61\" x=\"94.433594\"/>\n",
       "      <use xlink:href=\"#ArialMT-73\" x=\"150.048828\"/>\n",
       "      <use xlink:href=\"#ArialMT-73\" x=\"200.048828\"/>\n",
       "      <use xlink:href=\"#ArialMT-20\" x=\"250.048828\"/>\n",
       "      <use xlink:href=\"#ArialMT-31\" x=\"277.832031\"/>\n",
       "     </g>\n",
       "    </g>\n",
       "   </g>\n",
       "  </g>\n",
       " </g>\n",
       " <defs>\n",
       "  <clipPath id=\"p2d612d7fff\">\n",
       "   <rect x=\"53.389062\" y=\"21.789375\" width=\"223.2\" height=\"221.76\"/>\n",
       "  </clipPath>\n",
       " </defs>\n",
       "</svg>\n"
      ],
      "text/plain": [
       "<Figure size 400x400 with 1 Axes>"
      ]
     },
     "metadata": {},
     "output_type": "display_data"
    }
   ],
   "source": [
    "visualize_samples(dataset.data, dataset.label)\n",
    "plt.show()"
   ]
  },
  {
   "cell_type": "code",
   "execution_count": 164,
   "metadata": {},
   "outputs": [],
   "source": [
    "# This collate function is taken from the JAX tutorial with PyTorch Data Loading\n",
    "# https://jax.readthedocs.io/en/latest/notebooks/Neural_Network_and_Data_Loading.html\n",
    "def numpy_collate(batch):\n",
    "    if isinstance(batch[0], np.ndarray):\n",
    "        return np.stack(batch)\n",
    "    elif isinstance(batch[0], (tuple,list)):\n",
    "        transposed = zip(*batch)\n",
    "        return [numpy_collate(samples) for samples in transposed]\n",
    "    else:\n",
    "        return np.array(batch)\n",
    "\n",
    "data_loader = data.DataLoader(dataset, batch_size=8, shuffle=True, collate_fn=numpy_collate)"
   ]
  },
  {
   "cell_type": "code",
   "execution_count": 165,
   "metadata": {},
   "outputs": [
    {
     "name": "stdout",
     "output_type": "stream",
     "text": [
      "Data inputs (8, 2) \n",
      " [[ 0.05298042  0.14415686]\n",
      " [-0.08984147  1.049192  ]\n",
      " [-0.16275424  1.0048085 ]\n",
      " [-0.06506426  0.95128745]\n",
      " [-0.02750517  0.7698079 ]\n",
      " [ 1.0013002   1.1453534 ]\n",
      " [ 0.8484809   0.13668743]\n",
      " [ 0.06141667  1.0757508 ]]\n",
      "Data labels (8,) \n",
      " [0 1 1 1 1 0 1 1]\n"
     ]
    }
   ],
   "source": [
    "# next(iter(...)) catches the first batch of the data loader\n",
    "# If shuffle is True, this will return a different batch every time we run this cell\n",
    "# For iterating over the whole dataset, we can simple use \"for batch in data_loader: ...\"\n",
    "data_inputs, data_labels = next(iter(data_loader))\n",
    "\n",
    "# The shape of the outputs are [batch_size, d_1,...,d_N] where d_1,...,d_N are the\n",
    "# dimensions of the data point returned from the dataset class\n",
    "print(\"Data inputs\", data_inputs.shape, \"\\n\", data_inputs)\n",
    "print(\"Data labels\", data_labels.shape, \"\\n\", data_labels)"
   ]
  },
  {
   "cell_type": "code",
   "execution_count": null,
   "metadata": {},
   "outputs": [],
   "source": []
  }
 ],
 "metadata": {
  "kernelspec": {
   "display_name": "dfl_test",
   "language": "python",
   "name": "python3"
  },
  "language_info": {
   "codemirror_mode": {
    "name": "ipython",
    "version": 3
   },
   "file_extension": ".py",
   "mimetype": "text/x-python",
   "name": "python",
   "nbconvert_exporter": "python",
   "pygments_lexer": "ipython3",
   "version": "3.10.14"
  }
 },
 "nbformat": 4,
 "nbformat_minor": 2
}

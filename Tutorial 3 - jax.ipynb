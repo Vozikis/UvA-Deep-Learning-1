{
 "cells": [
  {
   "cell_type": "code",
   "execution_count": 1,
   "metadata": {},
   "outputs": [
    {
     "name": "stderr",
     "output_type": "stream",
     "text": [
      "/var/folders/f2/gq8xgm9x491cqwtct_tgpy0h0000gn/T/ipykernel_13391/2159690685.py:14: DeprecationWarning: `set_matplotlib_formats` is deprecated since IPython 7.23, directly use `matplotlib_inline.backend_inline.set_matplotlib_formats()`\n",
      "  set_matplotlib_formats('svg', 'pdf') # For export\n",
      "WARNING:absl:Tensorflow library not found, tensorflow.io.gfile operations will use native shim calls. GCS paths (i.e. 'gs://...') cannot be accessed.\n"
     ]
    }
   ],
   "source": [
    "## Standard libraries\n",
    "import os\n",
    "import json\n",
    "import math\n",
    "import numpy as np\n",
    "from typing import Any, Sequence\n",
    "import pickle\n",
    "from copy import deepcopy\n",
    "\n",
    "## Imports for plotting\n",
    "import matplotlib.pyplot as plt\n",
    "%matplotlib inline\n",
    "from IPython.display import set_matplotlib_formats\n",
    "set_matplotlib_formats('svg', 'pdf') # For export\n",
    "import seaborn as sns\n",
    "sns.set()\n",
    "\n",
    "## Progress bar\n",
    "from tqdm.auto import tqdm\n",
    "\n",
    "## JAX\n",
    "import jax\n",
    "import jax.numpy as jnp\n",
    "from jax import random\n",
    "\n",
    "## Flax (NN in JAX)\n",
    "try:\n",
    "    import flax\n",
    "except ModuleNotFoundError: # Install flax if missing\n",
    "    !pip install --quiet flax\n",
    "    import flax\n",
    "from flax import linen as nn\n",
    "from flax.training import train_state, checkpoints\n",
    "\n",
    "## Optax (Optimizers in JAX)\n",
    "try:\n",
    "    import optax\n",
    "except ModuleNotFoundError: # Install optax if missing\n",
    "    !pip install --quiet optax\n",
    "    import optax"
   ]
  },
  {
   "cell_type": "code",
   "execution_count": 2,
   "metadata": {},
   "outputs": [
    {
     "name": "stderr",
     "output_type": "stream",
     "text": [
      "WARNING:jax._src.xla_bridge:Platform 'METAL' is experimental and not all JAX functionality may be correctly supported!\n"
     ]
    },
    {
     "name": "stdout",
     "output_type": "stream",
     "text": [
      "Metal device set to: Apple M1 Pro\n",
      "\n",
      "systemMemory: 16.00 GB\n",
      "maxCacheSize: 5.33 GB\n",
      "\n",
      "Device: METAL:0\n"
     ]
    },
    {
     "name": "stderr",
     "output_type": "stream",
     "text": [
      "2024-04-17 12:14:59.585853: W pjrt_plugin/src/mps_client.cc:563] WARNING: JAX Apple GPU support is experimental and not all JAX functionality is correctly supported!\n"
     ]
    }
   ],
   "source": [
    "# Path to the folder where the datasets are/should be downloaded (e.g. MNIST)\n",
    "DATASET_PATH = \"../../data\"\n",
    "# Path to the folder where the pretrained models are saved\n",
    "CHECKPOINT_PATH = \"../../saved_models/tutorial3_jax\"\n",
    "\n",
    "# Verifying the device that will be used throughout this notebook\n",
    "print(\"Device:\", jax.devices()[0])"
   ]
  },
  {
   "cell_type": "code",
   "execution_count": 4,
   "metadata": {},
   "outputs": [
    {
     "name": "stdout",
     "output_type": "stream",
     "text": [
      "Downloading https://raw.githubusercontent.com/phlippe/saved_models/main/JAX/tutorial3/FashionMNIST_elu.config...\n",
      "Downloading https://raw.githubusercontent.com/phlippe/saved_models/main/JAX/tutorial3/FashionMNIST_elu.tar...\n",
      "Downloading https://raw.githubusercontent.com/phlippe/saved_models/main/JAX/tutorial3/FashionMNIST_leakyrelu.config...\n",
      "Downloading https://raw.githubusercontent.com/phlippe/saved_models/main/JAX/tutorial3/FashionMNIST_leakyrelu.tar...\n",
      "Downloading https://raw.githubusercontent.com/phlippe/saved_models/main/JAX/tutorial3/FashionMNIST_relu.config...\n",
      "Downloading https://raw.githubusercontent.com/phlippe/saved_models/main/JAX/tutorial3/FashionMNIST_relu.tar...\n",
      "Downloading https://raw.githubusercontent.com/phlippe/saved_models/main/JAX/tutorial3/FashionMNIST_sigmoid.config...\n",
      "Downloading https://raw.githubusercontent.com/phlippe/saved_models/main/JAX/tutorial3/FashionMNIST_sigmoid.tar...\n",
      "Downloading https://raw.githubusercontent.com/phlippe/saved_models/main/JAX/tutorial3/FashionMNIST_swish.config...\n",
      "Downloading https://raw.githubusercontent.com/phlippe/saved_models/main/JAX/tutorial3/FashionMNIST_swish.tar...\n",
      "Downloading https://raw.githubusercontent.com/phlippe/saved_models/main/JAX/tutorial3/FashionMNIST_tanh.config...\n",
      "Downloading https://raw.githubusercontent.com/phlippe/saved_models/main/JAX/tutorial3/FashionMNIST_tanh.tar...\n"
     ]
    }
   ],
   "source": [
    "import urllib.request\n",
    "from urllib.error import HTTPError\n",
    "# Github URL where saved models are stored for this tutorial\n",
    "base_url = \"https://raw.githubusercontent.com/phlippe/saved_models/main/JAX/tutorial3/\"\n",
    "# Files to download\n",
    "pretrained_files = [\"FashionMNIST_elu.config\", \"FashionMNIST_elu.tar\",\n",
    "                    \"FashionMNIST_leakyrelu.config\", \"FashionMNIST_leakyrelu.tar\",\n",
    "                    \"FashionMNIST_relu.config\", \"FashionMNIST_relu.tar\",\n",
    "                    \"FashionMNIST_sigmoid.config\", \"FashionMNIST_sigmoid.tar\",\n",
    "                    \"FashionMNIST_swish.config\", \"FashionMNIST_swish.tar\",\n",
    "                    \"FashionMNIST_tanh.config\", \"FashionMNIST_tanh.tar\"]\n",
    "# Create checkpoint path if it doesn't exist yet\n",
    "os.makedirs(CHECKPOINT_PATH, exist_ok=True)\n",
    "\n",
    "# For each file, check whether it already exists. If not, try downloading it.\n",
    "for file_name in pretrained_files:\n",
    "    file_path = os.path.join(CHECKPOINT_PATH, file_name)\n",
    "    if not os.path.isfile(file_path):\n",
    "        file_url = base_url + file_name\n",
    "        print(f\"Downloading {file_url}...\")\n",
    "        try:\n",
    "            urllib.request.urlretrieve(file_url, file_path)\n",
    "        except HTTPError as e:\n",
    "            print(\"Something went wrong. Please contact the author with the full output including the following error:\\n\", e)"
   ]
  },
  {
   "cell_type": "code",
   "execution_count": 5,
   "metadata": {},
   "outputs": [],
   "source": [
    "#############################\n",
    "\n",
    "class Sigmoid(nn.Module):\n",
    "\n",
    "    def __call__(self, x):\n",
    "        return 1 / (1 + jnp.exp(-x))\n",
    "\n",
    "##############################\n",
    "\n",
    "class Tanh(nn.Module):\n",
    "\n",
    "    def __call__(self, x):\n",
    "        x_exp, neg_x_exp = jnp.exp(x), jnp.exp(-x)\n",
    "        return (x_exp - neg_x_exp) / (x_exp + neg_x_exp)\n",
    "\n",
    "##############################"
   ]
  },
  {
   "cell_type": "code",
   "execution_count": 6,
   "metadata": {},
   "outputs": [],
   "source": [
    "##############################\n",
    "\n",
    "class ReLU(nn.Module):\n",
    "\n",
    "    def __call__(self, x):\n",
    "        return jnp.maximum(x, 0)\n",
    "\n",
    "##############################\n",
    "\n",
    "class LeakyReLU(nn.Module):\n",
    "    alpha : float = 0.1\n",
    "\n",
    "    def __call__(self, x):\n",
    "        return jnp.where(x > 0, x, self.alpha * x)\n",
    "\n",
    "##############################\n",
    "\n",
    "class ELU(nn.Module):\n",
    "\n",
    "    def __call__(self, x):\n",
    "        return jnp.where(x > 0, x, jnp.exp(x)-1)\n",
    "\n",
    "##############################\n",
    "\n",
    "class Swish(nn.Module):\n",
    "\n",
    "    def __call__(self, x):\n",
    "        return x * nn.sigmoid(x)\n",
    "\n",
    "##############################"
   ]
  },
  {
   "cell_type": "code",
   "execution_count": 7,
   "metadata": {},
   "outputs": [],
   "source": [
    "act_fn_by_name = {\n",
    "    \"sigmoid\": Sigmoid,\n",
    "    \"tanh\": Tanh,\n",
    "    \"relu\": ReLU,\n",
    "    \"leakyrelu\": LeakyReLU,\n",
    "    \"elu\": ELU,\n",
    "    \"swish\": Swish\n",
    "}"
   ]
  },
  {
   "cell_type": "code",
   "execution_count": null,
   "metadata": {},
   "outputs": [],
   "source": []
  }
 ],
 "metadata": {
  "kernelspec": {
   "display_name": "py10",
   "language": "python",
   "name": "python3"
  },
  "language_info": {
   "codemirror_mode": {
    "name": "ipython",
    "version": 3
   },
   "file_extension": ".py",
   "mimetype": "text/x-python",
   "name": "python",
   "nbconvert_exporter": "python",
   "pygments_lexer": "ipython3",
   "version": "3.10.14"
  }
 },
 "nbformat": 4,
 "nbformat_minor": 2
}

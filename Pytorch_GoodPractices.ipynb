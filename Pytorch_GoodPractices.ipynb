{
 "cells": [
  {
   "cell_type": "code",
   "execution_count": 19,
   "metadata": {},
   "outputs": [],
   "source": [
    "import torch\n",
    "import numpy as np"
   ]
  },
  {
   "cell_type": "code",
   "execution_count": 20,
   "metadata": {},
   "outputs": [
    {
     "name": "stdout",
     "output_type": "stream",
     "text": [
      "tensor([0., 0., 0.])\n"
     ]
    }
   ],
   "source": [
    "a = torch.Tensor(3)\n",
    "print(a)"
   ]
  },
  {
   "cell_type": "code",
   "execution_count": 21,
   "metadata": {},
   "outputs": [
    {
     "name": "stdout",
     "output_type": "stream",
     "text": [
      "tensor([1., 2.])\n"
     ]
    }
   ],
   "source": [
    "b = torch.Tensor([1,2])\n",
    "print(b)"
   ]
  },
  {
   "cell_type": "code",
   "execution_count": 22,
   "metadata": {},
   "outputs": [
    {
     "name": "stdout",
     "output_type": "stream",
     "text": [
      "tensor([2., 2.])\n"
     ]
    }
   ],
   "source": [
    "c = torch.Tensor([2,2])\n",
    "print(c)"
   ]
  },
  {
   "cell_type": "code",
   "execution_count": 23,
   "metadata": {},
   "outputs": [
    {
     "name": "stdout",
     "output_type": "stream",
     "text": [
      "tensor([[[0.2219, 0.3330],\n",
      "         [0.0015, 0.0561]],\n",
      "\n",
      "        [[0.7023, 0.8941],\n",
      "         [0.7693, 0.2842]]])\n"
     ]
    }
   ],
   "source": [
    "d = torch.rand([2,2,2])\n",
    "print(d)"
   ]
  },
  {
   "cell_type": "code",
   "execution_count": 24,
   "metadata": {},
   "outputs": [
    {
     "name": "stdout",
     "output_type": "stream",
     "text": [
      "torch.Size([3, 4])\n"
     ]
    }
   ],
   "source": [
    "x = torch.randn([3,5])\n",
    "y = torch.randn([5,4])\n",
    "z = x @ y\n",
    "print(z.shape)"
   ]
  },
  {
   "cell_type": "code",
   "execution_count": 25,
   "metadata": {},
   "outputs": [],
   "source": [
    "z = z+z "
   ]
  },
  {
   "cell_type": "code",
   "execution_count": 26,
   "metadata": {},
   "outputs": [
    {
     "name": "stdout",
     "output_type": "stream",
     "text": [
      "[[  1.9752926    5.3772435   -0.19811274   9.7257805 ]\n",
      " [  2.930745     2.6033418    1.2908676    1.8914489 ]\n",
      " [  5.185331   -11.353455    -1.0462513    3.7863462 ]]\n",
      "<class 'torch.Tensor'>\n",
      "<class 'numpy.ndarray'>\n"
     ]
    }
   ],
   "source": [
    "print(z.numpy())\n",
    "print(type(z)) # torch tensor\n",
    "print(type(z.numpy())) # numpy array)"
   ]
  },
  {
   "cell_type": "code",
   "execution_count": 30,
   "metadata": {},
   "outputs": [
    {
     "name": "stdout",
     "output_type": "stream",
     "text": [
      "<class 'torch.Tensor'>\n"
     ]
    }
   ],
   "source": [
    "x = torch.Tensor(np.random.normal([3,5]))\n",
    "print(type(x)) # torch tensor"
   ]
  },
  {
   "cell_type": "markdown",
   "metadata": {},
   "source": [
    "# Autodiff"
   ]
  },
  {
   "cell_type": "code",
   "execution_count": 34,
   "metadata": {},
   "outputs": [],
   "source": [
    "x = torch.tensor(1.0, requires_grad=True)\n",
    "\n",
    "\n",
    "\n",
    "def u(x):\n",
    "    return x*x\n",
    "def g(u):\n",
    "    return -u"
   ]
  },
  {
   "cell_type": "code",
   "execution_count": 39,
   "metadata": {},
   "outputs": [
    {
     "name": "stdout",
     "output_type": "stream",
     "text": [
      "tensor(-2.)\n"
     ]
    }
   ],
   "source": [
    "dgdx = torch.autograd.grad(g(u(x)), x)[0]\n",
    "\n",
    "print(dgdx)"
   ]
  },
  {
   "cell_type": "code",
   "execution_count": 69,
   "metadata": {},
   "outputs": [
    {
     "name": "stdout",
     "output_type": "stream",
     "text": [
      "tensor([[1, 2, 3],\n",
      "        [4, 5, 6]])\n"
     ]
    }
   ],
   "source": [
    "x = torch.tensor(([1,2,3],[4,5,6]))\n",
    "print(x)\n",
    "\n"
   ]
  },
  {
   "cell_type": "code",
   "execution_count": 70,
   "metadata": {},
   "outputs": [
    {
     "name": "stdout",
     "output_type": "stream",
     "text": [
      "tensor([[[1, 2, 3],\n",
      "         [4, 5, 6]],\n",
      "\n",
      "        [[1, 2, 3],\n",
      "         [4, 5, 6]]])\n",
      "torch.Size([2, 2, 3])\n"
     ]
    }
   ],
   "source": [
    "x_stacked_0 = torch.stack([x,x],0)\n",
    "print(x_stacked_0)\n",
    "print(x_stacked_0.size())"
   ]
  },
  {
   "cell_type": "code",
   "execution_count": 71,
   "metadata": {},
   "outputs": [
    {
     "name": "stdout",
     "output_type": "stream",
     "text": [
      "tensor([[[1, 2, 3],\n",
      "         [1, 2, 3]],\n",
      "\n",
      "        [[4, 5, 6],\n",
      "         [4, 5, 6]]])\n",
      "torch.Size([2, 2, 3])\n"
     ]
    }
   ],
   "source": [
    "\n",
    "x_stacked_1 = torch.stack([x,x],1)\n",
    "print(x_stacked_1)\n",
    "print(x_stacked_1.size())"
   ]
  },
  {
   "cell_type": "code",
   "execution_count": 73,
   "metadata": {},
   "outputs": [
    {
     "name": "stdout",
     "output_type": "stream",
     "text": [
      "tensor([[[1, 1],\n",
      "         [2, 2],\n",
      "         [3, 3]],\n",
      "\n",
      "        [[4, 4],\n",
      "         [5, 5],\n",
      "         [6, 6]]])\n",
      "torch.Size([2, 3, 2])\n"
     ]
    }
   ],
   "source": [
    "\n",
    "x_stacked_2 = torch.stack([x,x],2)\n",
    "print(x_stacked_2)\n",
    "print(x_stacked_2.size())"
   ]
  },
  {
   "cell_type": "code",
   "execution_count": 89,
   "metadata": {},
   "outputs": [
    {
     "name": "stdout",
     "output_type": "stream",
     "text": [
      "tensor([[[0.1353, 0.0530, 0.0104, 1.9360, 0.6952]],\n",
      "\n",
      "        [[0.1051, 0.0828, 1.3930, 0.0761, 2.3193]],\n",
      "\n",
      "        [[0.4783, 0.0218, 1.4749, 2.7523, 1.4608]]])\n",
      "tensor([[[ 0.3678,  0.2302, -0.1019,  1.3914,  0.8338]],\n",
      "\n",
      "        [[ 0.3241, -0.2877,  1.1803,  0.2758,  1.5229]],\n",
      "\n",
      "        [[ 0.6916,  0.1477, -1.2145,  1.6590,  1.2086]]])\n",
      "tensor([[[1., 1., 1., 1., 1.]],\n",
      "\n",
      "        [[1., 1., 1., 1., 1.]],\n",
      "\n",
      "        [[1., 1., 1., 1., 1.]]])\n"
     ]
    }
   ],
   "source": [
    "print(x*x)\n",
    "print(x)\n",
    "print(torch.ones_like(x))"
   ]
  },
  {
   "cell_type": "code",
   "execution_count": 91,
   "metadata": {},
   "outputs": [
    {
     "name": "stdout",
     "output_type": "stream",
     "text": [
      "tensor([[[[ 0.1353,  0.3678,  1.0000],\n",
      "          [ 0.0530,  0.2302,  1.0000],\n",
      "          [ 0.0104, -0.1019,  1.0000],\n",
      "          [ 1.9360,  1.3914,  1.0000],\n",
      "          [ 0.6952,  0.8338,  1.0000]]],\n",
      "\n",
      "\n",
      "        [[[ 0.1051,  0.3241,  1.0000],\n",
      "          [ 0.0828, -0.2877,  1.0000],\n",
      "          [ 1.3930,  1.1803,  1.0000],\n",
      "          [ 0.0761,  0.2758,  1.0000],\n",
      "          [ 2.3193,  1.5229,  1.0000]]],\n",
      "\n",
      "\n",
      "        [[[ 0.4783,  0.6916,  1.0000],\n",
      "          [ 0.0218,  0.1477,  1.0000],\n",
      "          [ 1.4749, -1.2145,  1.0000],\n",
      "          [ 2.7523,  1.6590,  1.0000],\n",
      "          [ 1.4608,  1.2086,  1.0000]]]])\n",
      "torch.Size([3, 1, 5, 3])\n"
     ]
    }
   ],
   "source": [
    "\n",
    "x_stacked_square = torch.stack([x*x,x, torch.ones_like(x) ],-1)\n",
    "\n",
    "print(x_stacked_square)\n",
    "print(x_stacked_square.size())\n"
   ]
  },
  {
   "cell_type": "code",
   "execution_count": 86,
   "metadata": {},
   "outputs": [
    {
     "name": "stdout",
     "output_type": "stream",
     "text": [
      "[[4.9922624e+00]\n",
      " [6.8596704e-04]\n",
      " [3.4647186e+00]]\n"
     ]
    },
    {
     "name": "stderr",
     "output_type": "stream",
     "text": [
      "/var/folders/f2/gq8xgm9x491cqwtct_tgpy0h0000gn/T/ipykernel_23390/2998677527.py:1: UserWarning: To copy construct from a tensor, it is recommended to use sourceTensor.clone().detach() or sourceTensor.clone().detach().requires_grad_(True), rather than torch.tensor(sourceTensor).\n",
      "  w = torch.tensor(torch.randn([3,1]), requires_grad=True)\n"
     ]
    }
   ],
   "source": [
    "w = torch.tensor(torch.randn([3,1]), requires_grad=True)\n",
    "\n",
    "opt = torch.optim.Adam([w],lr=0.1)\n",
    "\n",
    "\n",
    "def model(x):\n",
    "    f = torch.stack([x * x, x, torch.ones_like(x)], 1)\n",
    "    yhat = torch.squeeze(f @ w, 1)\n",
    "    return yhat\n",
    "\n",
    "\n",
    "def compute_loss(y, yhat):\n",
    "    loss = torch.nn.functional.mse_loss(yhat,y)\n",
    "    return loss\n",
    "\n",
    "\n",
    "def generate_data():\n",
    "    x = torch.rand(100)*20 -10\n",
    "    y = 5*x*x + 3\n",
    "    return x,y\n",
    "\n",
    "def train_step():\n",
    "    x, y = generate_data()\n",
    "    \n",
    "    yhat = model(x)\n",
    "    loss = compute_loss(y, yhat)\n",
    "    opt.zero_grad()\n",
    "    loss.backward()\n",
    "    opt.step()\n",
    "    \n",
    "for _ in range(1000):\n",
    "    train_step()\n",
    "        \n",
    "print(w.detach().numpy())"
   ]
  },
  {
   "cell_type": "markdown",
   "metadata": {},
   "source": [
    "# Encapsulate the model with Modules\n",
    "\n"
   ]
  },
  {
   "cell_type": "code",
   "execution_count": 92,
   "metadata": {},
   "outputs": [],
   "source": [
    "import torch.nn as nn\n",
    "\n",
    "class Net(nn.Module):\n",
    "    def __init__(self):\n",
    "        super().__init__()\n",
    "        self.a = nn.Parameter(torch.rand(1))\n",
    "        self.b = nn.Parameter(torch.rand(1))\n",
    "        \n",
    "    def forward(self,x):\n",
    "        yhat = self.a*x + self.b\n",
    "        return yhat"
   ]
  },
  {
   "cell_type": "code",
   "execution_count": 96,
   "metadata": {},
   "outputs": [],
   "source": [
    "x = torch.arange(100,dtype=torch.float32)\n",
    "net = Net()\n",
    "y = net(x)\n"
   ]
  },
  {
   "cell_type": "code",
   "execution_count": 97,
   "metadata": {},
   "outputs": [
    {
     "name": "stdout",
     "output_type": "stream",
     "text": [
      "Parameter containing:\n",
      "tensor([0.2963], requires_grad=True)\n",
      "Parameter containing:\n",
      "tensor([0.1923], requires_grad=True)\n"
     ]
    }
   ],
   "source": [
    "for p in net.parameters():\n",
    "    print(p)"
   ]
  },
  {
   "cell_type": "code",
   "execution_count": 98,
   "metadata": {},
   "outputs": [],
   "source": [
    "x = torch.arange(100,dtype=torch.float32) /100\n",
    "y = 5*x +3 + torch.rand(100) * 0.3"
   ]
  },
  {
   "cell_type": "code",
   "execution_count": 100,
   "metadata": {},
   "outputs": [
    {
     "name": "stdout",
     "output_type": "stream",
     "text": [
      "Parameter containing:\n",
      "tensor([5.0385], requires_grad=True) Parameter containing:\n",
      "tensor([3.1362], requires_grad=True)\n"
     ]
    }
   ],
   "source": [
    "criterion = nn.MSELoss()\n",
    "optimizer = torch.optim.SGD(net.parameters(), lr=0.01)\n",
    "\n",
    "\n",
    "for i in range(10000):\n",
    "    net.zero_grad()\n",
    "    yhat = net(x)\n",
    "    loss = criterion(yhat,y)\n",
    "    loss.backward()\n",
    "    optimizer.step()\n",
    "    \n",
    "print(net.a,net.b)"
   ]
  },
  {
   "cell_type": "markdown",
   "metadata": {},
   "source": [
    "torch.nn.Linear is a predifined module following the one that we set above"
   ]
  },
  {
   "cell_type": "code",
   "execution_count": 101,
   "metadata": {},
   "outputs": [],
   "source": [
    "class Net(torch.nn.Module):\n",
    "\n",
    "    def __init__(self):\n",
    "        super().__init__()\n",
    "        self.linear = torch.nn.Linear(1, 1)\n",
    "\n",
    "    def forward(self, x):\n",
    "        yhat = self.linear(x.unsqueeze(1)).squeeze(1)\n",
    "        return yhat"
   ]
  },
  {
   "cell_type": "code",
   "execution_count": 102,
   "metadata": {},
   "outputs": [
    {
     "name": "stdout",
     "output_type": "stream",
     "text": [
      "Parameter containing:\n",
      "tensor([[0.5225]], requires_grad=True)\n",
      "Parameter containing:\n",
      "tensor([0.2610], requires_grad=True)\n"
     ]
    }
   ],
   "source": [
    "net = Net()\n",
    "for p in net.parameters():\n",
    "    print(p)"
   ]
  },
  {
   "cell_type": "code",
   "execution_count": 103,
   "metadata": {},
   "outputs": [],
   "source": [
    "model = nn.Sequential(\n",
    "    nn.Linear(64,32),\n",
    "    nn.ReLU(),\n",
    "    nn.Linear(32,10),\n",
    ")"
   ]
  },
  {
   "cell_type": "markdown",
   "metadata": {},
   "source": [
    "# Broadcasting"
   ]
  },
  {
   "cell_type": "code",
   "execution_count": null,
   "metadata": {},
   "outputs": [],
   "source": []
  }
 ],
 "metadata": {
  "kernelspec": {
   "display_name": "python3.10",
   "language": "python",
   "name": "python3"
  },
  "language_info": {
   "codemirror_mode": {
    "name": "ipython",
    "version": 3
   },
   "file_extension": ".py",
   "mimetype": "text/x-python",
   "name": "python",
   "nbconvert_exporter": "python",
   "pygments_lexer": "ipython3",
   "version": "3.10.14"
  }
 },
 "nbformat": 4,
 "nbformat_minor": 2
}

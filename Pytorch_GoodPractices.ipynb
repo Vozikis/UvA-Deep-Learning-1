{
 "cells": [
  {
   "cell_type": "code",
   "execution_count": 1,
   "metadata": {},
   "outputs": [],
   "source": [
    "import torch\n",
    "import numpy as np"
   ]
  },
  {
   "cell_type": "code",
   "execution_count": 2,
   "metadata": {},
   "outputs": [
    {
     "name": "stdout",
     "output_type": "stream",
     "text": [
      "tensor([0., 0., 0.])\n"
     ]
    }
   ],
   "source": [
    "a = torch.Tensor(3)\n",
    "print(a)"
   ]
  },
  {
   "cell_type": "code",
   "execution_count": 3,
   "metadata": {},
   "outputs": [
    {
     "name": "stdout",
     "output_type": "stream",
     "text": [
      "tensor([1., 2.])\n"
     ]
    }
   ],
   "source": [
    "b = torch.Tensor([1,2])\n",
    "print(b)"
   ]
  },
  {
   "cell_type": "code",
   "execution_count": 4,
   "metadata": {},
   "outputs": [
    {
     "name": "stdout",
     "output_type": "stream",
     "text": [
      "tensor([2., 2.])\n"
     ]
    }
   ],
   "source": [
    "c = torch.Tensor([2,2])\n",
    "print(c)"
   ]
  },
  {
   "cell_type": "code",
   "execution_count": 5,
   "metadata": {},
   "outputs": [
    {
     "name": "stdout",
     "output_type": "stream",
     "text": [
      "tensor([[[0.3192, 0.2745],\n",
      "         [0.1739, 0.2762]],\n",
      "\n",
      "        [[0.2070, 0.9111],\n",
      "         [0.1745, 0.7736]]])\n"
     ]
    }
   ],
   "source": [
    "d = torch.rand([2,2,2])\n",
    "print(d)"
   ]
  },
  {
   "cell_type": "code",
   "execution_count": 6,
   "metadata": {},
   "outputs": [
    {
     "name": "stdout",
     "output_type": "stream",
     "text": [
      "torch.Size([3, 4])\n"
     ]
    }
   ],
   "source": [
    "x = torch.randn([3,5])\n",
    "y = torch.randn([5,4])\n",
    "z = x @ y\n",
    "print(z.shape)"
   ]
  },
  {
   "cell_type": "code",
   "execution_count": 7,
   "metadata": {},
   "outputs": [],
   "source": [
    "z = z+z "
   ]
  },
  {
   "cell_type": "code",
   "execution_count": 8,
   "metadata": {},
   "outputs": [
    {
     "name": "stdout",
     "output_type": "stream",
     "text": [
      "[[ 2.6261988   0.09623829 -3.0123212  -2.8543663 ]\n",
      " [ 3.399937   -5.7573743   0.8399302  -3.4104428 ]\n",
      " [ 2.2365975   0.0135173   0.82174206 -2.0824642 ]]\n",
      "<class 'torch.Tensor'>\n",
      "<class 'numpy.ndarray'>\n"
     ]
    }
   ],
   "source": [
    "print(z.numpy())\n",
    "print(type(z)) # torch tensor\n",
    "print(type(z.numpy())) # numpy array)"
   ]
  },
  {
   "cell_type": "code",
   "execution_count": 9,
   "metadata": {},
   "outputs": [
    {
     "name": "stdout",
     "output_type": "stream",
     "text": [
      "<class 'torch.Tensor'>\n"
     ]
    }
   ],
   "source": [
    "x = torch.Tensor(np.random.normal([3,5]))\n",
    "print(type(x)) # torch tensor"
   ]
  },
  {
   "cell_type": "markdown",
   "metadata": {},
   "source": [
    "# Autodiff"
   ]
  },
  {
   "cell_type": "code",
   "execution_count": 10,
   "metadata": {},
   "outputs": [],
   "source": [
    "x = torch.tensor(1.0, requires_grad=True)\n",
    "\n",
    "\n",
    "\n",
    "def u(x):\n",
    "    return x*x\n",
    "def g(u):\n",
    "    return -u"
   ]
  },
  {
   "cell_type": "code",
   "execution_count": 11,
   "metadata": {},
   "outputs": [
    {
     "name": "stdout",
     "output_type": "stream",
     "text": [
      "tensor(-2.)\n"
     ]
    }
   ],
   "source": [
    "dgdx = torch.autograd.grad(g(u(x)), x)[0]\n",
    "\n",
    "print(dgdx)"
   ]
  },
  {
   "cell_type": "code",
   "execution_count": 12,
   "metadata": {},
   "outputs": [
    {
     "name": "stdout",
     "output_type": "stream",
     "text": [
      "tensor([[1, 2, 3],\n",
      "        [4, 5, 6]])\n"
     ]
    }
   ],
   "source": [
    "x = torch.tensor(([1,2,3],[4,5,6]))\n",
    "print(x)\n",
    "\n"
   ]
  },
  {
   "cell_type": "code",
   "execution_count": 13,
   "metadata": {},
   "outputs": [
    {
     "name": "stdout",
     "output_type": "stream",
     "text": [
      "tensor([[[1, 2, 3],\n",
      "         [4, 5, 6]],\n",
      "\n",
      "        [[1, 2, 3],\n",
      "         [4, 5, 6]]])\n",
      "torch.Size([2, 2, 3])\n"
     ]
    }
   ],
   "source": [
    "x_stacked_0 = torch.stack([x,x],0)\n",
    "print(x_stacked_0)\n",
    "print(x_stacked_0.size())"
   ]
  },
  {
   "cell_type": "code",
   "execution_count": 14,
   "metadata": {},
   "outputs": [
    {
     "name": "stdout",
     "output_type": "stream",
     "text": [
      "tensor([[[1, 2, 3],\n",
      "         [1, 2, 3]],\n",
      "\n",
      "        [[4, 5, 6],\n",
      "         [4, 5, 6]]])\n",
      "torch.Size([2, 2, 3])\n"
     ]
    }
   ],
   "source": [
    "\n",
    "x_stacked_1 = torch.stack([x,x],1)\n",
    "print(x_stacked_1)\n",
    "print(x_stacked_1.size())"
   ]
  },
  {
   "cell_type": "code",
   "execution_count": 15,
   "metadata": {},
   "outputs": [
    {
     "name": "stdout",
     "output_type": "stream",
     "text": [
      "tensor([[[1, 1],\n",
      "         [2, 2],\n",
      "         [3, 3]],\n",
      "\n",
      "        [[4, 4],\n",
      "         [5, 5],\n",
      "         [6, 6]]])\n",
      "torch.Size([2, 3, 2])\n"
     ]
    }
   ],
   "source": [
    "\n",
    "x_stacked_2 = torch.stack([x,x],2)\n",
    "print(x_stacked_2)\n",
    "print(x_stacked_2.size())"
   ]
  },
  {
   "cell_type": "code",
   "execution_count": 16,
   "metadata": {},
   "outputs": [
    {
     "name": "stdout",
     "output_type": "stream",
     "text": [
      "tensor([[ 1,  4,  9],\n",
      "        [16, 25, 36]])\n",
      "tensor([[1, 2, 3],\n",
      "        [4, 5, 6]])\n",
      "tensor([[1, 1, 1],\n",
      "        [1, 1, 1]])\n"
     ]
    }
   ],
   "source": [
    "print(x*x)\n",
    "print(x)\n",
    "print(torch.ones_like(x))"
   ]
  },
  {
   "cell_type": "code",
   "execution_count": 17,
   "metadata": {},
   "outputs": [
    {
     "name": "stdout",
     "output_type": "stream",
     "text": [
      "tensor([[[ 1,  1,  1],\n",
      "         [ 4,  2,  1],\n",
      "         [ 9,  3,  1]],\n",
      "\n",
      "        [[16,  4,  1],\n",
      "         [25,  5,  1],\n",
      "         [36,  6,  1]]])\n",
      "torch.Size([2, 3, 3])\n"
     ]
    }
   ],
   "source": [
    "\n",
    "x_stacked_square = torch.stack([x*x,x, torch.ones_like(x) ],-1)\n",
    "\n",
    "print(x_stacked_square)\n",
    "print(x_stacked_square.size())\n"
   ]
  },
  {
   "cell_type": "code",
   "execution_count": 18,
   "metadata": {},
   "outputs": [
    {
     "name": "stderr",
     "output_type": "stream",
     "text": [
      "/var/folders/f2/gq8xgm9x491cqwtct_tgpy0h0000gn/T/ipykernel_24839/2998677527.py:1: UserWarning: To copy construct from a tensor, it is recommended to use sourceTensor.clone().detach() or sourceTensor.clone().detach().requires_grad_(True), rather than torch.tensor(sourceTensor).\n",
      "  w = torch.tensor(torch.randn([3,1]), requires_grad=True)\n"
     ]
    },
    {
     "name": "stdout",
     "output_type": "stream",
     "text": [
      "[[4.976842e+00]\n",
      " [1.006924e-03]\n",
      " [4.356219e+00]]\n"
     ]
    }
   ],
   "source": [
    "w = torch.tensor(torch.randn([3,1]), requires_grad=True)\n",
    "\n",
    "opt = torch.optim.Adam([w],lr=0.1)\n",
    "\n",
    "\n",
    "def model(x):\n",
    "    f = torch.stack([x * x, x, torch.ones_like(x)], 1)\n",
    "    yhat = torch.squeeze(f @ w, 1)\n",
    "    return yhat\n",
    "\n",
    "\n",
    "def compute_loss(y, yhat):\n",
    "    loss = torch.nn.functional.mse_loss(yhat,y)\n",
    "    return loss\n",
    "\n",
    "\n",
    "def generate_data():\n",
    "    x = torch.rand(100)*20 -10\n",
    "    y = 5*x*x + 3\n",
    "    return x,y\n",
    "\n",
    "def train_step():\n",
    "    x, y = generate_data()\n",
    "    \n",
    "    yhat = model(x)\n",
    "    loss = compute_loss(y, yhat)\n",
    "    opt.zero_grad()\n",
    "    loss.backward()\n",
    "    opt.step()\n",
    "    \n",
    "for _ in range(1000):\n",
    "    train_step()\n",
    "        \n",
    "print(w.detach().numpy())"
   ]
  },
  {
   "cell_type": "markdown",
   "metadata": {},
   "source": [
    "# Encapsulate the model with Modules\n",
    "\n"
   ]
  },
  {
   "cell_type": "code",
   "execution_count": 19,
   "metadata": {},
   "outputs": [],
   "source": [
    "import torch.nn as nn\n",
    "\n",
    "class Net(nn.Module):\n",
    "    def __init__(self):\n",
    "        super().__init__()\n",
    "        self.a = nn.Parameter(torch.rand(1))\n",
    "        self.b = nn.Parameter(torch.rand(1))\n",
    "        \n",
    "    def forward(self,x):\n",
    "        yhat = self.a*x + self.b\n",
    "        return yhat"
   ]
  },
  {
   "cell_type": "code",
   "execution_count": 20,
   "metadata": {},
   "outputs": [],
   "source": [
    "x = torch.arange(100,dtype=torch.float32)\n",
    "net = Net()\n",
    "y = net(x)\n"
   ]
  },
  {
   "cell_type": "code",
   "execution_count": 21,
   "metadata": {},
   "outputs": [
    {
     "name": "stdout",
     "output_type": "stream",
     "text": [
      "Parameter containing:\n",
      "tensor([0.9216], requires_grad=True)\n",
      "Parameter containing:\n",
      "tensor([0.2227], requires_grad=True)\n"
     ]
    }
   ],
   "source": [
    "for p in net.parameters():\n",
    "    print(p)"
   ]
  },
  {
   "cell_type": "code",
   "execution_count": 22,
   "metadata": {},
   "outputs": [],
   "source": [
    "x = torch.arange(100,dtype=torch.float32) /100\n",
    "y = 5*x +3 + torch.rand(100) * 0.3"
   ]
  },
  {
   "cell_type": "code",
   "execution_count": 23,
   "metadata": {},
   "outputs": [
    {
     "name": "stdout",
     "output_type": "stream",
     "text": [
      "Parameter containing:\n",
      "tensor([5.0185], requires_grad=True) Parameter containing:\n",
      "tensor([3.1362], requires_grad=True)\n"
     ]
    }
   ],
   "source": [
    "criterion = nn.MSELoss()\n",
    "optimizer = torch.optim.SGD(net.parameters(), lr=0.01)\n",
    "\n",
    "\n",
    "for i in range(10000):\n",
    "    net.zero_grad()\n",
    "    yhat = net(x)\n",
    "    loss = criterion(yhat,y)\n",
    "    loss.backward()\n",
    "    optimizer.step()\n",
    "    \n",
    "print(net.a,net.b)"
   ]
  },
  {
   "cell_type": "markdown",
   "metadata": {},
   "source": [
    "torch.nn.Linear is a predifined module following the one that we set above"
   ]
  },
  {
   "cell_type": "code",
   "execution_count": 24,
   "metadata": {},
   "outputs": [],
   "source": [
    "class Net(torch.nn.Module):\n",
    "\n",
    "    def __init__(self):\n",
    "        super().__init__()\n",
    "        self.linear = torch.nn.Linear(1, 1)\n",
    "\n",
    "    def forward(self, x):\n",
    "        yhat = self.linear(x.unsqueeze(1)).squeeze(1)\n",
    "        return yhat"
   ]
  },
  {
   "cell_type": "code",
   "execution_count": 25,
   "metadata": {},
   "outputs": [
    {
     "name": "stdout",
     "output_type": "stream",
     "text": [
      "Parameter containing:\n",
      "tensor([[-0.4532]], requires_grad=True)\n",
      "Parameter containing:\n",
      "tensor([0.6816], requires_grad=True)\n"
     ]
    }
   ],
   "source": [
    "net = Net()\n",
    "for p in net.parameters():\n",
    "    print(p)"
   ]
  },
  {
   "cell_type": "code",
   "execution_count": 26,
   "metadata": {},
   "outputs": [],
   "source": [
    "model = nn.Sequential(\n",
    "    nn.Linear(64,32),\n",
    "    nn.ReLU(),\n",
    "    nn.Linear(32,10),\n",
    ")"
   ]
  },
  {
   "cell_type": "markdown",
   "metadata": {},
   "source": [
    "# Broadcasting"
   ]
  },
  {
   "cell_type": "code",
   "execution_count": 27,
   "metadata": {},
   "outputs": [
    {
     "name": "stdout",
     "output_type": "stream",
     "text": [
      "1.0\n",
      "tensor([[2., 3.],\n",
      "        [5., 6.]])\n"
     ]
    }
   ],
   "source": [
    "a = torch.tensor([[1.,2.], [3.,4.]])\n",
    "print(a[0][0].item())\n",
    "\n",
    "b = torch.tensor([[1.],[2.]])\n",
    "\n",
    "c = a+b\n",
    "print(c)"
   ]
  },
  {
   "cell_type": "code",
   "execution_count": 28,
   "metadata": {},
   "outputs": [
    {
     "name": "stdout",
     "output_type": "stream",
     "text": [
      "tensor([[1., 1.],\n",
      "        [2., 2.]])\n"
     ]
    }
   ],
   "source": [
    "d = b.repeat([1,2])\n",
    "print(d)"
   ]
  },
  {
   "cell_type": "code",
   "execution_count": 29,
   "metadata": {},
   "outputs": [
    {
     "name": "stdout",
     "output_type": "stream",
     "text": [
      "torch.Size([5, 3, 6])\n",
      "torch.Size([5, 3, 5])\n",
      "torch.Size([5, 3, 11])\n",
      "torch.Size([5, 3, 10])\n"
     ]
    }
   ],
   "source": [
    "a = torch.rand([5,3,5])\n",
    "b = torch.rand([5,1,6])\n",
    "\n",
    "linear = nn.Linear(11,10)\n",
    "\n",
    "tiled_b = b.repeat([1,3,1])\n",
    "print(tiled_b.size())\n",
    "\n",
    "c = torch.cat([a,tiled_b],2)\n",
    "print(a.size())\n",
    "print(c.size())\n",
    "\n",
    "d = nn.functional.relu(linear(c))\n",
    "print(d.shape)"
   ]
  },
  {
   "cell_type": "code",
   "execution_count": 30,
   "metadata": {},
   "outputs": [
    {
     "name": "stdout",
     "output_type": "stream",
     "text": [
      "tensor([0.1019, 0.8310, 0.5774, 0.6921, 0.6067])\n",
      "tensor([0.4334, 0.4603, 0.3950, 0.1296, 0.4351, 0.4713])\n",
      "tensor([0.1019, 0.8310, 0.5774, 0.6921, 0.6067, 0.4334, 0.4603, 0.3950, 0.1296,\n",
      "        0.4351, 0.4713])\n"
     ]
    }
   ],
   "source": [
    "print(a[0][0])\n",
    "print(tiled_b[0][0])\n",
    "print(c[0][0])"
   ]
  },
  {
   "cell_type": "markdown",
   "metadata": {},
   "source": [
    "But this can be done more efficiently with broadcasting. We use the fact that f(m(x + y)) is equal to f(mx + my). So we can do the linear operations separately and use broadcasting to do implicit concatenation:"
   ]
  },
  {
   "cell_type": "code",
   "execution_count": 32,
   "metadata": {},
   "outputs": [
    {
     "name": "stdout",
     "output_type": "stream",
     "text": [
      "torch.Size([5, 3, 10])\n"
     ]
    }
   ],
   "source": [
    "a = torch.rand([5,3,5])\n",
    "b = torch.rand([5,1,6])\n",
    "\n",
    "linear1= nn.Linear(5,10)\n",
    "linear2 = nn.Linear(6,10)\n",
    "\n",
    "pa = linear1(a)\n",
    "pb = linear2(b)\n",
    "d = nn.functional.relu(pa+pb)\n",
    "\n",
    "print(d.shape)\n"
   ]
  },
  {
   "cell_type": "code",
   "execution_count": 33,
   "metadata": {},
   "outputs": [],
   "source": [
    "class Merge(torch.nn.Module):\n",
    "    def __init__(self, in_features1, in_features2, out_features, activation=None):\n",
    "        super().__init__()\n",
    "        self.linear1 = nn.Linear(in_features1, out_features)\n",
    "        self.linear2= nn.Linear(in_features2, out_features)\n",
    "        self.activation = activation\n",
    "    \n",
    "    def forward(self,a,b):\n",
    "        pa = self.linear1(a)\n",
    "        pb = self.linear2(b)\n",
    "        c = pa + pb\n",
    "        if self.activation is not None:\n",
    "            c = self.activation(c)\n",
    "        return c"
   ]
  },
  {
   "cell_type": "code",
   "execution_count": 34,
   "metadata": {},
   "outputs": [
    {
     "name": "stdout",
     "output_type": "stream",
     "text": [
      "tensor([5., 7.])\n"
     ]
    }
   ],
   "source": [
    "a = torch.tensor([[1.],[2.]])\n",
    "b = torch.tensor([1.,2.])\n",
    "c= torch.sum(a+b,0)\n",
    "print(c)"
   ]
  },
  {
   "cell_type": "markdown",
   "metadata": {},
   "source": [
    "# overloaded operators"
   ]
  },
  {
   "cell_type": "code",
   "execution_count": 37,
   "metadata": {},
   "outputs": [
    {
     "name": "stdout",
     "output_type": "stream",
     "text": [
      "Took 0.002921 seconds.\n"
     ]
    }
   ],
   "source": [
    "import time\n",
    "\n",
    "x = torch.rand([500,10])\n",
    "z = torch.zeros([10])\n",
    "\n",
    "start = time.time()\n",
    "for i in range(500):\n",
    "    z += x[i]\n",
    "    \n",
    "print(\"Took %f seconds.\" % (time.time() - start))"
   ]
  },
  {
   "cell_type": "code",
   "execution_count": 40,
   "metadata": {},
   "outputs": [],
   "source": [
    "z = torch.zeros([10])\n",
    "for x_i in torch.unbind(x):\n",
    "    z += x_i"
   ]
  },
  {
   "cell_type": "code",
   "execution_count": 50,
   "metadata": {},
   "outputs": [
    {
     "data": {
      "text/plain": [
       "tensor([0.7614, 0.5941, 0.9495, 0.7423, 0.7682, 0.1433, 0.0231, 0.0969, 0.0549,\n",
       "        0.8405])"
      ]
     },
     "execution_count": 50,
     "metadata": {},
     "output_type": "execute_result"
    }
   ],
   "source": []
  },
  {
   "cell_type": "code",
   "execution_count": 48,
   "metadata": {},
   "outputs": [
    {
     "data": {
      "text/plain": [
       "tensor(244.8913)"
      ]
     },
     "execution_count": 48,
     "metadata": {},
     "output_type": "execute_result"
    }
   ],
   "source": [
    "z = torch.sum(x,dim=0)\n",
    "z[0]"
   ]
  },
  {
   "cell_type": "code",
   "execution_count": 59,
   "metadata": {},
   "outputs": [
    {
     "name": "stdout",
     "output_type": "stream",
     "text": [
      "tensor([[1, 2, 3],\n",
      "        [4, 5, 6]])\n",
      "tensor([5, 7, 9])\n",
      "tensor([1, 2, 3]) tensor([4, 5, 6])\n",
      "tensor([ 6, 15])\n"
     ]
    }
   ],
   "source": [
    "a = torch.tensor([[1, 2, 3], [4, 5, 6]])\n",
    "print(a)\n",
    "b = torch.sum(a,0)\n",
    "print(b)\n",
    "print(a[0],a[1])\n",
    "c = torch.sum(a,1)\n",
    "print(c)"
   ]
  },
  {
   "cell_type": "code",
   "execution_count": null,
   "metadata": {},
   "outputs": [],
   "source": []
  }
 ],
 "metadata": {
  "kernelspec": {
   "display_name": "python3.10",
   "language": "python",
   "name": "python3"
  },
  "language_info": {
   "codemirror_mode": {
    "name": "ipython",
    "version": 3
   },
   "file_extension": ".py",
   "mimetype": "text/x-python",
   "name": "python",
   "nbconvert_exporter": "python",
   "pygments_lexer": "ipython3",
   "version": "3.10.14"
  }
 },
 "nbformat": 4,
 "nbformat_minor": 2
}

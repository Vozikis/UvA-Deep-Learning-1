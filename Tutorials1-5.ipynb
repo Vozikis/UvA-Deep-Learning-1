{
 "cells": [
  {
   "cell_type": "code",
   "execution_count": 30,
   "metadata": {},
   "outputs": [
    {
     "name": "stdout",
     "output_type": "stream",
     "text": [
      "Using torch 2.5.0.dev20240702\n"
     ]
    }
   ],
   "source": [
    "import torch\n",
    "import numpy as np  \n",
    "import torch.nn.functional as F\n",
    "print(\"Using torch\", torch.__version__)"
   ]
  },
  {
   "cell_type": "code",
   "execution_count": 31,
   "metadata": {},
   "outputs": [
    {
     "data": {
      "text/plain": [
       "<torch._C.Generator at 0x115e59010>"
      ]
     },
     "execution_count": 31,
     "metadata": {},
     "output_type": "execute_result"
    }
   ],
   "source": [
    "torch.manual_seed(42)"
   ]
  },
  {
   "cell_type": "code",
   "execution_count": 32,
   "metadata": {},
   "outputs": [
    {
     "name": "stdout",
     "output_type": "stream",
     "text": [
      "tensor([[1, 2, 3],\n",
      "        [4, 5, 6]])\n"
     ]
    }
   ],
   "source": [
    "np_arr = np.array([[1, 2, 3], [4, 5, 6]])\n",
    "torch_arr = torch.from_numpy(np_arr)\n",
    "print(torch_arr)"
   ]
  },
  {
   "cell_type": "code",
   "execution_count": 33,
   "metadata": {},
   "outputs": [
    {
     "name": "stdout",
     "output_type": "stream",
     "text": [
      "[[1 2 3]\n",
      " [4 5 6]]\n",
      "<class 'numpy.ndarray'>\n"
     ]
    }
   ],
   "source": [
    "np_arr = torch_arr.numpy()\n",
    "print(np_arr)\n",
    "print(type(np_arr))"
   ]
  },
  {
   "cell_type": "code",
   "execution_count": 34,
   "metadata": {},
   "outputs": [
    {
     "name": "stdout",
     "output_type": "stream",
     "text": [
      "X1 tensor([[0.8823, 0.9150, 0.3829],\n",
      "        [0.9593, 0.3904, 0.6009]])\n",
      "X2 tensor([[0.2566, 0.7936, 0.9408],\n",
      "        [0.1332, 0.9346, 0.5936]])\n",
      "Y tensor([[1.1388, 1.7086, 1.3236],\n",
      "        [1.0925, 1.3250, 1.1945]])\n"
     ]
    }
   ],
   "source": [
    "x1 = torch.rand(2, 3)\n",
    "x2 = torch.rand(2, 3)\n",
    "y = x1 + x2\n",
    "\n",
    "print(\"X1\", x1)\n",
    "print(\"X2\", x2)\n",
    "print(\"Y\", y)"
   ]
  },
  {
   "cell_type": "markdown",
   "metadata": {},
   "source": [
    "inplace"
   ]
  },
  {
   "cell_type": "code",
   "execution_count": 35,
   "metadata": {},
   "outputs": [
    {
     "data": {
      "text/plain": [
       "tensor([[1.1388, 1.7086, 1.3236],\n",
       "        [1.0925, 1.3250, 1.1945]])"
      ]
     },
     "execution_count": 35,
     "metadata": {},
     "output_type": "execute_result"
    }
   ],
   "source": [
    "x2.add_(x1)"
   ]
  },
  {
   "cell_type": "code",
   "execution_count": 36,
   "metadata": {},
   "outputs": [
    {
     "name": "stdout",
     "output_type": "stream",
     "text": [
      "tensor([[0, 1, 2],\n",
      "        [3, 4, 5]])\n"
     ]
    }
   ],
   "source": [
    "x = torch.arange(6)\n",
    "x = x.view(2,3)\n",
    "print(x)"
   ]
  },
  {
   "cell_type": "code",
   "execution_count": 37,
   "metadata": {},
   "outputs": [
    {
     "name": "stdout",
     "output_type": "stream",
     "text": [
      "tensor([[0, 3],\n",
      "        [1, 4],\n",
      "        [2, 5]])\n"
     ]
    }
   ],
   "source": [
    "x = x.permute(1,0)\n",
    "print(x)"
   ]
  },
  {
   "cell_type": "code",
   "execution_count": 38,
   "metadata": {},
   "outputs": [],
   "source": [
    "from torchvision.datasets import  FashionMNIST\n",
    "from torchvision import transforms\n",
    "import torch.utils.data as data\n"
   ]
  },
  {
   "cell_type": "code",
   "execution_count": 39,
   "metadata": {},
   "outputs": [],
   "source": [
    "transform = transforms.Compose([\n",
    "    transforms.ToTensor(),\n",
    "    transforms.Normalize((0.2861,), (0.3530,))\n",
    "])\n",
    "\n",
    "trainset = FashionMNIST(root='./data', train=True,\n",
    "                                        download=True, transform=transform)\n",
    "trainset, valset = torch.utils.data.random_split(trainset, [50000, 10000])\n",
    "testset = FashionMNIST(root='./data', train=False,\n",
    "                                        download=True, transform=transform)\n",
    "trainloader = torch.utils.data.DataLoader(trainset, batch_size=64,\n",
    "                                          shuffle=True, num_workers=2)\n",
    "valloader = torch.utils.data.DataLoader(valset, batch_size=64,\n",
    "                                        shuffle=False, num_workers=2)\n",
    "\n",
    "\n",
    "testloader = torch.utils.data.DataLoader(testset,\n",
    "                                         batch_size=64, shuffle=False,\n",
    "                                         num_workers=2)"
   ]
  },
  {
   "cell_type": "code",
   "execution_count": 40,
   "metadata": {},
   "outputs": [
    {
     "name": "stdout",
     "output_type": "stream",
     "text": [
      "Mean: -0.045\n",
      "Standard deviation: 0.956\n",
      "Maximum: 2.022\n",
      "Minimum: -0.810\n"
     ]
    }
   ],
   "source": [
    "imgs, _ = next(iter(trainloader))\n",
    "print(f\"Mean: {imgs.mean().item():5.3f}\")\n",
    "print(f\"Standard deviation: {imgs.std().item():5.3f}\")\n",
    "print(f\"Maximum: {imgs.max().item():5.3f}\")\n",
    "print(f\"Minimum: {imgs.min().item():5.3f}\")"
   ]
  },
  {
   "cell_type": "code",
   "execution_count": 41,
   "metadata": {},
   "outputs": [
    {
     "name": "stderr",
     "output_type": "stream",
     "text": [
      "Seed set to 42\n"
     ]
    },
    {
     "data": {
      "text/plain": [
       "42"
      ]
     },
     "execution_count": 41,
     "metadata": {},
     "output_type": "execute_result"
    }
   ],
   "source": [
    "import pytorch_lightning as pl\n",
    "pl.seed_everything(42)"
   ]
  },
  {
   "cell_type": "code",
   "execution_count": 42,
   "metadata": {},
   "outputs": [
    {
     "name": "stderr",
     "output_type": "stream",
     "text": [
      "/var/folders/f2/gq8xgm9x491cqwtct_tgpy0h0000gn/T/ipykernel_29267/4060246365.py:12: DeprecationWarning: `set_matplotlib_formats` is deprecated since IPython 7.23, directly use `matplotlib_inline.backend_inline.set_matplotlib_formats()`\n",
      "  set_matplotlib_formats('svg', 'pdf') # For export\n"
     ]
    }
   ],
   "source": [
    "## Standard libraries\n",
    "import os\n",
    "import numpy as np\n",
    "import random\n",
    "from PIL import Image\n",
    "from types import SimpleNamespace\n",
    "\n",
    "## Imports for plotting\n",
    "import matplotlib.pyplot as plt\n",
    "%matplotlib inline\n",
    "from IPython.display import set_matplotlib_formats\n",
    "set_matplotlib_formats('svg', 'pdf') # For export\n",
    "import matplotlib\n",
    "matplotlib.rcParams['lines.linewidth'] = 2.0\n",
    "import seaborn as sns\n",
    "sns.reset_orig()\n",
    "\n",
    "## PyTorch\n",
    "import torch\n",
    "import torch.nn as nn\n",
    "import torch.utils.data as data\n",
    "import torch.optim as optim\n",
    "# Torchvision\n",
    "import torchvision\n",
    "from torchvision.datasets import CIFAR10\n",
    "from torchvision import transforms"
   ]
  },
  {
   "cell_type": "code",
   "execution_count": 25,
   "metadata": {},
   "outputs": [],
   "source": []
  },
  {
   "cell_type": "code",
   "execution_count": 43,
   "metadata": {},
   "outputs": [],
   "source": [
    "# Path to the folder where the datasets are/should be downloaded (e.g. CIFAR10)\n",
    "DATASET_PATH = \"../data\"\n",
    "# Path to the folder where the pretrained models are saved\n",
    "CHECKPOINT_PATH = \"../saved_models/tutorial5\"\n",
    "\n",
    "# Function for setting the seed\n",
    "def set_seed(seed):\n",
    "    random.seed(seed)\n",
    "    np.random.seed(seed)\n",
    "    torch.manual_seed(seed)\n",
    "    if torch.cuda.is_available():\n",
    "        torch.cuda.manual_seed(seed)\n",
    "        torch.cuda.manual_seed_all(seed)\n",
    "set_seed(42)\n",
    "\n",
    "# Ensure that all operations are deterministic on GPU (if used) for reproducibility\n",
    "torch.backends.cudnn.deterministic = True\n",
    "torch.backends.cudnn.benchmark = False\n",
    "\n",
    "device = torch.device(\"cuda:0\") if torch.cuda.is_available() else torch.device(\"cpu\")"
   ]
  },
  {
   "cell_type": "code",
   "execution_count": 44,
   "metadata": {},
   "outputs": [],
   "source": [
    "import urllib.request\n",
    "from urllib.error import HTTPError\n",
    "# Github URL where saved models are stored for this tutorial\n",
    "base_url = \"https://raw.githubusercontent.com/phlippe/saved_models/main/tutorial5/\"\n",
    "# Files to download\n",
    "pretrained_files = [\"GoogleNet.ckpt\", \"ResNet.ckpt\", \"ResNetPreAct.ckpt\", \"DenseNet.ckpt\",\n",
    "                    \"tensorboards/GoogleNet/events.out.tfevents.googlenet\",\n",
    "                    \"tensorboards/ResNet/events.out.tfevents.resnet\",\n",
    "                    \"tensorboards/ResNetPreAct/events.out.tfevents.resnetpreact\",\n",
    "                    \"tensorboards/DenseNet/events.out.tfevents.densenet\"]\n",
    "# Create checkpoint path if it doesn't exist yet\n",
    "os.makedirs(CHECKPOINT_PATH, exist_ok=True)\n",
    "\n",
    "# For each file, check whether it already exists. If not, try downloading it.\n",
    "for file_name in pretrained_files:\n",
    "    file_path = os.path.join(CHECKPOINT_PATH, file_name)\n",
    "    if \"/\" in file_name:\n",
    "        os.makedirs(file_path.rsplit(\"/\",1)[0], exist_ok=True)\n",
    "    if not os.path.isfile(file_path):\n",
    "        file_url = base_url + file_name\n",
    "        print(f\"Downloading {file_url}...\")\n",
    "        try:\n",
    "            urllib.request.urlretrieve(file_url, file_path)\n",
    "        except HTTPError as e:\n",
    "            print(\"Something went wrong. Please try to download the file from the GDrive fo\")"
   ]
  },
  {
   "cell_type": "code",
   "execution_count": 45,
   "metadata": {},
   "outputs": [
    {
     "name": "stdout",
     "output_type": "stream",
     "text": [
      "Files already downloaded and verified\n",
      "Data mean [0.49139968 0.48215841 0.44653091]\n",
      "Data std [0.24703223 0.24348513 0.26158784]\n"
     ]
    }
   ],
   "source": [
    "train_dataset = CIFAR10(root=DATASET_PATH, train=True, download=True)\n",
    "DATA_MEANS = (train_dataset.data / 255.0).mean(axis=(0,1,2))\n",
    "DATA_STD = (train_dataset.data / 255.0).std(axis=(0,1,2))\n",
    "print(\"Data mean\", DATA_MEANS)\n",
    "print(\"Data std\", DATA_STD)"
   ]
  },
  {
   "cell_type": "code",
   "execution_count": 51,
   "metadata": {},
   "outputs": [
    {
     "name": "stdout",
     "output_type": "stream",
     "text": [
      "Files already downloaded and verified\n",
      "Files already downloaded and verified\n",
      "Files already downloaded and verified\n"
     ]
    }
   ],
   "source": [
    "train_transform = transforms.Compose([transforms.RandomHorizontalFlip(),\n",
    "                                      transforms.RandomResizedCrop((32,32), scale=(0.8,1.0), ratio=(0.9,1.1)),\n",
    "                                      transforms.ToTensor(),\n",
    "                                      transforms.Normalize(DATA_MEANS,DATA_STD)])\n",
    "\n",
    "test_transform = transforms.Compose([transforms.ToTensor(),\n",
    "                                     transforms.Normalize(DATA_MEANS,DATA_STD)])\n",
    "\n",
    "\n",
    "# This is a smart trick because we dont want the validation set to use the augmeneted data we used for the training set\n",
    "\n",
    "train_dataset = CIFAR10(root=DATASET_PATH, train=True, transform=train_transform, download=True)\n",
    "val_dataset = CIFAR10(root=DATASET_PATH, train=True, transform=test_transform, download=True)\n",
    "\n",
    "set_seed(42)\n",
    "train_set, _ = torch.utils.data.random_split(train_dataset, [45000, 5000])\n",
    "set_seed(42)\n",
    "_, val_set = torch.utils.data.random_split(val_dataset, [45000, 5000])\n",
    "\n",
    "test_set = CIFAR10(root=DATASET_PATH, train=False, transform=test_transform, download=True)\n",
    "\n",
    "BATCH_SIZE = 128\n",
    "\n",
    "train_loader = data.DataLoader(train_set, batch_size=BATCH_SIZE, shuffle=True, drop_last= True, pin_memory= True, num_workers=4)\n",
    "val_loader = data.DataLoader(val_set, batch_size=BATCH_SIZE, shuffle=False, num_workers=4)\n",
    "test_loader = data.DataLoader(test_set, batch_size=BATCH_SIZE, shuffle=False, num_workers=4)\n",
    "\n"
   ]
  },
  {
   "cell_type": "code",
   "execution_count": 54,
   "metadata": {},
   "outputs": [
    {
     "name": "stdout",
     "output_type": "stream",
     "text": [
      "Batch Mean tensor([ 0.0030, -0.0410, -0.0230])\n",
      "Batch Std tensor([1.0009, 1.0105, 1.0183])\n"
     ]
    }
   ],
   "source": [
    "#verifying that normalization works\n",
    "imgs, _ = next(iter(train_loader))\n",
    "print(\"Batch Mean\", imgs.mean(dim=[0,2,3]))\n",
    "print(\"Batch Std\", imgs.std(dim=[0,2,3]))"
   ]
  },
  {
   "cell_type": "code",
   "execution_count": 55,
   "metadata": {},
   "outputs": [
    {
     "data": {
      "application/pdf": "[encoded data removed]",
      "image/svg+xml": [
       "<?xml version=\"1.0\" encoding=\"utf-8\" standalone=\"no\"?>\n",
       "<!DOCTYPE svg PUBLIC \"-//W3C//DTD SVG 1.1//EN\"\n",
       "  \"http://www.w3.org/Graphics/SVG/1.1/DTD/svg11.dtd\">\n",
       "<svg xmlns:xlink=\"http://www.w3.org/1999/xlink\" width=\"460.8pt\" height=\"255.952908pt\" viewBox=\"0 0 460.8 255.952908\" xmlns=\"http://www.w3.org/2000/svg\" version=\"1.1\">\n",
       " <metadata>\n",
       "  <rdf:RDF xmlns:dc=\"http://purl.org/dc/elements/1.1/\" xmlns:cc=\"http://creativecommons.org/ns#\" xmlns:rdf=\"http://www.w3.org/1999/02/22-rdf-syntax-ns#\">\n",
       "   <cc:Work>\n",
       "    <dc:type rdf:resource=\"http://purl.org/dc/dcmitype/StillImage\"/>\n",
       "    <dc:date>2024-10-15T17:13:29.752564</dc:date>\n",
       "    <dc:format>image/svg+xml</dc:format>\n",
       "    <dc:creator>\n",
       "     <cc:Agent>\n",
       "      <dc:title>Matplotlib v3.9.0, https://matplotlib.org/</dc:title>\n",
       "     </cc:Agent>\n",
       "    </dc:creator>\n",
       "   </cc:Work>\n",
       "  </rdf:RDF>\n",
       " </metadata>\n",
       " <defs>\n",
       "  <style type=\"text/css\">*{stroke-linejoin: round; stroke-linecap: butt}</style>\n",
       " </defs>\n",
       " <g id=\"figure_1\">\n",
       "  <g id=\"patch_1\">\n",
       "   <path d=\"M 0 255.952908 \n",
       "L 460.8 255.952908 \n",
       "L 460.8 0 \n",
       "L 0 0 \n",
       "z\n",
       "\" style=\"fill: #ffffff\"/>\n",
       "  </g>\n",
       "  <g id=\"axes_1\">\n",
       "   <g clip-path=\"url(#p07c69b54e3)\">\n",
       "    <image xlink:href=\"data:image/png;base64,\n",
       "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\" id=\"image355fb0f8f6\" transform=\"scale(1 -1) translate(0 -226.8)\" x=\"7.2\" y=\"-21.952908\" width=\"446.4\" height=\"226.8\"/>\n",
       "   </g>\n",
       "   <g id=\"text_1\">\n",
       "    <!-- Augmentation examples on CIFAR10 -->\n",
       "    <g transform=\"translate(120.904687 16.318125) scale(0.12 -0.12)\">\n",
       "     <defs>\n",
       "      <path id=\"DejaVuSans-41\" d=\"M 2188 4044 \n",
       "L 1331 1722 \n",
       "L 3047 1722 \n",
       "L 2188 4044 \n",
       "z\n",
       "M 1831 4666 \n",
       "L 2547 4666 \n",
       "L 4325 0 \n",
       "L 3669 0 \n",
       "L 3244 1197 \n",
       "L 1141 1197 \n",
       "L 716 0 \n",
       "L 50 0 \n",
       "L 1831 4666 \n",
       "z\n",
       "\" transform=\"scale(0.015625)\"/>\n",
       "      <path id=\"DejaVuSans-75\" d=\"M 544 1381 \n",
       "L 544 3500 \n",
       "L 1119 3500 \n",
       "L 1119 1403 \n",
       "Q 1119 906 1312 657 \n",
       "Q 1506 409 1894 409 \n",
       "Q 2359 409 2629 706 \n",
       "Q 2900 1003 2900 1516 \n",
       "L 2900 3500 \n",
       "L 3475 3500 \n",
       "L 3475 0 \n",
       "L 2900 0 \n",
       "L 2900 538 \n",
       "Q 2691 219 2414 64 \n",
       "Q 2138 -91 1772 -91 \n",
       "Q 1169 -91 856 284 \n",
       "Q 544 659 544 1381 \n",
       "z\n",
       "M 1991 3584 \n",
       "L 1991 3584 \n",
       "z\n",
       "\" transform=\"scale(0.015625)\"/>\n",
       "      <path id=\"DejaVuSans-67\" d=\"M 2906 1791 \n",
       "Q 2906 2416 2648 2759 \n",
       "Q 2391 3103 1925 3103 \n",
       "Q 1463 3103 1205 2759 \n",
       "Q 947 2416 947 1791 \n",
       "Q 947 1169 1205 825 \n",
       "Q 1463 481 1925 481 \n",
       "Q 2391 481 2648 825 \n",
       "Q 2906 1169 2906 1791 \n",
       "z\n",
       "M 3481 434 \n",
       "Q 3481 -459 3084 -895 \n",
       "Q 2688 -1331 1869 -1331 \n",
       "Q 1566 -1331 1297 -1286 \n",
       "Q 1028 -1241 775 -1147 \n",
       "L 775 -588 \n",
       "Q 1028 -725 1275 -790 \n",
       "Q 1522 -856 1778 -856 \n",
       "Q 2344 -856 2625 -561 \n",
       "Q 2906 -266 2906 331 \n",
       "L 2906 616 \n",
       "Q 2728 306 2450 153 \n",
       "Q 2172 0 1784 0 \n",
       "Q 1141 0 747 490 \n",
       "Q 353 981 353 1791 \n",
       "Q 353 2603 747 3093 \n",
       "Q 1141 3584 1784 3584 \n",
       "Q 2172 3584 2450 3431 \n",
       "Q 2728 3278 2906 2969 \n",
       "L 2906 3500 \n",
       "L 3481 3500 \n",
       "L 3481 434 \n",
       "z\n",
       "\" transform=\"scale(0.015625)\"/>\n",
       "      <path id=\"DejaVuSans-6d\" d=\"M 3328 2828 \n",
       "Q 3544 3216 3844 3400 \n",
       "Q 4144 3584 4550 3584 \n",
       "Q 5097 3584 5394 3201 \n",
       "Q 5691 2819 5691 2113 \n",
       "L 5691 0 \n",
       "L 5113 0 \n",
       "L 5113 2094 \n",
       "Q 5113 2597 4934 2840 \n",
       "Q 4756 3084 4391 3084 \n",
       "Q 3944 3084 3684 2787 \n",
       "Q 3425 2491 3425 1978 \n",
       "L 3425 0 \n",
       "L 2847 0 \n",
       "L 2847 2094 \n",
       "Q 2847 2600 2669 2842 \n",
       "Q 2491 3084 2119 3084 \n",
       "Q 1678 3084 1418 2786 \n",
       "Q 1159 2488 1159 1978 \n",
       "L 1159 0 \n",
       "L 581 0 \n",
       "L 581 3500 \n",
       "L 1159 3500 \n",
       "L 1159 2956 \n",
       "Q 1356 3278 1631 3431 \n",
       "Q 1906 3584 2284 3584 \n",
       "Q 2666 3584 2933 3390 \n",
       "Q 3200 3197 3328 2828 \n",
       "z\n",
       "\" transform=\"scale(0.015625)\"/>\n",
       "      <path id=\"DejaVuSans-65\" d=\"M 3597 1894 \n",
       "L 3597 1613 \n",
       "L 953 1613 \n",
       "Q 991 1019 1311 708 \n",
       "Q 1631 397 2203 397 \n",
       "Q 2534 397 2845 478 \n",
       "Q 3156 559 3463 722 \n",
       "L 3463 178 \n",
       "Q 3153 47 2828 -22 \n",
       "Q 2503 -91 2169 -91 \n",
       "Q 1331 -91 842 396 \n",
       "Q 353 884 353 1716 \n",
       "Q 353 2575 817 3079 \n",
       "Q 1281 3584 2069 3584 \n",
       "Q 2775 3584 3186 3129 \n",
       "Q 3597 2675 3597 1894 \n",
       "z\n",
       "M 3022 2063 \n",
       "Q 3016 2534 2758 2815 \n",
       "Q 2500 3097 2075 3097 \n",
       "Q 1594 3097 1305 2825 \n",
       "Q 1016 2553 972 2059 \n",
       "L 3022 2063 \n",
       "z\n",
       "\" transform=\"scale(0.015625)\"/>\n",
       "      <path id=\"DejaVuSans-6e\" d=\"M 3513 2113 \n",
       "L 3513 0 \n",
       "L 2938 0 \n",
       "L 2938 2094 \n",
       "Q 2938 2591 2744 2837 \n",
       "Q 2550 3084 2163 3084 \n",
       "Q 1697 3084 1428 2787 \n",
       "Q 1159 2491 1159 1978 \n",
       "L 1159 0 \n",
       "L 581 0 \n",
       "L 581 3500 \n",
       "L 1159 3500 \n",
       "L 1159 2956 \n",
       "Q 1366 3272 1645 3428 \n",
       "Q 1925 3584 2291 3584 \n",
       "Q 2894 3584 3203 3211 \n",
       "Q 3513 2838 3513 2113 \n",
       "z\n",
       "\" transform=\"scale(0.015625)\"/>\n",
       "      <path id=\"DejaVuSans-74\" d=\"M 1172 4494 \n",
       "L 1172 3500 \n",
       "L 2356 3500 \n",
       "L 2356 3053 \n",
       "L 1172 3053 \n",
       "L 1172 1153 \n",
       "Q 1172 725 1289 603 \n",
       "Q 1406 481 1766 481 \n",
       "L 2356 481 \n",
       "L 2356 0 \n",
       "L 1766 0 \n",
       "Q 1100 0 847 248 \n",
       "Q 594 497 594 1153 \n",
       "L 594 3053 \n",
       "L 172 3053 \n",
       "L 172 3500 \n",
       "L 594 3500 \n",
       "L 594 4494 \n",
       "L 1172 4494 \n",
       "z\n",
       "\" transform=\"scale(0.015625)\"/>\n",
       "      <path id=\"DejaVuSans-61\" d=\"M 2194 1759 \n",
       "Q 1497 1759 1228 1600 \n",
       "Q 959 1441 959 1056 \n",
       "Q 959 750 1161 570 \n",
       "Q 1363 391 1709 391 \n",
       "Q 2188 391 2477 730 \n",
       "Q 2766 1069 2766 1631 \n",
       "L 2766 1759 \n",
       "L 2194 1759 \n",
       "z\n",
       "M 3341 1997 \n",
       "L 3341 0 \n",
       "L 2766 0 \n",
       "L 2766 531 \n",
       "Q 2569 213 2275 61 \n",
       "Q 1981 -91 1556 -91 \n",
       "Q 1019 -91 701 211 \n",
       "Q 384 513 384 1019 \n",
       "Q 384 1609 779 1909 \n",
       "Q 1175 2209 1959 2209 \n",
       "L 2766 2209 \n",
       "L 2766 2266 \n",
       "Q 2766 2663 2505 2880 \n",
       "Q 2244 3097 1772 3097 \n",
       "Q 1472 3097 1187 3025 \n",
       "Q 903 2953 641 2809 \n",
       "L 641 3341 \n",
       "Q 956 3463 1253 3523 \n",
       "Q 1550 3584 1831 3584 \n",
       "Q 2591 3584 2966 3190 \n",
       "Q 3341 2797 3341 1997 \n",
       "z\n",
       "\" transform=\"scale(0.015625)\"/>\n",
       "      <path id=\"DejaVuSans-69\" d=\"M 603 3500 \n",
       "L 1178 3500 \n",
       "L 1178 0 \n",
       "L 603 0 \n",
       "L 603 3500 \n",
       "z\n",
       "M 603 4863 \n",
       "L 1178 4863 \n",
       "L 1178 4134 \n",
       "L 603 4134 \n",
       "L 603 4863 \n",
       "z\n",
       "\" transform=\"scale(0.015625)\"/>\n",
       "      <path id=\"DejaVuSans-6f\" d=\"M 1959 3097 \n",
       "Q 1497 3097 1228 2736 \n",
       "Q 959 2375 959 1747 \n",
       "Q 959 1119 1226 758 \n",
       "Q 1494 397 1959 397 \n",
       "Q 2419 397 2687 759 \n",
       "Q 2956 1122 2956 1747 \n",
       "Q 2956 2369 2687 2733 \n",
       "Q 2419 3097 1959 3097 \n",
       "z\n",
       "M 1959 3584 \n",
       "Q 2709 3584 3137 3096 \n",
       "Q 3566 2609 3566 1747 \n",
       "Q 3566 888 3137 398 \n",
       "Q 2709 -91 1959 -91 \n",
       "Q 1206 -91 779 398 \n",
       "Q 353 888 353 1747 \n",
       "Q 353 2609 779 3096 \n",
       "Q 1206 3584 1959 3584 \n",
       "z\n",
       "\" transform=\"scale(0.015625)\"/>\n",
       "      <path id=\"DejaVuSans-20\" transform=\"scale(0.015625)\"/>\n",
       "      <path id=\"DejaVuSans-78\" d=\"M 3513 3500 \n",
       "L 2247 1797 \n",
       "L 3578 0 \n",
       "L 2900 0 \n",
       "L 1881 1375 \n",
       "L 863 0 \n",
       "L 184 0 \n",
       "L 1544 1831 \n",
       "L 300 3500 \n",
       "L 978 3500 \n",
       "L 1906 2253 \n",
       "L 2834 3500 \n",
       "L 3513 3500 \n",
       "z\n",
       "\" transform=\"scale(0.015625)\"/>\n",
       "      <path id=\"DejaVuSans-70\" d=\"M 1159 525 \n",
       "L 1159 -1331 \n",
       "L 581 -1331 \n",
       "L 581 3500 \n",
       "L 1159 3500 \n",
       "L 1159 2969 \n",
       "Q 1341 3281 1617 3432 \n",
       "Q 1894 3584 2278 3584 \n",
       "Q 2916 3584 3314 3078 \n",
       "Q 3713 2572 3713 1747 \n",
       "Q 3713 922 3314 415 \n",
       "Q 2916 -91 2278 -91 \n",
       "Q 1894 -91 1617 61 \n",
       "Q 1341 213 1159 525 \n",
       "z\n",
       "M 3116 1747 \n",
       "Q 3116 2381 2855 2742 \n",
       "Q 2594 3103 2138 3103 \n",
       "Q 1681 3103 1420 2742 \n",
       "Q 1159 2381 1159 1747 \n",
       "Q 1159 1113 1420 752 \n",
       "Q 1681 391 2138 391 \n",
       "Q 2594 391 2855 752 \n",
       "Q 3116 1113 3116 1747 \n",
       "z\n",
       "\" transform=\"scale(0.015625)\"/>\n",
       "      <path id=\"DejaVuSans-6c\" d=\"M 603 4863 \n",
       "L 1178 4863 \n",
       "L 1178 0 \n",
       "L 603 0 \n",
       "L 603 4863 \n",
       "z\n",
       "\" transform=\"scale(0.015625)\"/>\n",
       "      <path id=\"DejaVuSans-73\" d=\"M 2834 3397 \n",
       "L 2834 2853 \n",
       "Q 2591 2978 2328 3040 \n",
       "Q 2066 3103 1784 3103 \n",
       "Q 1356 3103 1142 2972 \n",
       "Q 928 2841 928 2578 \n",
       "Q 928 2378 1081 2264 \n",
       "Q 1234 2150 1697 2047 \n",
       "L 1894 2003 \n",
       "Q 2506 1872 2764 1633 \n",
       "Q 3022 1394 3022 966 \n",
       "Q 3022 478 2636 193 \n",
       "Q 2250 -91 1575 -91 \n",
       "Q 1294 -91 989 -36 \n",
       "Q 684 19 347 128 \n",
       "L 347 722 \n",
       "Q 666 556 975 473 \n",
       "Q 1284 391 1588 391 \n",
       "Q 1994 391 2212 530 \n",
       "Q 2431 669 2431 922 \n",
       "Q 2431 1156 2273 1281 \n",
       "Q 2116 1406 1581 1522 \n",
       "L 1381 1569 \n",
       "Q 847 1681 609 1914 \n",
       "Q 372 2147 372 2553 \n",
       "Q 372 3047 722 3315 \n",
       "Q 1072 3584 1716 3584 \n",
       "Q 2034 3584 2315 3537 \n",
       "Q 2597 3491 2834 3397 \n",
       "z\n",
       "\" transform=\"scale(0.015625)\"/>\n",
       "      <path id=\"DejaVuSans-43\" d=\"M 4122 4306 \n",
       "L 4122 3641 \n",
       "Q 3803 3938 3442 4084 \n",
       "Q 3081 4231 2675 4231 \n",
       "Q 1875 4231 1450 3742 \n",
       "Q 1025 3253 1025 2328 \n",
       "Q 1025 1406 1450 917 \n",
       "Q 1875 428 2675 428 \n",
       "Q 3081 428 3442 575 \n",
       "Q 3803 722 4122 1019 \n",
       "L 4122 359 \n",
       "Q 3791 134 3420 21 \n",
       "Q 3050 -91 2638 -91 \n",
       "Q 1578 -91 968 557 \n",
       "Q 359 1206 359 2328 \n",
       "Q 359 3453 968 4101 \n",
       "Q 1578 4750 2638 4750 \n",
       "Q 3056 4750 3426 4639 \n",
       "Q 3797 4528 4122 4306 \n",
       "z\n",
       "\" transform=\"scale(0.015625)\"/>\n",
       "      <path id=\"DejaVuSans-49\" d=\"M 628 4666 \n",
       "L 1259 4666 \n",
       "L 1259 0 \n",
       "L 628 0 \n",
       "L 628 4666 \n",
       "z\n",
       "\" transform=\"scale(0.015625)\"/>\n",
       "      <path id=\"DejaVuSans-46\" d=\"M 628 4666 \n",
       "L 3309 4666 \n",
       "L 3309 4134 \n",
       "L 1259 4134 \n",
       "L 1259 2759 \n",
       "L 3109 2759 \n",
       "L 3109 2228 \n",
       "L 1259 2228 \n",
       "L 1259 0 \n",
       "L 628 0 \n",
       "L 628 4666 \n",
       "z\n",
       "\" transform=\"scale(0.015625)\"/>\n",
       "      <path id=\"DejaVuSans-52\" d=\"M 2841 2188 \n",
       "Q 3044 2119 3236 1894 \n",
       "Q 3428 1669 3622 1275 \n",
       "L 4263 0 \n",
       "L 3584 0 \n",
       "L 2988 1197 \n",
       "Q 2756 1666 2539 1819 \n",
       "Q 2322 1972 1947 1972 \n",
       "L 1259 1972 \n",
       "L 1259 0 \n",
       "L 628 0 \n",
       "L 628 4666 \n",
       "L 2053 4666 \n",
       "Q 2853 4666 3247 4331 \n",
       "Q 3641 3997 3641 3322 \n",
       "Q 3641 2881 3436 2590 \n",
       "Q 3231 2300 2841 2188 \n",
       "z\n",
       "M 1259 4147 \n",
       "L 1259 2491 \n",
       "L 2053 2491 \n",
       "Q 2509 2491 2742 2702 \n",
       "Q 2975 2913 2975 3322 \n",
       "Q 2975 3731 2742 3939 \n",
       "Q 2509 4147 2053 4147 \n",
       "L 1259 4147 \n",
       "z\n",
       "\" transform=\"scale(0.015625)\"/>\n",
       "      <path id=\"DejaVuSans-31\" d=\"M 794 531 \n",
       "L 1825 531 \n",
       "L 1825 4091 \n",
       "L 703 3866 \n",
       "L 703 4441 \n",
       "L 1819 4666 \n",
       "L 2450 4666 \n",
       "L 2450 531 \n",
       "L 3481 531 \n",
       "L 3481 0 \n",
       "L 794 0 \n",
       "L 794 531 \n",
       "z\n",
       "\" transform=\"scale(0.015625)\"/>\n",
       "      <path id=\"DejaVuSans-30\" d=\"M 2034 4250 \n",
       "Q 1547 4250 1301 3770 \n",
       "Q 1056 3291 1056 2328 \n",
       "Q 1056 1369 1301 889 \n",
       "Q 1547 409 2034 409 \n",
       "Q 2525 409 2770 889 \n",
       "Q 3016 1369 3016 2328 \n",
       "Q 3016 3291 2770 3770 \n",
       "Q 2525 4250 2034 4250 \n",
       "z\n",
       "M 2034 4750 \n",
       "Q 2819 4750 3233 4129 \n",
       "Q 3647 3509 3647 2328 \n",
       "Q 3647 1150 3233 529 \n",
       "Q 2819 -91 2034 -91 \n",
       "Q 1250 -91 836 529 \n",
       "Q 422 1150 422 2328 \n",
       "Q 422 3509 836 4129 \n",
       "Q 1250 4750 2034 4750 \n",
       "z\n",
       "\" transform=\"scale(0.015625)\"/>\n",
       "     </defs>\n",
       "     <use xlink:href=\"#DejaVuSans-41\"/>\n",
       "     <use xlink:href=\"#DejaVuSans-75\" x=\"68.408203\"/>\n",
       "     <use xlink:href=\"#DejaVuSans-67\" x=\"131.787109\"/>\n",
       "     <use xlink:href=\"#DejaVuSans-6d\" x=\"195.263672\"/>\n",
       "     <use xlink:href=\"#DejaVuSans-65\" x=\"292.675781\"/>\n",
       "     <use xlink:href=\"#DejaVuSans-6e\" x=\"354.199219\"/>\n",
       "     <use xlink:href=\"#DejaVuSans-74\" x=\"417.578125\"/>\n",
       "     <use xlink:href=\"#DejaVuSans-61\" x=\"456.787109\"/>\n",
       "     <use xlink:href=\"#DejaVuSans-74\" x=\"518.066406\"/>\n",
       "     <use xlink:href=\"#DejaVuSans-69\" x=\"557.275391\"/>\n",
       "     <use xlink:href=\"#DejaVuSans-6f\" x=\"585.058594\"/>\n",
       "     <use xlink:href=\"#DejaVuSans-6e\" x=\"646.240234\"/>\n",
       "     <use xlink:href=\"#DejaVuSans-20\" x=\"709.619141\"/>\n",
       "     <use xlink:href=\"#DejaVuSans-65\" x=\"741.40625\"/>\n",
       "     <use xlink:href=\"#DejaVuSans-78\" x=\"801.179688\"/>\n",
       "     <use xlink:href=\"#DejaVuSans-61\" x=\"860.359375\"/>\n",
       "     <use xlink:href=\"#DejaVuSans-6d\" x=\"921.638672\"/>\n",
       "     <use xlink:href=\"#DejaVuSans-70\" x=\"1019.050781\"/>\n",
       "     <use xlink:href=\"#DejaVuSans-6c\" x=\"1082.527344\"/>\n",
       "     <use xlink:href=\"#DejaVuSans-65\" x=\"1110.310547\"/>\n",
       "     <use xlink:href=\"#DejaVuSans-73\" x=\"1171.833984\"/>\n",
       "     <use xlink:href=\"#DejaVuSans-20\" x=\"1223.933594\"/>\n",
       "     <use xlink:href=\"#DejaVuSans-6f\" x=\"1255.720703\"/>\n",
       "     <use xlink:href=\"#DejaVuSans-6e\" x=\"1316.902344\"/>\n",
       "     <use xlink:href=\"#DejaVuSans-20\" x=\"1380.28125\"/>\n",
       "     <use xlink:href=\"#DejaVuSans-43\" x=\"1412.068359\"/>\n",
       "     <use xlink:href=\"#DejaVuSans-49\" x=\"1481.892578\"/>\n",
       "     <use xlink:href=\"#DejaVuSans-46\" x=\"1511.384766\"/>\n",
       "     <use xlink:href=\"#DejaVuSans-41\" x=\"1559.779297\"/>\n",
       "     <use xlink:href=\"#DejaVuSans-52\" x=\"1628.1875\"/>\n",
       "     <use xlink:href=\"#DejaVuSans-31\" x=\"1697.669922\"/>\n",
       "     <use xlink:href=\"#DejaVuSans-30\" x=\"1761.292969\"/>\n",
       "    </g>\n",
       "   </g>\n",
       "  </g>\n",
       " </g>\n",
       " <defs>\n",
       "  <clipPath id=\"p07c69b54e3\">\n",
       "   <rect x=\"7.2\" y=\"22.318125\" width=\"446.4\" height=\"226.434783\"/>\n",
       "  </clipPath>\n",
       " </defs>\n",
       "</svg>\n"
      ],
      "text/plain": [
       "<Figure size 800x800 with 1 Axes>"
      ]
     },
     "metadata": {},
     "output_type": "display_data"
    }
   ],
   "source": [
    "NUM_IMAGES = 4\n",
    "images = [train_dataset[idx][0] for idx in range(NUM_IMAGES)]\n",
    "orig_images = [Image.fromarray(train_dataset.data[idx]) for idx in range(NUM_IMAGES)]\n",
    "orig_images = [test_transform(img) for img in orig_images]\n",
    "img_grid = torchvision.utils.make_grid(torch.stack(images + orig_images, dim=0), nrow=4, normalize=True, pad_value=0.5)\n",
    "img_grid = img_grid.permute(1, 2, 0)\n",
    "\n",
    "plt.figure(figsize=(8,8))\n",
    "plt.title(\"Augmentation examples on CIFAR10\")\n",
    "plt.imshow(img_grid)\n",
    "plt.axis('off')\n",
    "plt.show()\n",
    "plt.close()\n",
    "\n"
   ]
  },
  {
   "cell_type": "code",
   "execution_count": 56,
   "metadata": {},
   "outputs": [
    {
     "name": "stderr",
     "output_type": "stream",
     "text": [
      "Seed set to 42\n"
     ]
    },
    {
     "data": {
      "text/plain": [
       "42"
      ]
     },
     "execution_count": 56,
     "metadata": {},
     "output_type": "execute_result"
    }
   ],
   "source": [
    "import pytorch_lightning as pl\n",
    "pl.seed_everything(42)"
   ]
  },
  {
   "cell_type": "code",
   "execution_count": 57,
   "metadata": {},
   "outputs": [],
   "source": [
    "class  CIFARModule(pl.LightningModule):\n",
    "    def __init__(self, model_name, model_hparams, otpimizer_name, optimizer_hparams):\n",
    "        super().__init__()\n",
    "        \n",
    "        self.save_hyperparameters()\n",
    "        self.model = create_model(model_name, model_hparams)\n",
    "        self.loss_module = nn.CrossEntropyLoss()\n",
    "        self.example_input_array = torch.zeroes((1,3,32,32), dtype=torch.float32)\n",
    "        \n",
    "    def forward(self, imgs):\n",
    "        return self.model(imgs)\n",
    "    \n",
    "    def configure_optimizers(self):\n",
    "        \n",
    "        if self.haparams.optimizer_name == 'Adam':\n",
    "            optimizer = optim.Adam(self.parameters(), **self.hparams.optimizer_hparams)\n",
    "        elif self.haparams.optimizer_name == 'SGD':\n",
    "            optimizer = optim.SGD(self.parameters(), **self.hparams.optimizer_hparams)\n",
    "        else:\n",
    "            raise ValueError('Optimizer not recognized')\n",
    "        \n",
    "        scheduler = optim.lr_scheduler.MultistepLP( optimizer, milestones = [100,150], gamma = 0.1)\n",
    "        \n",
    "        return [optimizer], [scheduler]\n",
    "    \n",
    "    def training_step(self, batch, batch_idx):\n",
    "        imgs, labels = batch\n",
    "        preds = self.model(imgs)\n",
    "        loss = self.loss_module(preds, labels)\n",
    "        acc = (preds.argmax(dim=-1) == labels).float().mean()\n",
    "        \n",
    "        self.log('train_acc', acc, on_step = False, on_epoch = True, prog_bar = True)\n",
    "        self.log('train_loss', loss)\n",
    "        return loss\n",
    "    \n",
    "    def validation_step(self,batch, batch_idx):\n",
    "        imgs, labels = batch\n",
    "        preds = self.model(imgs).argmax(dim=-1)\n",
    "        acc = (preds == labels).float().mean()\n",
    "        self.log('val_acc', acc)\n",
    "        \n",
    "    def test_step(self, batch, batch_idx):\n",
    "        imgs, labels = batch\n",
    "        preds = self.model(imgs).argmax(dim=-1)\n",
    "        acc = (preds == labels).float().mean()\n",
    "        self.log('test_acc', acc)\n",
    "        "
   ]
  },
  {
   "cell_type": "markdown",
   "metadata": {},
   "source": [
    "Another important part of PyTorch Lightning is the concept of callbacks. Callbacks are self-contained functions that contain the non-essential logic of your Lightning Module. They are usually called after finishing a training epoch, but can also influence other parts of your training loop. For instance, we will use the following two pre-defined callbacks: LearningRateMonitor and ModelCheckpoint. The learning rate monitor adds the current learning rate to our TensorBoard, which helps to verify that our learning rate scheduler works correctly. The model checkpoint callback allows you to customize the saving routine of your checkpoints. For instance, how many checkpoints to keep, when to save, which metric to look out for, etc. We import them below:"
   ]
  },
  {
   "cell_type": "code",
   "execution_count": 58,
   "metadata": {},
   "outputs": [],
   "source": [
    "from pytorch_lightning.callbacks import ModelCheckpoint, LearningRateMonitor\n"
   ]
  },
  {
   "cell_type": "code",
   "execution_count": 59,
   "metadata": {},
   "outputs": [],
   "source": [
    "model_dict = {}\n",
    "\n",
    "def create_model(model_name, model_hparams):\n",
    "    if model_name in model_dict:\n",
    "        return model_dict[model_name](**model_hparams)\n",
    "    else:\n",
    "        assert False, f\"Unknown model name \\\"{model_name}\\\". Available models are: {str(model_dict.keys())}\""
   ]
  },
  {
   "cell_type": "code",
   "execution_count": 60,
   "metadata": {},
   "outputs": [],
   "source": [
    "act_fn_by_name = {\n",
    "    \"tanh\": nn.Tanh,\n",
    "    \"relu\": nn.ReLU,\n",
    "    \"leakyrelu\": nn.LeakyReLU,\n",
    "    \"gelu\": nn.GELU\n",
    "}"
   ]
  },
  {
   "cell_type": "code",
   "execution_count": null,
   "metadata": {},
   "outputs": [],
   "source": []
  }
 ],
 "metadata": {
  "kernelspec": {
   "display_name": "python3.10",
   "language": "python",
   "name": "python3"
  },
  "language_info": {
   "codemirror_mode": {
    "name": "ipython",
    "version": 3
   },
   "file_extension": ".py",
   "mimetype": "text/x-python",
   "name": "python",
   "nbconvert_exporter": "python",
   "pygments_lexer": "ipython3",
   "version": "3.10.14"
  }
 },
 "nbformat": 4,
 "nbformat_minor": 2
}
